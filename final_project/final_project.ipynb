{
  "nbformat": 4,
  "nbformat_minor": 0,
  "metadata": {
    "colab": {
      "name": "final_project_recommender_systems.ipynb",
      "provenance": [],
      "collapsed_sections": [],
      "toc_visible": true
    },
    "kernelspec": {
      "name": "python3",
      "display_name": "Python 3"
    },
    "accelerator": "GPU",
    "widgets": {
      "application/vnd.jupyter.widget-state+json": {
        "279a9391119647198c2229143a08864b": {
          "model_module": "@jupyter-widgets/controls",
          "model_name": "HBoxModel",
          "state": {
            "_view_name": "HBoxView",
            "_dom_classes": [],
            "_model_name": "HBoxModel",
            "_view_module": "@jupyter-widgets/controls",
            "_model_module_version": "1.5.0",
            "_view_count": null,
            "_view_module_version": "1.5.0",
            "box_style": "",
            "layout": "IPY_MODEL_0172977884024fdbb5aa63a441cfd762",
            "_model_module": "@jupyter-widgets/controls",
            "children": [
              "IPY_MODEL_858c7d20addc468ca09b348fae1f779b",
              "IPY_MODEL_344ac45215ce43d8b65b8fa5b6898ce5"
            ]
          }
        },
        "0172977884024fdbb5aa63a441cfd762": {
          "model_module": "@jupyter-widgets/base",
          "model_name": "LayoutModel",
          "state": {
            "_view_name": "LayoutView",
            "grid_template_rows": null,
            "right": null,
            "justify_content": null,
            "_view_module": "@jupyter-widgets/base",
            "overflow": null,
            "_model_module_version": "1.2.0",
            "_view_count": null,
            "flex_flow": null,
            "width": null,
            "min_width": null,
            "border": null,
            "align_items": null,
            "bottom": null,
            "_model_module": "@jupyter-widgets/base",
            "top": null,
            "grid_column": null,
            "overflow_y": null,
            "overflow_x": null,
            "grid_auto_flow": null,
            "grid_area": null,
            "grid_template_columns": null,
            "flex": null,
            "_model_name": "LayoutModel",
            "justify_items": null,
            "grid_row": null,
            "max_height": null,
            "align_content": null,
            "visibility": null,
            "align_self": null,
            "height": null,
            "min_height": null,
            "padding": null,
            "grid_auto_rows": null,
            "grid_gap": null,
            "max_width": null,
            "order": null,
            "_view_module_version": "1.2.0",
            "grid_template_areas": null,
            "object_position": null,
            "object_fit": null,
            "grid_auto_columns": null,
            "margin": null,
            "display": null,
            "left": null
          }
        },
        "858c7d20addc468ca09b348fae1f779b": {
          "model_module": "@jupyter-widgets/controls",
          "model_name": "FloatProgressModel",
          "state": {
            "_view_name": "ProgressView",
            "style": "IPY_MODEL_a466f00a5822418ebf264a334bc2c144",
            "_dom_classes": [],
            "description": "100%",
            "_model_name": "FloatProgressModel",
            "bar_style": "success",
            "max": 15,
            "_view_module": "@jupyter-widgets/controls",
            "_model_module_version": "1.5.0",
            "value": 15,
            "_view_count": null,
            "_view_module_version": "1.5.0",
            "orientation": "horizontal",
            "min": 0,
            "description_tooltip": null,
            "_model_module": "@jupyter-widgets/controls",
            "layout": "IPY_MODEL_94890acddf5c4d33ace7507a07ce993e"
          }
        },
        "344ac45215ce43d8b65b8fa5b6898ce5": {
          "model_module": "@jupyter-widgets/controls",
          "model_name": "HTMLModel",
          "state": {
            "_view_name": "HTMLView",
            "style": "IPY_MODEL_83f2552d5bd74d3c9f783a5ccc3187c1",
            "_dom_classes": [],
            "description": "",
            "_model_name": "HTMLModel",
            "placeholder": "​",
            "_view_module": "@jupyter-widgets/controls",
            "_model_module_version": "1.5.0",
            "value": " 15/15 [00:00&lt;00:00, 51.31it/s]",
            "_view_count": null,
            "_view_module_version": "1.5.0",
            "description_tooltip": null,
            "_model_module": "@jupyter-widgets/controls",
            "layout": "IPY_MODEL_d731033fd77240fd88ec44f313029829"
          }
        },
        "a466f00a5822418ebf264a334bc2c144": {
          "model_module": "@jupyter-widgets/controls",
          "model_name": "ProgressStyleModel",
          "state": {
            "_view_name": "StyleView",
            "_model_name": "ProgressStyleModel",
            "description_width": "initial",
            "_view_module": "@jupyter-widgets/base",
            "_model_module_version": "1.5.0",
            "_view_count": null,
            "_view_module_version": "1.2.0",
            "bar_color": null,
            "_model_module": "@jupyter-widgets/controls"
          }
        },
        "94890acddf5c4d33ace7507a07ce993e": {
          "model_module": "@jupyter-widgets/base",
          "model_name": "LayoutModel",
          "state": {
            "_view_name": "LayoutView",
            "grid_template_rows": null,
            "right": null,
            "justify_content": null,
            "_view_module": "@jupyter-widgets/base",
            "overflow": null,
            "_model_module_version": "1.2.0",
            "_view_count": null,
            "flex_flow": null,
            "width": null,
            "min_width": null,
            "border": null,
            "align_items": null,
            "bottom": null,
            "_model_module": "@jupyter-widgets/base",
            "top": null,
            "grid_column": null,
            "overflow_y": null,
            "overflow_x": null,
            "grid_auto_flow": null,
            "grid_area": null,
            "grid_template_columns": null,
            "flex": null,
            "_model_name": "LayoutModel",
            "justify_items": null,
            "grid_row": null,
            "max_height": null,
            "align_content": null,
            "visibility": null,
            "align_self": null,
            "height": null,
            "min_height": null,
            "padding": null,
            "grid_auto_rows": null,
            "grid_gap": null,
            "max_width": null,
            "order": null,
            "_view_module_version": "1.2.0",
            "grid_template_areas": null,
            "object_position": null,
            "object_fit": null,
            "grid_auto_columns": null,
            "margin": null,
            "display": null,
            "left": null
          }
        },
        "83f2552d5bd74d3c9f783a5ccc3187c1": {
          "model_module": "@jupyter-widgets/controls",
          "model_name": "DescriptionStyleModel",
          "state": {
            "_view_name": "StyleView",
            "_model_name": "DescriptionStyleModel",
            "description_width": "",
            "_view_module": "@jupyter-widgets/base",
            "_model_module_version": "1.5.0",
            "_view_count": null,
            "_view_module_version": "1.2.0",
            "_model_module": "@jupyter-widgets/controls"
          }
        },
        "d731033fd77240fd88ec44f313029829": {
          "model_module": "@jupyter-widgets/base",
          "model_name": "LayoutModel",
          "state": {
            "_view_name": "LayoutView",
            "grid_template_rows": null,
            "right": null,
            "justify_content": null,
            "_view_module": "@jupyter-widgets/base",
            "overflow": null,
            "_model_module_version": "1.2.0",
            "_view_count": null,
            "flex_flow": null,
            "width": null,
            "min_width": null,
            "border": null,
            "align_items": null,
            "bottom": null,
            "_model_module": "@jupyter-widgets/base",
            "top": null,
            "grid_column": null,
            "overflow_y": null,
            "overflow_x": null,
            "grid_auto_flow": null,
            "grid_area": null,
            "grid_template_columns": null,
            "flex": null,
            "_model_name": "LayoutModel",
            "justify_items": null,
            "grid_row": null,
            "max_height": null,
            "align_content": null,
            "visibility": null,
            "align_self": null,
            "height": null,
            "min_height": null,
            "padding": null,
            "grid_auto_rows": null,
            "grid_gap": null,
            "max_width": null,
            "order": null,
            "_view_module_version": "1.2.0",
            "grid_template_areas": null,
            "object_position": null,
            "object_fit": null,
            "grid_auto_columns": null,
            "margin": null,
            "display": null,
            "left": null
          }
        },
        "5ea7b8244960479384f67816b5434872": {
          "model_module": "@jupyter-widgets/controls",
          "model_name": "HBoxModel",
          "state": {
            "_view_name": "HBoxView",
            "_dom_classes": [],
            "_model_name": "HBoxModel",
            "_view_module": "@jupyter-widgets/controls",
            "_model_module_version": "1.5.0",
            "_view_count": null,
            "_view_module_version": "1.5.0",
            "box_style": "",
            "layout": "IPY_MODEL_9e14ebabb8f14a5fabd5da5665a5fc68",
            "_model_module": "@jupyter-widgets/controls",
            "children": [
              "IPY_MODEL_c95c5691eab24c938914dcaf5ddc4209",
              "IPY_MODEL_c31b903a1bca42a9b4d07a11f7282675"
            ]
          }
        },
        "9e14ebabb8f14a5fabd5da5665a5fc68": {
          "model_module": "@jupyter-widgets/base",
          "model_name": "LayoutModel",
          "state": {
            "_view_name": "LayoutView",
            "grid_template_rows": null,
            "right": null,
            "justify_content": null,
            "_view_module": "@jupyter-widgets/base",
            "overflow": null,
            "_model_module_version": "1.2.0",
            "_view_count": null,
            "flex_flow": null,
            "width": null,
            "min_width": null,
            "border": null,
            "align_items": null,
            "bottom": null,
            "_model_module": "@jupyter-widgets/base",
            "top": null,
            "grid_column": null,
            "overflow_y": null,
            "overflow_x": null,
            "grid_auto_flow": null,
            "grid_area": null,
            "grid_template_columns": null,
            "flex": null,
            "_model_name": "LayoutModel",
            "justify_items": null,
            "grid_row": null,
            "max_height": null,
            "align_content": null,
            "visibility": null,
            "align_self": null,
            "height": null,
            "min_height": null,
            "padding": null,
            "grid_auto_rows": null,
            "grid_gap": null,
            "max_width": null,
            "order": null,
            "_view_module_version": "1.2.0",
            "grid_template_areas": null,
            "object_position": null,
            "object_fit": null,
            "grid_auto_columns": null,
            "margin": null,
            "display": null,
            "left": null
          }
        },
        "c95c5691eab24c938914dcaf5ddc4209": {
          "model_module": "@jupyter-widgets/controls",
          "model_name": "FloatProgressModel",
          "state": {
            "_view_name": "ProgressView",
            "style": "IPY_MODEL_413268a898e6451192870b59104e24e6",
            "_dom_classes": [],
            "description": "100%",
            "_model_name": "FloatProgressModel",
            "bar_style": "success",
            "max": 4001,
            "_view_module": "@jupyter-widgets/controls",
            "_model_module_version": "1.5.0",
            "value": 4001,
            "_view_count": null,
            "_view_module_version": "1.5.0",
            "orientation": "horizontal",
            "min": 0,
            "description_tooltip": null,
            "_model_module": "@jupyter-widgets/controls",
            "layout": "IPY_MODEL_81803ced5c7e4ffda86d1bf9efc84b38"
          }
        },
        "c31b903a1bca42a9b4d07a11f7282675": {
          "model_module": "@jupyter-widgets/controls",
          "model_name": "HTMLModel",
          "state": {
            "_view_name": "HTMLView",
            "style": "IPY_MODEL_c31b6405b7da48779a9909f1d3eb7dcf",
            "_dom_classes": [],
            "description": "",
            "_model_name": "HTMLModel",
            "placeholder": "​",
            "_view_module": "@jupyter-widgets/controls",
            "_model_module_version": "1.5.0",
            "value": " 4001/4001 [00:03&lt;00:00, 1284.66it/s]",
            "_view_count": null,
            "_view_module_version": "1.5.0",
            "description_tooltip": null,
            "_model_module": "@jupyter-widgets/controls",
            "layout": "IPY_MODEL_31c98ffb08724bf89c9cc3b75353bf66"
          }
        },
        "413268a898e6451192870b59104e24e6": {
          "model_module": "@jupyter-widgets/controls",
          "model_name": "ProgressStyleModel",
          "state": {
            "_view_name": "StyleView",
            "_model_name": "ProgressStyleModel",
            "description_width": "initial",
            "_view_module": "@jupyter-widgets/base",
            "_model_module_version": "1.5.0",
            "_view_count": null,
            "_view_module_version": "1.2.0",
            "bar_color": null,
            "_model_module": "@jupyter-widgets/controls"
          }
        },
        "81803ced5c7e4ffda86d1bf9efc84b38": {
          "model_module": "@jupyter-widgets/base",
          "model_name": "LayoutModel",
          "state": {
            "_view_name": "LayoutView",
            "grid_template_rows": null,
            "right": null,
            "justify_content": null,
            "_view_module": "@jupyter-widgets/base",
            "overflow": null,
            "_model_module_version": "1.2.0",
            "_view_count": null,
            "flex_flow": null,
            "width": null,
            "min_width": null,
            "border": null,
            "align_items": null,
            "bottom": null,
            "_model_module": "@jupyter-widgets/base",
            "top": null,
            "grid_column": null,
            "overflow_y": null,
            "overflow_x": null,
            "grid_auto_flow": null,
            "grid_area": null,
            "grid_template_columns": null,
            "flex": null,
            "_model_name": "LayoutModel",
            "justify_items": null,
            "grid_row": null,
            "max_height": null,
            "align_content": null,
            "visibility": null,
            "align_self": null,
            "height": null,
            "min_height": null,
            "padding": null,
            "grid_auto_rows": null,
            "grid_gap": null,
            "max_width": null,
            "order": null,
            "_view_module_version": "1.2.0",
            "grid_template_areas": null,
            "object_position": null,
            "object_fit": null,
            "grid_auto_columns": null,
            "margin": null,
            "display": null,
            "left": null
          }
        },
        "c31b6405b7da48779a9909f1d3eb7dcf": {
          "model_module": "@jupyter-widgets/controls",
          "model_name": "DescriptionStyleModel",
          "state": {
            "_view_name": "StyleView",
            "_model_name": "DescriptionStyleModel",
            "description_width": "",
            "_view_module": "@jupyter-widgets/base",
            "_model_module_version": "1.5.0",
            "_view_count": null,
            "_view_module_version": "1.2.0",
            "_model_module": "@jupyter-widgets/controls"
          }
        },
        "31c98ffb08724bf89c9cc3b75353bf66": {
          "model_module": "@jupyter-widgets/base",
          "model_name": "LayoutModel",
          "state": {
            "_view_name": "LayoutView",
            "grid_template_rows": null,
            "right": null,
            "justify_content": null,
            "_view_module": "@jupyter-widgets/base",
            "overflow": null,
            "_model_module_version": "1.2.0",
            "_view_count": null,
            "flex_flow": null,
            "width": null,
            "min_width": null,
            "border": null,
            "align_items": null,
            "bottom": null,
            "_model_module": "@jupyter-widgets/base",
            "top": null,
            "grid_column": null,
            "overflow_y": null,
            "overflow_x": null,
            "grid_auto_flow": null,
            "grid_area": null,
            "grid_template_columns": null,
            "flex": null,
            "_model_name": "LayoutModel",
            "justify_items": null,
            "grid_row": null,
            "max_height": null,
            "align_content": null,
            "visibility": null,
            "align_self": null,
            "height": null,
            "min_height": null,
            "padding": null,
            "grid_auto_rows": null,
            "grid_gap": null,
            "max_width": null,
            "order": null,
            "_view_module_version": "1.2.0",
            "grid_template_areas": null,
            "object_position": null,
            "object_fit": null,
            "grid_auto_columns": null,
            "margin": null,
            "display": null,
            "left": null
          }
        }
      }
    }
  },
  "cells": [
    {
      "cell_type": "markdown",
      "metadata": {
        "id": "pInPfWThAwBj"
      },
      "source": [
        "# Финальный проект \"Рекомендательные системы\""
      ]
    },
    {
      "cell_type": "markdown",
      "metadata": {
        "id": "a7qyxG5VAv6a"
      },
      "source": [
        "- Целевая метрика - money precision@5. Порог для уcпешной сдачи проекта money precision@5 > 20%\n",
        "\n",
        "Бизнес ограничения в топ-5 товарах:\n",
        "- Для каждого юзера 5 рекомендаций (иногда модели могут возвращать < 5)\n",
        "- **2 новых товара** (юзер никогда не покупал)\n",
        "- **1 дорогой товар, > 7 долларов** (price = sum(sales_value) / sum(quantity))\n",
        "- **Все товары из разных категорий** (категория - sub_commodity_desc)  \n",
        "- **Стоимость каждого рекомендованного товара > 1 доллара**  (price = sum(sales_value) / sum(quantity))\n",
        "- НЕТ ограничения на СТМ\n",
        "- Вам нужно добавить обрааботку холодных юзеров (рекомендовать им топ-5 популярных товаров)\n",
        "\n",
        "- Будет public тестовый датасет, на котором вы сможете измерять метрику\n",
        "- Также будет private тестовый датасет для измерения финального качества\n",
        "- НЕ обязательно использовать 2-ух уровневые рекоммендательные системы в проекте\n",
        "- Вы сдаете код проекта в виде github репозитория и .csv файл с рекомендациями. В .csv файле 2 столбца: user_id - (item_id1, item_id2, ..., item_id5)  "
      ]
    },
    {
      "cell_type": "markdown",
      "metadata": {
        "id": "RKj3fxXMliqc"
      },
      "source": [
        "**Установим необходимые библиотеки**"
      ]
    },
    {
      "cell_type": "code",
      "metadata": {
        "id": "vxnMeoDHBL-H",
        "outputId": "54e47075-4c51-4e1a-8fe7-9ac24f03c53e",
        "colab": {
          "base_uri": "https://localhost:8080/"
        }
      },
      "source": [
        "!pip install implicit"
      ],
      "execution_count": 1,
      "outputs": [
        {
          "output_type": "stream",
          "text": [
            "Requirement already satisfied: implicit in /usr/local/lib/python3.6/dist-packages (0.4.4)\n",
            "Requirement already satisfied: tqdm>=4.27 in /usr/local/lib/python3.6/dist-packages (from implicit) (4.41.1)\n",
            "Requirement already satisfied: scipy>=0.16 in /usr/local/lib/python3.6/dist-packages (from implicit) (1.4.1)\n",
            "Requirement already satisfied: numpy in /usr/local/lib/python3.6/dist-packages (from implicit) (1.18.5)\n"
          ],
          "name": "stdout"
        }
      ]
    },
    {
      "cell_type": "markdown",
      "metadata": {
        "id": "nzlvq06Sloga"
      },
      "source": [
        "**Подключим нужные библиотеки**"
      ]
    },
    {
      "cell_type": "code",
      "metadata": {
        "id": "maqFspgqgnm0"
      },
      "source": [
        "import pandas as pd\n",
        "import numpy as np\n",
        "\n",
        "import lightgbm\n",
        "from lightgbm import LGBMClassifier\n",
        "from scipy.sparse import csr_matrix\n",
        "\n",
        "from tqdm import tqdm\n",
        "tqdm.pandas()\n",
        "\n",
        "# Матричная факторизация\n",
        "from implicit.nearest_neighbours import ItemItemRecommender\n",
        "from implicit.nearest_neighbours import bm25_weight\n",
        "from implicit.als import AlternatingLeastSquares\n",
        "\n",
        "import warnings\n",
        "warnings.filterwarnings('ignore')"
      ],
      "execution_count": 2,
      "outputs": []
    },
    {
      "cell_type": "code",
      "metadata": {
        "id": "mEeTfIMjT2vx",
        "outputId": "cdfb2c71-9a4c-4ff8-8b25-1e3c1206293e",
        "colab": {
          "base_uri": "https://localhost:8080/",
          "height": 35
        }
      },
      "source": [
        "import implicit\n",
        "implicit.__version__"
      ],
      "execution_count": 3,
      "outputs": [
        {
          "output_type": "execute_result",
          "data": {
            "application/vnd.google.colaboratory.intrinsic+json": {
              "type": "string"
            },
            "text/plain": [
              "'0.4.4'"
            ]
          },
          "metadata": {
            "tags": []
          },
          "execution_count": 3
        }
      ]
    },
    {
      "cell_type": "code",
      "metadata": {
        "id": "O755adrfUgBf"
      },
      "source": [
        "pd.set_option('display.max_columns', None)"
      ],
      "execution_count": 4,
      "outputs": []
    },
    {
      "cell_type": "markdown",
      "metadata": {
        "id": "7aTmOVPjrzPf"
      },
      "source": [
        "**Подключим Гугл Диск**"
      ]
    },
    {
      "cell_type": "code",
      "metadata": {
        "id": "NcH0OvbIiAkv",
        "outputId": "b27bbd3e-795e-4a39-d636-7ba73cd4d9e5",
        "colab": {
          "base_uri": "https://localhost:8080/"
        }
      },
      "source": [
        "from google.colab import drive\n",
        "drive.mount('/content/drive')"
      ],
      "execution_count": 5,
      "outputs": [
        {
          "output_type": "stream",
          "text": [
            "Drive already mounted at /content/drive; to attempt to forcibly remount, call drive.mount(\"/content/drive\", force_remount=True).\n"
          ],
          "name": "stdout"
        }
      ]
    },
    {
      "cell_type": "markdown",
      "metadata": {
        "id": "bzuMsLR5rH92"
      },
      "source": [
        "**Добавим в проект написанные нами ранее полезные функции**"
      ]
    },
    {
      "cell_type": "code",
      "metadata": {
        "id": "VaUQwpHBiR3O"
      },
      "source": [
        "def prefilter_items(data, take_n_popular=5000, item_features=None):\n",
        "    # уберем самые популярные товары (их и так купят)\n",
        "    popularity = data.groupby('item_id')['user_id'].nunique().reset_index() / data['user_id'].nunique()\n",
        "    popularity.rename(columns={'user_id': 'share_unique_users'}, inplace=True)\n",
        "\n",
        "    top_popular = popularity[popularity['share_unique_users'] > 0.25].item_id.tolist()\n",
        "    data = data[~data['item_id'].isin(top_popular)]\n",
        "\n",
        "    # уберем самые НЕ популярные товары (их и так НЕ купят)\n",
        "    top_not_popular = popularity[popularity['share_unique_users'] < 0.03].item_id.tolist()\n",
        "    data = data[~data['item_id'].isin(top_not_popular)]\n",
        "\n",
        "    # уберем не интересные для рекомендаций категории (department)\n",
        "    if item_features is not None:\n",
        "        dep_size = pd.DataFrame(item_features. \\\n",
        "                                groupby('department')['item_id'].nunique(). \\\n",
        "                                sort_values(ascending=False)).reset_index()\n",
        "\n",
        "        dep_size.columns = ['department', 'n_items']\n",
        "        not_popular_departments = dep_size[dep_size['n_items'] < 180].department.tolist()\n",
        "        items_in_not_popular_departments = item_features[\n",
        "            item_features['department'].isin(not_popular_departments)].item_id.unique().tolist()\n",
        "\n",
        "        data = data[~data['item_id'].isin(items_in_not_popular_departments)]\n",
        "\n",
        "    # уберем товары, которые не продавались за последние 12 месяцев\n",
        "    data = data[data['week_no'] >= data['week_no'].max() - 12]\n",
        "\n",
        "    # уберем слишком дорогие товары\n",
        "    data['price'] = data['sales_value'] / (np.maximum(data['quantity'], 1))\n",
        "    data = data[data['price'] < 35]\n",
        "\n",
        "    # уберем слишком дешевые товары (на них не заработаем). 1 покупка из рассылок стоит 60 руб.\n",
        "    data = data[data['price'] > 1]\n",
        "\n",
        "    # возьмем топ по популярности\n",
        "    popularity = data.groupby('item_id')['quantity'].sum().reset_index()\n",
        "    popularity.rename(columns={'quantity': 'n_sold'}, inplace=True)\n",
        "\n",
        "    top = popularity.sort_values('n_sold', ascending=False).head(take_n_popular).item_id.tolist()\n",
        "\n",
        "    # заведем фиктивный item_id (если юзер покупал товары из топ-5000, то он \"купил\" такой товар)\n",
        "    data.loc[~data['item_id'].isin(top), 'item_id'] = 999999\n",
        "\n",
        "    return data"
      ],
      "execution_count": 6,
      "outputs": []
    },
    {
      "cell_type": "code",
      "metadata": {
        "id": "yHx5IsUBju47"
      },
      "source": [
        "def extend_user_item_new_features(data, train, recommender, item_features, user_features, \n",
        "                                  items_embeddings_df, users_embeddings_df, N=50):\n",
        "\n",
        "    target = get_targets_lvl_2(data, train, recommender, N)\n",
        "    user_features = generate_new_user_features(data, user_features, users_embeddings_df)\n",
        "    item_features = generate_new_item_features(data, item_features, items_embeddings_df)\n",
        "    item_features = data.merge(item_features, on='item_id', how='left')\n",
        "\n",
        "    output_data = item_features.merge(user_features, on='user_id', how='left')\n",
        "\n",
        "    # коэффициент количества покупок товаров в данной категории к среднему количеству покупок\n",
        "    count_perchases = output_data.groupby(['user_id', 'commodity_desc', 'week_no']).agg({'quantity': 'mean'}) \\\n",
        "        .reset_index().rename(columns={'quantity': 'count_purchases_week_dep'})\n",
        "\n",
        "    mean_count_perch = output_data.groupby(['commodity_desc', 'week_no']).agg({'quantity': 'sum'}) \\\n",
        "        .reset_index().rename(columns=({'quantity': 'mean_count_purchases_week_dep'}))\n",
        "\n",
        "    k = count_perchases.merge(mean_count_perch, on=['commodity_desc', 'week_no'], how='left')\n",
        "    k['count_purchases_week_mean'] = k['count_purchases_week_dep'] / k['mean_count_purchases_week_dep']\n",
        "    k = k[['user_id', 'commodity_desc', 'count_purchases_week_mean']]\n",
        "\n",
        "    tmp = k.groupby(['user_id', 'commodity_desc']).agg({'count_purchases_week_mean': 'mean'}) \\\n",
        "        .reset_index()\n",
        "\n",
        "    output_data = output_data.merge(tmp, on=['user_id', 'commodity_desc'], how='left')\n",
        "\n",
        "    # вычислим коэффициент отношения суммы покупок товаров в данной категории к средней сумме\n",
        "    count_perchases = output_data.groupby(['user_id', 'commodity_desc', 'week_no']).agg({'price': 'sum'}) \\\n",
        "        .reset_index().rename(columns={'price': 'price_week'})\n",
        "\n",
        "    mean_count_perch = output_data.groupby(['commodity_desc', 'week_no']).agg({'price': 'sum'}) \\\n",
        "        .reset_index().rename(columns=({'price': 'mean_price_week'}))\n",
        "\n",
        "    k = count_perchases.merge(mean_count_perch, on=['commodity_desc', 'week_no'], how='left')\n",
        "    k['sum_purchases_week_mean'] = k['price_week'] / k['mean_price_week']\n",
        "    k = k[['user_id', 'commodity_desc', 'sum_purchases_week_mean']]\n",
        "\n",
        "    tmp = k.groupby(['user_id', 'commodity_desc']).agg({'sum_purchases_week_mean': 'mean'}).reset_index()\n",
        "\n",
        "    output_data = output_data.merge(tmp, on=['user_id', 'commodity_desc'], how='left')\n",
        "    output_data = output_data.merge(target, on=['item_id', 'user_id'], how='left')\n",
        "\n",
        "    # заполним пустые ячейки нулями\n",
        "    output_data = output_data.fillna(0)\n",
        "\n",
        "    return output_data"
      ],
      "execution_count": 7,
      "outputs": []
    },
    {
      "cell_type": "code",
      "metadata": {
        "id": "QI97h64Rj27k"
      },
      "source": [
        "def get_targets_lvl_2(data, train, recommender, N):\n",
        "    '''Подготовка обучающего датасета, разбиение на X и y'''\n",
        "\n",
        "    users = pd.DataFrame(data['user_id'].unique())\n",
        "\n",
        "    users.columns = ['user_id']\n",
        "\n",
        "    train_users = train['user_id'].unique()\n",
        "    users = users[users['user_id'].isin(train_users)]\n",
        "\n",
        "    # составим рекомендации на основе собственных покупок\n",
        "    users['candidates'] = users['user_id'].apply(\n",
        "        lambda x: recommender.get_own_recommendations(x, N=N)\n",
        "    )\n",
        "\n",
        "    s = users.apply(\n",
        "        lambda x: pd.Series(x['candidates']), axis=1\n",
        "    ).stack().reset_index(level=1, drop=True)\n",
        "\n",
        "    s.name = 'item_id'\n",
        "\n",
        "    users = users.drop('candidates', axis=1).join(s)\n",
        "\n",
        "    users['flag'] = 1\n",
        "\n",
        "    targets = data[['user_id', 'item_id']].copy()\n",
        "    targets.head(3)\n",
        "\n",
        "    targets['target'] = 1\n",
        "\n",
        "    targets = users.merge(targets, on=['user_id', 'item_id'], how='left')\n",
        "\n",
        "    targets['target'].fillna(0, inplace=True)\n",
        "    targets.drop('flag', axis=1, inplace=True)\n",
        "\n",
        "    return targets"
      ],
      "execution_count": 8,
      "outputs": []
    },
    {
      "cell_type": "code",
      "metadata": {
        "id": "LugX73tTkFFL"
      },
      "source": [
        "def generate_new_user_features(data, user_feats, users_embeddings_df):\n",
        "    '''Создает новые признаки для пользователей'''\n",
        "\n",
        "    data['price'] = data['sales_value'] / data['quantity']\n",
        "    new_user_features = user_feats.merge(data, on='user_id', how='left')\n",
        "\n",
        "    # создадим эмбеддинги\n",
        "    user_feats = user_feats.merge(users_embeddings_df, how='left')\n",
        "\n",
        "    # стандартное время продажи\n",
        "    trans_time = new_user_features.groupby('user_id')['trans_time'].mean().reset_index()\n",
        "    trans_time.rename(columns={'trans_time': 'mean_time'}, inplace=True)\n",
        "    trans_time = trans_time.astype(np.float32)\n",
        "    user_feats = user_feats.merge(trans_time, how='left')\n",
        "\n",
        "    # возраст\n",
        "    user_feats['age'] = user_feats['age_desc'].replace(\n",
        "        {'65+': 65, '45-54': 50, '25-34': 30, '35-44': 40, '19-24': 22, '55-64': 60}\n",
        "    )\n",
        "    user_feats = user_feats.drop('age_desc', axis=1)\n",
        "\n",
        "    # доход\n",
        "    user_feats['income'] = user_feats['income_desc'].replace(\n",
        "        {'35-49K': 42,\n",
        "         '50-74K': 62,\n",
        "         '25-34K': 30,\n",
        "         '75-99K': 87,\n",
        "         'Under 15K': 15,\n",
        "         '100-124K': 112,\n",
        "         '15-24K': 20,\n",
        "         '125-149K': 137,\n",
        "         '150-174K': 162,\n",
        "         '250K+': 250,\n",
        "         '175-199K': 187,\n",
        "         '200-249K': 225}\n",
        "    )\n",
        "    user_feats = user_feats.drop('income_desc', axis=1)\n",
        "\n",
        "    # дети\n",
        "    user_feats['children'] = 0\n",
        "    user_feats.loc[(user_feats['kid_category_desc'] == '1'), 'children'] = 1\n",
        "    user_feats.loc[(user_feats['kid_category_desc'] == '2'), 'children'] = 2\n",
        "    user_feats.loc[(user_feats['kid_category_desc'] == '3'), 'children'] = 3\n",
        "    user_feats = user_feats.drop('kid_category_desc', axis=1)\n",
        "\n",
        "    # вычислим средний чек и средний чек в неделю\n",
        "    basket = new_user_features.groupby(['user_id'])['price'].sum().reset_index()\n",
        "\n",
        "    baskets = new_user_features.groupby('user_id')['basket_id'].count().reset_index()\n",
        "    baskets.rename(columns={'basket_id': 'baskets'}, inplace=True)\n",
        "\n",
        "    avr_basket = basket.merge(baskets)\n",
        "\n",
        "    avr_basket['avr_bask'] = avr_basket.price / avr_basket.baskets\n",
        "    avr_basket['sum_per_week'] = avr_basket.price / new_user_features.week_no.nunique()\n",
        "\n",
        "    avr_basket = avr_basket.drop(['price', 'baskets'], axis=1)\n",
        "    user_feats = user_feats.merge(avr_basket, how='left')\n",
        "\n",
        "    return user_feats"
      ],
      "execution_count": 9,
      "outputs": []
    },
    {
      "cell_type": "code",
      "metadata": {
        "id": "I0SL06BPkSCP"
      },
      "source": [
        "def generate_new_item_features(data, item_feats, items_embeddings_df):\n",
        "    '''Новые признаки для продуктов'''\n",
        "    new_feats = item_feats.merge(data, on='item_id', how='left')\n",
        "\n",
        "    # создадим эмбеддинги\n",
        "    item_feats = item_feats.merge(items_embeddings_df, how='left')\n",
        "\n",
        "    # обработаем manufacturer\n",
        "    not_popular_manufacturer = item_feats.manufacturer.value_counts()[item_feats.manufacturer.value_counts() < 40].index\n",
        "    item_feats.loc[item_feats.manufacturer.isin(not_popular_manufacturer), 'manufacturer'] = 999999999\n",
        "    item_feats.manufacturer = item_feats.manufacturer.astype('object')\n",
        "\n",
        "    # обработаем discount\n",
        "    mean_disc = new_feats.groupby('item_id')['coupon_disc'].mean().reset_index().sort_values('coupon_disc')\n",
        "    item_feats = item_feats.merge(mean_disc, on='item_id', how='left')\n",
        "\n",
        "    # вычислим среднее количество продаж товара в категории в неделю\n",
        "    items_in_dept = new_feats.groupby('department')['item_id'].count().reset_index().sort_values(\n",
        "        'item_id', ascending=False\n",
        "    )\n",
        "    items_in_dept.rename(columns={'item_id': 'items_in_department'}, inplace=True)\n",
        "\n",
        "    sales_count_per_dept = new_feats.groupby(['department'])['quantity'].count().reset_index().sort_values(\n",
        "        'quantity', ascending=False\n",
        "    )\n",
        "    sales_count_per_dept.rename(columns={'quantity': 'sales_count_per_dep'}, inplace=True)\n",
        "\n",
        "    items_in_dept = items_in_dept.merge(sales_count_per_dept, on='department')\n",
        "    items_in_dept['qnt_of_sales_per_item_per_dep_per_week'] = (\n",
        "            items_in_dept['sales_count_per_dep'] /\n",
        "            items_in_dept['items_in_department'] /\n",
        "            new_feats['week_no'].nunique()\n",
        "    )\n",
        "    items_in_dept = items_in_dept.drop(['items_in_department'], axis=1)\n",
        "    item_feats = item_feats.merge(items_in_dept, on=['department'], how='left')\n",
        "\n",
        "    # вычислим количество продаж и среднее количество продаж товара\n",
        "    item_qnt = new_feats.groupby(['item_id'])['quantity'].count().reset_index()\n",
        "    item_qnt.rename(columns={'quantity': 'quantity_of_sales'}, inplace=True)\n",
        "\n",
        "    item_qnt['sales_count_per_week'] = item_qnt['quantity_of_sales'] / new_feats['week_no'].nunique()\n",
        "    item_feats = item_feats.merge(item_qnt, on='item_id', how='left')\n",
        "\n",
        "    # обработаем sub_commodity_desc\n",
        "    items_in_dept = new_feats.groupby('sub_commodity_desc')['item_id'].count().reset_index().sort_values(\n",
        "        'item_id', ascending=False\n",
        "    )\n",
        "    items_in_dept.rename(columns={'item_id': 'items_in_sub_commodity_desc'}, inplace=True)\n",
        "\n",
        "    sales_count_per_dept = new_feats.groupby(['sub_commodity_desc'])[\n",
        "        'quantity'].count().reset_index().sort_values(\n",
        "        'quantity', ascending=False\n",
        "    )\n",
        "    sales_count_per_dept.rename(columns={'quantity': 'qnt_of_sales_per_sub_commodity_desc'}, inplace=True)\n",
        "\n",
        "    items_in_dept = items_in_dept.merge(sales_count_per_dept, on='sub_commodity_desc')\n",
        "    items_in_dept['qnt_of_sales_per_item_per_sub_commodity_desc_per_week'] = (\n",
        "            items_in_dept['qnt_of_sales_per_sub_commodity_desc'] /\n",
        "            items_in_dept['items_in_sub_commodity_desc'] /\n",
        "            new_feats['week_no'].nunique()\n",
        "    )\n",
        "    items_in_dept = items_in_dept.drop(['items_in_sub_commodity_desc'], axis=1)\n",
        "    item_feats = item_feats.merge(items_in_dept, on=['sub_commodity_desc'], how='left')\n",
        "\n",
        "    return item_feats"
      ],
      "execution_count": 10,
      "outputs": []
    },
    {
      "cell_type": "code",
      "metadata": {
        "id": "JUKFExiRknok"
      },
      "source": [
        "def generate_important_features(model, X_train, y_train):\n",
        "    '''Возвращает важные фичи'''\n",
        "\n",
        "    model.fit(X_train, y_train)\n",
        "    feat = list(zip(X_train.columns.tolist(), model.feature_importances_))\n",
        "    feat = pd.DataFrame(feat, columns=['feature', 'value'])\n",
        "    important_features = feat.loc[feat.value > 0, 'feature'].tolist()\n",
        "    \n",
        "    return important_features"
      ],
      "execution_count": 11,
      "outputs": []
    },
    {
      "cell_type": "code",
      "metadata": {
        "id": "vZy5WW7_lnIo"
      },
      "source": [
        "def generate_final_recs(X_test, test_preds_proba, val_2, data_train, item_features):\n",
        "    '''Возвращает финальный список рекомендованных товаров'''\n",
        "\n",
        "    X_test['predict_proba'] = test_preds_proba\n",
        "\n",
        "    X_test.sort_values(['user_id', 'predict_proba'], ascending=False, inplace=True)\n",
        "    recs = X_test.groupby('user_id')['item_id']\n",
        "    recs_lst = []\n",
        "    for user, preds in recs:\n",
        "        recs_lst.append({'user_id': user, 'recommendations': preds.tolist()})\n",
        "\n",
        "    recs_lst = pd.DataFrame(recs_lst)\n",
        "\n",
        "    res_2 = val_2.groupby('user_id')['item_id'].unique().reset_index()\n",
        "    res_2.columns = ['user_id', 'actual']\n",
        "\n",
        "    final_recommendations = res_2.merge(recs_lst, how='left')\n",
        "    final_recommendations['recommendations'] = final_recommendations['recommendations'].fillna(0)\n",
        "\n",
        "    price = data_train.groupby('item_id')['price'].mean().reset_index()\n",
        "\n",
        "    popularity_recs = generate_popularity_recommendations(data_train, n=500)\n",
        "    popularity_recs_lst = []\n",
        "    [popularity_recs_lst.append(item) for item in popularity_recs if price \\\n",
        "        .loc[price['item_id'] == item]['price'].values > 1]\n",
        "\n",
        "    final_recommendations['recommendations'] = final_recommendations.progress_apply \\\n",
        "        (lambda x: postfilter_items(x, item_info=item_features, data_train=data_train, price=price, \n",
        "            list_pop_rec=popularity_recs_lst, N=5), axis=1)\n",
        "\n",
        "    return final_recommendations"
      ],
      "execution_count": 12,
      "outputs": []
    },
    {
      "cell_type": "code",
      "metadata": {
        "id": "gReGHDasluDf"
      },
      "source": [
        "def generate_popularity_recommendations(data, n=5):\n",
        "    ''' Топ-n популярных товаров'''\n",
        "\n",
        "    popular_items = data.groupby('item_id')['quantity'].count().reset_index()\n",
        "    popular_items.sort_values('quantity', ascending=False, inplace=True)\n",
        "    popular_items = popular_items[popular_items['item_id'] != 999999]\n",
        "    \n",
        "    return popular_items.head(n).item_id.tolist()"
      ],
      "execution_count": 13,
      "outputs": []
    },
    {
      "cell_type": "code",
      "metadata": {
        "id": "1lLA8wqWl2JI"
      },
      "source": [
        "def postfilter_items(row, item_info, data_train, price, list_pop_rec, N=5):\n",
        "    \"\"\" Выполняет пост-фильтрацию товаров\n",
        "    Входные параметры\n",
        "    -----\n",
        "    row - строка датасета\n",
        "    item_info: pd.DataFrame - датафрейм с информацией о товарах\n",
        "    data_train: pd.DataFrame - обучающий датафрейм\n",
        "    \"\"\"\n",
        "    \n",
        "    rec = row['recommendations']\n",
        "    purch_goods = data_train.loc[data_train['user_id'] == row['user_id']]['item_id'].unique()\n",
        "\n",
        "    if rec == 0:\n",
        "        rec = list_pop_rec\n",
        "\n",
        "    # список уникальных рекомендаций\n",
        "    unique_recs = []\n",
        "    [unique_recs.append(item) for item in rec if item not in unique_recs]\n",
        "\n",
        "    # товары должны быть дороже $1\n",
        "    price_recommendations = []\n",
        "    [price_recommendations.append(item) for item in unique_recs if price \\\n",
        "        .loc[price['item_id'] == item]['price'].values > 1]\n",
        "\n",
        "    # один товар должен быть дороже $7\n",
        "    expensive_items = []\n",
        "    [expensive_items.append(item) for item in price_recommendations if price. \\\n",
        "        loc[price['item_id'] == item]['price'].values > 7]\n",
        "\n",
        "    if len(expensive_items) == 0:\n",
        "        [expensive_items.append(item) for item in list_pop_rec if price. \\\n",
        "            loc[price['item_id'] == item]['price'].values > 7]\n",
        "\n",
        "    # товар который юзер не покупал\n",
        "    new_items = []\n",
        "    [new_items.append(item) for item in price_recommendations if item not in purch_goods]\n",
        "\n",
        "    # промежуточный итог\n",
        "    recommendations = []\n",
        "    recommendations.append(expensive_items[0] if len(expensive_items) > 0 else list_pop_rec[0])\n",
        "    recommendations += new_items\n",
        "    recommendations = cat_filter(recommendations, item_info=item_info)[0:3]\n",
        "    recommendations += price_recommendations\n",
        "    output_recommendations = cat_filter(recommendations, item_info=item_info)\n",
        "\n",
        "    recs_count = len(output_recommendations)\n",
        "    if recs_count < N:\n",
        "        output_recommendations.extend(list_pop_rec[:N - recs_count])\n",
        "    else:\n",
        "        output_recommendations = output_recommendations[:N]\n",
        "\n",
        "    assert len(output_recommendations) == N, 'Кол-во рекомендаций != {}'.format(N)\n",
        "\n",
        "    return output_recommendations"
      ],
      "execution_count": 14,
      "outputs": []
    },
    {
      "cell_type": "code",
      "metadata": {
        "id": "sF3AwGE-l9Zj"
      },
      "source": [
        "def cat_filter(list_recommendations, item_info):\n",
        "    '''Получение списка товаров из уникальных категорий'''\n",
        "\n",
        "    output_recommendations = []\n",
        "\n",
        "    used_cats = []\n",
        "\n",
        "    for item in list_recommendations:\n",
        "        cat = item_info.loc[item_info['item_id'] == item, 'sub_commodity_desc'].values[0]\n",
        "\n",
        "        if cat not in used_cats:\n",
        "            output_recommendations.append(item)\n",
        "            used_cats.append(cat)\n",
        "\n",
        "    return output_recommendations"
      ],
      "execution_count": 15,
      "outputs": []
    },
    {
      "cell_type": "code",
      "metadata": {
        "id": "D1guYYISyQYK"
      },
      "source": [
        "def money_precision_at_k(recommended_list, bought_list, price, k=5):\n",
        "\n",
        "    bought_list = np.array(bought_list)\n",
        "    recommended_list = np.array(recommended_list[:k])\n",
        "\n",
        "    prices_recommended = []\n",
        "    [prices_recommended.append(price.loc[price['item_id'] == item]['price'].values) for item in\n",
        "     recommended_list]\n",
        "\n",
        "    prices_recommended = np.array(prices_recommended[:k])\n",
        "    flags = np.isin(recommended_list, bought_list)\n",
        "\n",
        "    return np.dot(flags, prices_recommended).sum() / prices_recommended.sum()"
      ],
      "execution_count": 16,
      "outputs": []
    },
    {
      "cell_type": "markdown",
      "metadata": {
        "id": "-kziOffTUKo_"
      },
      "source": [
        "**Класс MainRecommender**"
      ]
    },
    {
      "cell_type": "code",
      "metadata": {
        "id": "NcBHYPlsiRmr"
      },
      "source": [
        "class MainRecommender:\n",
        "    '''Рекоммендации, которые можно получить из ALS\n",
        "    Входные параметры\n",
        "    -----\n",
        "    user_item_matrix: pd.DataFrame - матрица взаимодействий user-item\n",
        "    '''\n",
        "\n",
        "    def __init__(self, data, weighting=True):\n",
        "\n",
        "        # топ покупок каждого юзера\n",
        "        self.top_purch = data.groupby(['user_id', 'item_id'])['quantity'].count().reset_index()\n",
        "        self.top_purch.sort_values('quantity', ascending=False, inplace=True)\n",
        "        self.top_purch = self.top_purch[self.top_purch['item_id'] != 999999]\n",
        "\n",
        "        # топ покупок по всему датасету\n",
        "        self.overall_top_purch = data.groupby('item_id')['quantity'].count().reset_index()\n",
        "        self.overall_top_purch.sort_values('quantity', ascending=False, inplace=True)\n",
        "        self.overall_top_purch = self.overall_top_purch[self.overall_top_purch['item_id'] != 999999]\n",
        "        self.overall_top_purch = self.overall_top_purch.item_id.tolist()\n",
        "\n",
        "        self.user_item_matrix = self._prepare_matrix(data)  # pd.DataFrame\n",
        "        self.id_to_itemid, self.id_to_userid, \\\n",
        "            self.itemid_to_id, self.userid_to_id = self._prepare_dicts(self.user_item_matrix)\n",
        "\n",
        "        if weighting:\n",
        "            self.user_item_matrix = bm25_weight(self.user_item_matrix.T).T\n",
        "\n",
        "        self.model = self.fit(self.user_item_matrix)\n",
        "        self.own_rec = self.fit_own_recommender(self.user_item_matrix)\n",
        "\n",
        "        self.item_factors = self.model.item_factors\n",
        "        self.user_factors = self.model.user_factors\n",
        "\n",
        "        self.items_embeddings_df, self.users_embeddings_df = self.get_embeddings(self)\n",
        "\n",
        "    @staticmethod\n",
        "    def get_embeddings(self):\n",
        "        items_embeddings = self.item_factors\n",
        "        items_embeddings_df = pd.DataFrame(items_embeddings)\n",
        "        items_embeddings_df.reset_index(inplace=True)\n",
        "        items_embeddings_df['item_id'] = items_embeddings_df['index'].apply(lambda x: self.id_to_itemid[x])\n",
        "        items_embeddings_df = items_embeddings_df.drop('index', axis=1)\n",
        "\n",
        "        users_embeddings = self.user_factors\n",
        "        users_embeddings_df = pd.DataFrame(users_embeddings)\n",
        "        users_embeddings_df.reset_index(inplace=True)\n",
        "        users_embeddings_df['user_id'] = users_embeddings_df['index'].apply(lambda x: self.id_to_userid[x])\n",
        "        users_embeddings_df = users_embeddings_df.drop('index', axis=1)\n",
        "\n",
        "        return items_embeddings_df, users_embeddings_df\n",
        "\n",
        "    @staticmethod\n",
        "    def _prepare_matrix(data):\n",
        "        '''Готовит user-item матрицу'''\n",
        "        user_item_matrix = pd.pivot_table(data,\n",
        "                                          index='user_id', columns='item_id',\n",
        "                                          values='quantity',  # можно пробовать другие варианты\n",
        "                                          aggfunc='count',\n",
        "                                          fill_value=0\n",
        "                                          )\n",
        "\n",
        "        user_item_matrix = user_item_matrix.astype(float)  # необходимый тип матрицы для implicit\n",
        "\n",
        "        return user_item_matrix\n",
        "\n",
        "    @staticmethod\n",
        "    def _prepare_dicts(user_item_matrix):\n",
        "        '''Подготавливает вспомогательные словари'''\n",
        "\n",
        "        user_ids = user_item_matrix.index.values\n",
        "        item_ids = user_item_matrix.columns.values\n",
        "\n",
        "        matrix_user_ids = np.arange(len(user_ids))\n",
        "        matrix_item_ids = np.arange(len(item_ids))\n",
        "\n",
        "        id_to_item_id = dict(zip(matrix_item_ids, item_ids))\n",
        "        id_to_user_id = dict(zip(matrix_user_ids, user_ids))\n",
        "\n",
        "        itemid_to_id = dict(zip(item_ids, matrix_item_ids))\n",
        "        userid_to_id = dict(zip(user_ids, matrix_user_ids))\n",
        "\n",
        "        return id_to_item_id, id_to_user_id, itemid_to_id, userid_to_id\n",
        "\n",
        "    @staticmethod\n",
        "    def fit_own_recommender(user_item_matrix):\n",
        "        '''Обучает модель, которая рекомендует товары, среди товаров, купленных юзером'''\n",
        "\n",
        "        own_rec = ItemItemRecommender(K=1, num_threads=4)\n",
        "        own_rec.fit(csr_matrix(user_item_matrix).T.tocsr())\n",
        "\n",
        "        return own_rec\n",
        "\n",
        "    @staticmethod\n",
        "    def fit(user_item_matrix, n_factors=20, regularization=0.001, iterations=15, num_threads=4):\n",
        "        '''Обучает ALS'''\n",
        "\n",
        "        model = AlternatingLeastSquares(factors=n_factors,\n",
        "                                        regularization=regularization,\n",
        "                                        iterations=iterations,\n",
        "                                        num_threads=num_threads)\n",
        "        model.fit(csr_matrix(user_item_matrix).T.tocsr())\n",
        "\n",
        "        return model\n",
        "\n",
        "    def _update_dict(self, user_id):\n",
        "        '''Если появился новыю user/item, то нужно обновить словари'''\n",
        "\n",
        "        if user_id not in self.userid_to_id.keys():\n",
        "\n",
        "            max_id = max(list(self.userid_to_id.values()))\n",
        "            max_id += 1\n",
        "\n",
        "            self.userid_to_id.update({user_id: max_id})\n",
        "            self.id_to_userid.update({max_id: user_id})\n",
        "\n",
        "    def _get_similar_item(self, item_id):\n",
        "        '''Находит товар, похожий на item_id'''\n",
        "\n",
        "        recs = self.model.similar_items(self.itemid_to_id[item_id], N=2)  # товар похож на себя -> рекомендуем 2 товара\n",
        "        top_rec = recs[1][0]  # и берем второй (не товар из аргумента метода)\n",
        "        return self.id_to_itemid[top_rec]\n",
        "\n",
        "    def _extend_with_top_popular(self, recs, N=5):\n",
        "        '''Если кол-во рекоммендаций < N, то дополняем их топ-популярными'''\n",
        "\n",
        "        if len(recs) < N:\n",
        "            recs.extend(self.overall_top_purch[:N])\n",
        "            recs = recs[:N]\n",
        "\n",
        "        return recs\n",
        "\n",
        "    def _get_recommendations(self, user, model, N=5):\n",
        "        '''Рекомендации через стардартные библиотеки implicit'''\n",
        "\n",
        "        try:\n",
        "            res = [self.id_to_itemid[rec[0]] for rec in\n",
        "                   model.recommend(userid=self.userid_to_id[user],\n",
        "                                   user_items=csr_matrix(self.user_item_matrix).tocsr(),  # на вход user-item matrix\n",
        "                                   N=N,\n",
        "                                   filter_already_liked_items=False,\n",
        "                                   filter_items=[self.itemid_to_id[999999]],\n",
        "                                   recalculate_user=True)]\n",
        "            res = self._extend_with_top_popular(res, N=N)\n",
        "\n",
        "        except:\n",
        "            res = self.overall_top_purch[:N]\n",
        "\n",
        "        return res\n",
        "\n",
        "    def get_als_recommendations(self, user, N=5):\n",
        "        '''Рекомендации через стардартные библиотеки implicit'''\n",
        "\n",
        "        self._update_dict(user_id=user)\n",
        "        return self._get_recommendations(user, model=self.model, N=N)\n",
        "\n",
        "    def get_own_recommendations(self, user, N=5):\n",
        "        '''Рекомендуем товары среди тех, которые юзер уже купил'''\n",
        "\n",
        "        self._update_dict(user_id=user)\n",
        "        return self._get_recommendations(user, model=self.own_rec, N=N)\n",
        "\n",
        "    def get_similar_items_recommendation(self, user, N=5):\n",
        "        '''Рекомендуем товары, похожие на топ-N купленных юзером товаров'''\n",
        "\n",
        "        top_users_purch = self.top_purch[self.top_purch['user_id'] == user].head(N)\n",
        "\n",
        "        res = top_users_purch['item_id'].apply(lambda x: self._get_similar_item(x)).tolist()\n",
        "        res = self._extend_with_top_popular(res, N=N)\n",
        "\n",
        "        assert len(res) == N, 'Количество рекомендаций != {}'.format(N)\n",
        "        return res\n",
        "\n",
        "    def get_similar_users_recommendation(self, user, N=5):\n",
        "        '''Рекомендуем топ-N товаров, среди купленных похожими юзерами'''\n",
        "\n",
        "        result = []\n",
        "\n",
        "        self._update_dict(user_id=user)\n",
        "        # находим топ-N похожих пользователей\n",
        "        try:\n",
        "            similar_users = self.model.similar_users(self.userid_to_id[user], N=N + 1)\n",
        "            similar_users = [rec_usr[0] for rec_usr in similar_users]\n",
        "            similar_users = similar_users[1:]\n",
        "\n",
        "            for usr in similar_users:\n",
        "                result.extend(self.get_own_recommendations(self.id_to_userid[usr], N=1))\n",
        "\n",
        "            result = self._extend_with_top_popular(result, N=N)\n",
        "        except:\n",
        "            result = self.overall_top_purch[:N]\n",
        "\n",
        "        assert len(result) == N, 'Количество рекомендаций != {}'.format(N)\n",
        "        return result"
      ],
      "execution_count": 17,
      "outputs": []
    },
    {
      "cell_type": "markdown",
      "metadata": {
        "id": "fQNMxyNlg1RK"
      },
      "source": [
        "**Загрузим данные и разделим их на train и test**"
      ]
    },
    {
      "cell_type": "code",
      "metadata": {
        "id": "C1UvdW0Ngn2O"
      },
      "source": [
        "data = pd.read_csv('/content/drive/My Drive/Colab Notebooks/retail_train.csv')\n",
        "data_test = pd.read_csv('/content/drive/My Drive/Colab Notebooks/retail_test1.csv')\n",
        "item_features = pd.read_csv('/content/drive/My Drive/Colab Notebooks/product.csv')\n",
        "user_features = pd.read_csv('/content/drive/My Drive/Colab Notebooks/hh_demographic.csv')"
      ],
      "execution_count": 18,
      "outputs": []
    },
    {
      "cell_type": "code",
      "metadata": {
        "id": "XybG0-LrmKxM",
        "outputId": "7878fa3f-8c26-4638-f65e-98ea71f63310",
        "colab": {
          "base_uri": "https://localhost:8080/",
          "height": 162
        }
      },
      "source": [
        "data.head(3)"
      ],
      "execution_count": 19,
      "outputs": [
        {
          "output_type": "execute_result",
          "data": {
            "text/html": [
              "<div>\n",
              "<style scoped>\n",
              "    .dataframe tbody tr th:only-of-type {\n",
              "        vertical-align: middle;\n",
              "    }\n",
              "\n",
              "    .dataframe tbody tr th {\n",
              "        vertical-align: top;\n",
              "    }\n",
              "\n",
              "    .dataframe thead th {\n",
              "        text-align: right;\n",
              "    }\n",
              "</style>\n",
              "<table border=\"1\" class=\"dataframe\">\n",
              "  <thead>\n",
              "    <tr style=\"text-align: right;\">\n",
              "      <th></th>\n",
              "      <th>user_id</th>\n",
              "      <th>basket_id</th>\n",
              "      <th>day</th>\n",
              "      <th>item_id</th>\n",
              "      <th>quantity</th>\n",
              "      <th>sales_value</th>\n",
              "      <th>store_id</th>\n",
              "      <th>retail_disc</th>\n",
              "      <th>trans_time</th>\n",
              "      <th>week_no</th>\n",
              "      <th>coupon_disc</th>\n",
              "      <th>coupon_match_disc</th>\n",
              "    </tr>\n",
              "  </thead>\n",
              "  <tbody>\n",
              "    <tr>\n",
              "      <th>0</th>\n",
              "      <td>2375</td>\n",
              "      <td>26984851472</td>\n",
              "      <td>1</td>\n",
              "      <td>1004906</td>\n",
              "      <td>1</td>\n",
              "      <td>1.39</td>\n",
              "      <td>364</td>\n",
              "      <td>-0.6</td>\n",
              "      <td>1631</td>\n",
              "      <td>1</td>\n",
              "      <td>0.0</td>\n",
              "      <td>0.0</td>\n",
              "    </tr>\n",
              "    <tr>\n",
              "      <th>1</th>\n",
              "      <td>2375</td>\n",
              "      <td>26984851472</td>\n",
              "      <td>1</td>\n",
              "      <td>1033142</td>\n",
              "      <td>1</td>\n",
              "      <td>0.82</td>\n",
              "      <td>364</td>\n",
              "      <td>0.0</td>\n",
              "      <td>1631</td>\n",
              "      <td>1</td>\n",
              "      <td>0.0</td>\n",
              "      <td>0.0</td>\n",
              "    </tr>\n",
              "    <tr>\n",
              "      <th>2</th>\n",
              "      <td>2375</td>\n",
              "      <td>26984851472</td>\n",
              "      <td>1</td>\n",
              "      <td>1036325</td>\n",
              "      <td>1</td>\n",
              "      <td>0.99</td>\n",
              "      <td>364</td>\n",
              "      <td>-0.3</td>\n",
              "      <td>1631</td>\n",
              "      <td>1</td>\n",
              "      <td>0.0</td>\n",
              "      <td>0.0</td>\n",
              "    </tr>\n",
              "  </tbody>\n",
              "</table>\n",
              "</div>"
            ],
            "text/plain": [
              "   user_id    basket_id  day  item_id  quantity  sales_value  store_id  \\\n",
              "0     2375  26984851472    1  1004906         1         1.39       364   \n",
              "1     2375  26984851472    1  1033142         1         0.82       364   \n",
              "2     2375  26984851472    1  1036325         1         0.99       364   \n",
              "\n",
              "   retail_disc  trans_time  week_no  coupon_disc  coupon_match_disc  \n",
              "0         -0.6        1631        1          0.0                0.0  \n",
              "1          0.0        1631        1          0.0                0.0  \n",
              "2         -0.3        1631        1          0.0                0.0  "
            ]
          },
          "metadata": {
            "tags": []
          },
          "execution_count": 19
        }
      ]
    },
    {
      "cell_type": "code",
      "metadata": {
        "id": "CIIWb--TmK5k",
        "outputId": "c886dddc-b8a0-4374-cf12-0aa41870b8a3",
        "colab": {
          "base_uri": "https://localhost:8080/",
          "height": 162
        }
      },
      "source": [
        "data_test.head(3)"
      ],
      "execution_count": 20,
      "outputs": [
        {
          "output_type": "execute_result",
          "data": {
            "text/html": [
              "<div>\n",
              "<style scoped>\n",
              "    .dataframe tbody tr th:only-of-type {\n",
              "        vertical-align: middle;\n",
              "    }\n",
              "\n",
              "    .dataframe tbody tr th {\n",
              "        vertical-align: top;\n",
              "    }\n",
              "\n",
              "    .dataframe thead th {\n",
              "        text-align: right;\n",
              "    }\n",
              "</style>\n",
              "<table border=\"1\" class=\"dataframe\">\n",
              "  <thead>\n",
              "    <tr style=\"text-align: right;\">\n",
              "      <th></th>\n",
              "      <th>user_id</th>\n",
              "      <th>basket_id</th>\n",
              "      <th>day</th>\n",
              "      <th>item_id</th>\n",
              "      <th>quantity</th>\n",
              "      <th>sales_value</th>\n",
              "      <th>store_id</th>\n",
              "      <th>retail_disc</th>\n",
              "      <th>trans_time</th>\n",
              "      <th>week_no</th>\n",
              "      <th>coupon_disc</th>\n",
              "      <th>coupon_match_disc</th>\n",
              "    </tr>\n",
              "  </thead>\n",
              "  <tbody>\n",
              "    <tr>\n",
              "      <th>0</th>\n",
              "      <td>1340</td>\n",
              "      <td>41652823310</td>\n",
              "      <td>664</td>\n",
              "      <td>912987</td>\n",
              "      <td>1</td>\n",
              "      <td>8.49</td>\n",
              "      <td>446</td>\n",
              "      <td>0.0</td>\n",
              "      <td>52</td>\n",
              "      <td>96</td>\n",
              "      <td>0.0</td>\n",
              "      <td>0.0</td>\n",
              "    </tr>\n",
              "    <tr>\n",
              "      <th>1</th>\n",
              "      <td>588</td>\n",
              "      <td>41652838477</td>\n",
              "      <td>664</td>\n",
              "      <td>1024426</td>\n",
              "      <td>1</td>\n",
              "      <td>6.29</td>\n",
              "      <td>388</td>\n",
              "      <td>0.0</td>\n",
              "      <td>8</td>\n",
              "      <td>96</td>\n",
              "      <td>0.0</td>\n",
              "      <td>0.0</td>\n",
              "    </tr>\n",
              "    <tr>\n",
              "      <th>2</th>\n",
              "      <td>2070</td>\n",
              "      <td>41652857291</td>\n",
              "      <td>664</td>\n",
              "      <td>995242</td>\n",
              "      <td>5</td>\n",
              "      <td>9.10</td>\n",
              "      <td>311</td>\n",
              "      <td>-0.6</td>\n",
              "      <td>46</td>\n",
              "      <td>96</td>\n",
              "      <td>0.0</td>\n",
              "      <td>0.0</td>\n",
              "    </tr>\n",
              "  </tbody>\n",
              "</table>\n",
              "</div>"
            ],
            "text/plain": [
              "   user_id    basket_id  day  item_id  quantity  sales_value  store_id  \\\n",
              "0     1340  41652823310  664   912987         1         8.49       446   \n",
              "1      588  41652838477  664  1024426         1         6.29       388   \n",
              "2     2070  41652857291  664   995242         5         9.10       311   \n",
              "\n",
              "   retail_disc  trans_time  week_no  coupon_disc  coupon_match_disc  \n",
              "0          0.0          52       96          0.0                0.0  \n",
              "1          0.0           8       96          0.0                0.0  \n",
              "2         -0.6          46       96          0.0                0.0  "
            ]
          },
          "metadata": {
            "tags": []
          },
          "execution_count": 20
        }
      ]
    },
    {
      "cell_type": "code",
      "metadata": {
        "id": "TEYfVOrUmK1T",
        "outputId": "26063b0d-9c5f-463e-82a1-294f8f91039f",
        "colab": {
          "base_uri": "https://localhost:8080/",
          "height": 159
        }
      },
      "source": [
        "item_features.head(3)"
      ],
      "execution_count": 21,
      "outputs": [
        {
          "output_type": "execute_result",
          "data": {
            "text/html": [
              "<div>\n",
              "<style scoped>\n",
              "    .dataframe tbody tr th:only-of-type {\n",
              "        vertical-align: middle;\n",
              "    }\n",
              "\n",
              "    .dataframe tbody tr th {\n",
              "        vertical-align: top;\n",
              "    }\n",
              "\n",
              "    .dataframe thead th {\n",
              "        text-align: right;\n",
              "    }\n",
              "</style>\n",
              "<table border=\"1\" class=\"dataframe\">\n",
              "  <thead>\n",
              "    <tr style=\"text-align: right;\">\n",
              "      <th></th>\n",
              "      <th>PRODUCT_ID</th>\n",
              "      <th>MANUFACTURER</th>\n",
              "      <th>DEPARTMENT</th>\n",
              "      <th>BRAND</th>\n",
              "      <th>COMMODITY_DESC</th>\n",
              "      <th>SUB_COMMODITY_DESC</th>\n",
              "      <th>CURR_SIZE_OF_PRODUCT</th>\n",
              "    </tr>\n",
              "  </thead>\n",
              "  <tbody>\n",
              "    <tr>\n",
              "      <th>0</th>\n",
              "      <td>25671</td>\n",
              "      <td>2</td>\n",
              "      <td>GROCERY</td>\n",
              "      <td>National</td>\n",
              "      <td>FRZN ICE</td>\n",
              "      <td>ICE - CRUSHED/CUBED</td>\n",
              "      <td>22 LB</td>\n",
              "    </tr>\n",
              "    <tr>\n",
              "      <th>1</th>\n",
              "      <td>26081</td>\n",
              "      <td>2</td>\n",
              "      <td>MISC. TRANS.</td>\n",
              "      <td>National</td>\n",
              "      <td>NO COMMODITY DESCRIPTION</td>\n",
              "      <td>NO SUBCOMMODITY DESCRIPTION</td>\n",
              "      <td></td>\n",
              "    </tr>\n",
              "    <tr>\n",
              "      <th>2</th>\n",
              "      <td>26093</td>\n",
              "      <td>69</td>\n",
              "      <td>PASTRY</td>\n",
              "      <td>Private</td>\n",
              "      <td>BREAD</td>\n",
              "      <td>BREAD:ITALIAN/FRENCH</td>\n",
              "      <td></td>\n",
              "    </tr>\n",
              "  </tbody>\n",
              "</table>\n",
              "</div>"
            ],
            "text/plain": [
              "   PRODUCT_ID  MANUFACTURER    DEPARTMENT     BRAND            COMMODITY_DESC  \\\n",
              "0       25671             2       GROCERY  National                  FRZN ICE   \n",
              "1       26081             2  MISC. TRANS.  National  NO COMMODITY DESCRIPTION   \n",
              "2       26093            69        PASTRY   Private                     BREAD   \n",
              "\n",
              "            SUB_COMMODITY_DESC CURR_SIZE_OF_PRODUCT  \n",
              "0          ICE - CRUSHED/CUBED                22 LB  \n",
              "1  NO SUBCOMMODITY DESCRIPTION                       \n",
              "2         BREAD:ITALIAN/FRENCH                       "
            ]
          },
          "metadata": {
            "tags": []
          },
          "execution_count": 21
        }
      ]
    },
    {
      "cell_type": "code",
      "metadata": {
        "id": "qeP7g-rMmPp0",
        "outputId": "52c7080c-7862-4e29-f34f-50d63e7417d0",
        "colab": {
          "base_uri": "https://localhost:8080/",
          "height": 196
        }
      },
      "source": [
        "user_features.head(3)"
      ],
      "execution_count": 22,
      "outputs": [
        {
          "output_type": "execute_result",
          "data": {
            "text/html": [
              "<div>\n",
              "<style scoped>\n",
              "    .dataframe tbody tr th:only-of-type {\n",
              "        vertical-align: middle;\n",
              "    }\n",
              "\n",
              "    .dataframe tbody tr th {\n",
              "        vertical-align: top;\n",
              "    }\n",
              "\n",
              "    .dataframe thead th {\n",
              "        text-align: right;\n",
              "    }\n",
              "</style>\n",
              "<table border=\"1\" class=\"dataframe\">\n",
              "  <thead>\n",
              "    <tr style=\"text-align: right;\">\n",
              "      <th></th>\n",
              "      <th>AGE_DESC</th>\n",
              "      <th>MARITAL_STATUS_CODE</th>\n",
              "      <th>INCOME_DESC</th>\n",
              "      <th>HOMEOWNER_DESC</th>\n",
              "      <th>HH_COMP_DESC</th>\n",
              "      <th>HOUSEHOLD_SIZE_DESC</th>\n",
              "      <th>KID_CATEGORY_DESC</th>\n",
              "      <th>household_key</th>\n",
              "    </tr>\n",
              "  </thead>\n",
              "  <tbody>\n",
              "    <tr>\n",
              "      <th>0</th>\n",
              "      <td>65+</td>\n",
              "      <td>A</td>\n",
              "      <td>35-49K</td>\n",
              "      <td>Homeowner</td>\n",
              "      <td>2 Adults No Kids</td>\n",
              "      <td>2</td>\n",
              "      <td>None/Unknown</td>\n",
              "      <td>1</td>\n",
              "    </tr>\n",
              "    <tr>\n",
              "      <th>1</th>\n",
              "      <td>45-54</td>\n",
              "      <td>A</td>\n",
              "      <td>50-74K</td>\n",
              "      <td>Homeowner</td>\n",
              "      <td>2 Adults No Kids</td>\n",
              "      <td>2</td>\n",
              "      <td>None/Unknown</td>\n",
              "      <td>7</td>\n",
              "    </tr>\n",
              "    <tr>\n",
              "      <th>2</th>\n",
              "      <td>25-34</td>\n",
              "      <td>U</td>\n",
              "      <td>25-34K</td>\n",
              "      <td>Unknown</td>\n",
              "      <td>2 Adults Kids</td>\n",
              "      <td>3</td>\n",
              "      <td>1</td>\n",
              "      <td>8</td>\n",
              "    </tr>\n",
              "  </tbody>\n",
              "</table>\n",
              "</div>"
            ],
            "text/plain": [
              "  AGE_DESC MARITAL_STATUS_CODE INCOME_DESC HOMEOWNER_DESC      HH_COMP_DESC  \\\n",
              "0      65+                   A      35-49K      Homeowner  2 Adults No Kids   \n",
              "1    45-54                   A      50-74K      Homeowner  2 Adults No Kids   \n",
              "2    25-34                   U      25-34K        Unknown     2 Adults Kids   \n",
              "\n",
              "  HOUSEHOLD_SIZE_DESC KID_CATEGORY_DESC  household_key  \n",
              "0                   2      None/Unknown              1  \n",
              "1                   2      None/Unknown              7  \n",
              "2                   3                 1              8  "
            ]
          },
          "metadata": {
            "tags": []
          },
          "execution_count": 22
        }
      ]
    },
    {
      "cell_type": "markdown",
      "metadata": {
        "id": "oYA9iJ7mmfsv"
      },
      "source": [
        "Обработаем столбцы"
      ]
    },
    {
      "cell_type": "code",
      "metadata": {
        "id": "0UPwYjVpgn4v"
      },
      "source": [
        "# column processing\n",
        "item_features.columns = [col.lower() for col in item_features.columns]\n",
        "item_features.rename(columns={'product_id': 'item_id'}, inplace=True)\n",
        "\n",
        "user_features.columns = [col.lower() for col in user_features.columns]\n",
        "user_features.rename(columns={'household_key': 'user_id'}, inplace=True)"
      ],
      "execution_count": 23,
      "outputs": []
    },
    {
      "cell_type": "markdown",
      "metadata": {
        "id": "P6Qf2rrOmiy6"
      },
      "source": [
        "**Создадим обучающую и тестовую выборки**"
      ]
    },
    {
      "cell_type": "code",
      "metadata": {
        "id": "MCaTr4D3gn7X"
      },
      "source": [
        "N = 150 # кол-во рекомендаций\n",
        "\n",
        "VAL_SIZE = 5 # кол-во недель в валидационной выборке\n",
        "\n",
        "data_train = data[data['week_no'] < data['week_no'].max() - (VAL_SIZE)]\n",
        "val = data[data['week_no'] >= data['week_no'].max() - (VAL_SIZE)]\n",
        "\n",
        "data_train_2 = val.copy()"
      ],
      "execution_count": 24,
      "outputs": []
    },
    {
      "cell_type": "markdown",
      "metadata": {
        "id": "slvd6PaNom8L"
      },
      "source": [
        "**Посмотрим некоторую статистику по датасетам**"
      ]
    },
    {
      "cell_type": "code",
      "metadata": {
        "id": "2PmC7tIWooGV",
        "outputId": "8999cb1e-75b4-4994-c0e6-09e34b262577",
        "colab": {
          "base_uri": "https://localhost:8080/"
        }
      },
      "source": [
        "print('dataframe \"data\":')\n",
        "print('# weeks: ', data['week_no'].nunique())\n",
        "print('# users: ', data['user_id'].nunique())\n",
        "print('# items: ', data['item_id'].nunique())\n",
        "print('# interactions: ', data.shape[0])"
      ],
      "execution_count": 25,
      "outputs": [
        {
          "output_type": "stream",
          "text": [
            "dataframe \"data\":\n",
            "# weeks:  95\n",
            "# users:  2499\n",
            "# items:  89051\n",
            "# interactions:  2396804\n"
          ],
          "name": "stdout"
        }
      ]
    },
    {
      "cell_type": "code",
      "metadata": {
        "id": "g38JAlCSoxsA",
        "outputId": "45367dd8-abab-4a5c-c777-b2c61041e02a",
        "colab": {
          "base_uri": "https://localhost:8080/"
        }
      },
      "source": [
        "print('dataframe \"data_test\":')\n",
        "print('# weeks: ', data_test['week_no'].nunique())\n",
        "print('# users: ', data_test['user_id'].nunique())\n",
        "print('# items: ', data_test['item_id'].nunique())\n",
        "print('# interactions: ', data_test.shape[0])"
      ],
      "execution_count": 26,
      "outputs": [
        {
          "output_type": "stream",
          "text": [
            "dataframe \"data_test\":\n",
            "# weeks:  3\n",
            "# users:  1885\n",
            "# items:  20497\n",
            "# interactions:  88734\n"
          ],
          "name": "stdout"
        }
      ]
    },
    {
      "cell_type": "code",
      "metadata": {
        "id": "TCA-N5Kloxo8",
        "outputId": "054999ce-05ae-4a98-fda0-f0b232109468",
        "colab": {
          "base_uri": "https://localhost:8080/",
          "height": 297
        }
      },
      "source": [
        "data.groupby('item_id')['user_id'].nunique().reset_index().describe()"
      ],
      "execution_count": 27,
      "outputs": [
        {
          "output_type": "execute_result",
          "data": {
            "text/html": [
              "<div>\n",
              "<style scoped>\n",
              "    .dataframe tbody tr th:only-of-type {\n",
              "        vertical-align: middle;\n",
              "    }\n",
              "\n",
              "    .dataframe tbody tr th {\n",
              "        vertical-align: top;\n",
              "    }\n",
              "\n",
              "    .dataframe thead th {\n",
              "        text-align: right;\n",
              "    }\n",
              "</style>\n",
              "<table border=\"1\" class=\"dataframe\">\n",
              "  <thead>\n",
              "    <tr style=\"text-align: right;\">\n",
              "      <th></th>\n",
              "      <th>item_id</th>\n",
              "      <th>user_id</th>\n",
              "    </tr>\n",
              "  </thead>\n",
              "  <tbody>\n",
              "    <tr>\n",
              "      <th>count</th>\n",
              "      <td>8.905100e+04</td>\n",
              "      <td>89051.000000</td>\n",
              "    </tr>\n",
              "    <tr>\n",
              "      <th>mean</th>\n",
              "      <td>5.115772e+06</td>\n",
              "      <td>14.759767</td>\n",
              "    </tr>\n",
              "    <tr>\n",
              "      <th>std</th>\n",
              "      <td>5.178973e+06</td>\n",
              "      <td>45.904111</td>\n",
              "    </tr>\n",
              "    <tr>\n",
              "      <th>min</th>\n",
              "      <td>2.567100e+04</td>\n",
              "      <td>1.000000</td>\n",
              "    </tr>\n",
              "    <tr>\n",
              "      <th>25%</th>\n",
              "      <td>9.665830e+05</td>\n",
              "      <td>1.000000</td>\n",
              "    </tr>\n",
              "    <tr>\n",
              "      <th>50%</th>\n",
              "      <td>1.448516e+06</td>\n",
              "      <td>2.000000</td>\n",
              "    </tr>\n",
              "    <tr>\n",
              "      <th>75%</th>\n",
              "      <td>9.553042e+06</td>\n",
              "      <td>10.000000</td>\n",
              "    </tr>\n",
              "    <tr>\n",
              "      <th>max</th>\n",
              "      <td>1.802456e+07</td>\n",
              "      <td>2039.000000</td>\n",
              "    </tr>\n",
              "  </tbody>\n",
              "</table>\n",
              "</div>"
            ],
            "text/plain": [
              "            item_id       user_id\n",
              "count  8.905100e+04  89051.000000\n",
              "mean   5.115772e+06     14.759767\n",
              "std    5.178973e+06     45.904111\n",
              "min    2.567100e+04      1.000000\n",
              "25%    9.665830e+05      1.000000\n",
              "50%    1.448516e+06      2.000000\n",
              "75%    9.553042e+06     10.000000\n",
              "max    1.802456e+07   2039.000000"
            ]
          },
          "metadata": {
            "tags": []
          },
          "execution_count": 27
        }
      ]
    },
    {
      "cell_type": "code",
      "metadata": {
        "id": "OEFwMrh_pQTz",
        "outputId": "18e2f956-ac11-48de-9923-7ca8e36aa08c",
        "colab": {
          "base_uri": "https://localhost:8080/",
          "height": 297
        }
      },
      "source": [
        "data.groupby('item_id')['sales_value'].sum().reset_index().describe()"
      ],
      "execution_count": 28,
      "outputs": [
        {
          "output_type": "execute_result",
          "data": {
            "text/html": [
              "<div>\n",
              "<style scoped>\n",
              "    .dataframe tbody tr th:only-of-type {\n",
              "        vertical-align: middle;\n",
              "    }\n",
              "\n",
              "    .dataframe tbody tr th {\n",
              "        vertical-align: top;\n",
              "    }\n",
              "\n",
              "    .dataframe thead th {\n",
              "        text-align: right;\n",
              "    }\n",
              "</style>\n",
              "<table border=\"1\" class=\"dataframe\">\n",
              "  <thead>\n",
              "    <tr style=\"text-align: right;\">\n",
              "      <th></th>\n",
              "      <th>item_id</th>\n",
              "      <th>sales_value</th>\n",
              "    </tr>\n",
              "  </thead>\n",
              "  <tbody>\n",
              "    <tr>\n",
              "      <th>count</th>\n",
              "      <td>8.905100e+04</td>\n",
              "      <td>89051.000000</td>\n",
              "    </tr>\n",
              "    <tr>\n",
              "      <th>mean</th>\n",
              "      <td>5.115772e+06</td>\n",
              "      <td>83.458481</td>\n",
              "    </tr>\n",
              "    <tr>\n",
              "      <th>std</th>\n",
              "      <td>5.178973e+06</td>\n",
              "      <td>1628.715079</td>\n",
              "    </tr>\n",
              "    <tr>\n",
              "      <th>min</th>\n",
              "      <td>2.567100e+04</td>\n",
              "      <td>0.000000</td>\n",
              "    </tr>\n",
              "    <tr>\n",
              "      <th>25%</th>\n",
              "      <td>9.665830e+05</td>\n",
              "      <td>3.500000</td>\n",
              "    </tr>\n",
              "    <tr>\n",
              "      <th>50%</th>\n",
              "      <td>1.448516e+06</td>\n",
              "      <td>10.780000</td>\n",
              "    </tr>\n",
              "    <tr>\n",
              "      <th>75%</th>\n",
              "      <td>9.553042e+06</td>\n",
              "      <td>46.105000</td>\n",
              "    </tr>\n",
              "    <tr>\n",
              "      <th>max</th>\n",
              "      <td>1.802456e+07</td>\n",
              "      <td>467993.620000</td>\n",
              "    </tr>\n",
              "  </tbody>\n",
              "</table>\n",
              "</div>"
            ],
            "text/plain": [
              "            item_id    sales_value\n",
              "count  8.905100e+04   89051.000000\n",
              "mean   5.115772e+06      83.458481\n",
              "std    5.178973e+06    1628.715079\n",
              "min    2.567100e+04       0.000000\n",
              "25%    9.665830e+05       3.500000\n",
              "50%    1.448516e+06      10.780000\n",
              "75%    9.553042e+06      46.105000\n",
              "max    1.802456e+07  467993.620000"
            ]
          },
          "metadata": {
            "tags": []
          },
          "execution_count": 28
        }
      ]
    },
    {
      "cell_type": "markdown",
      "metadata": {
        "id": "VSb9YQt9hxeY"
      },
      "source": [
        "**Сделаем предварительную фильтрацию данных**"
      ]
    },
    {
      "cell_type": "code",
      "metadata": {
        "id": "dciZXW4xgn-d",
        "outputId": "69f72955-636b-4601-a289-521490472589",
        "colab": {
          "base_uri": "https://localhost:8080/"
        }
      },
      "source": [
        "n_items_before = data_train['item_id'].nunique()\n",
        "data_train = prefilter_items(data_train, item_features=item_features, take_n_popular=4000)\n",
        "n_items_after = data_train['item_id'].nunique()\n",
        "\n",
        "print(f'Decreased # items from {n_items_before} to {n_items_after}')"
      ],
      "execution_count": 29,
      "outputs": [
        {
          "output_type": "stream",
          "text": [
            "Decreased # items from 85828 to 4001\n"
          ],
          "name": "stdout"
        }
      ]
    },
    {
      "cell_type": "markdown",
      "metadata": {
        "id": "mgiEEhXfibdw"
      },
      "source": [
        "**Обучим модель 1-го уровня**"
      ]
    },
    {
      "cell_type": "code",
      "metadata": {
        "id": "lRs8fCIhgoAm",
        "outputId": "8f1ed01e-9a9d-4c16-d8ef-9695664b0562",
        "colab": {
          "base_uri": "https://localhost:8080/",
          "height": 169,
          "referenced_widgets": [
            "279a9391119647198c2229143a08864b",
            "0172977884024fdbb5aa63a441cfd762",
            "858c7d20addc468ca09b348fae1f779b",
            "344ac45215ce43d8b65b8fa5b6898ce5",
            "a466f00a5822418ebf264a334bc2c144",
            "94890acddf5c4d33ace7507a07ce993e",
            "83f2552d5bd74d3c9f783a5ccc3187c1",
            "d731033fd77240fd88ec44f313029829",
            "5ea7b8244960479384f67816b5434872",
            "9e14ebabb8f14a5fabd5da5665a5fc68",
            "c95c5691eab24c938914dcaf5ddc4209",
            "c31b903a1bca42a9b4d07a11f7282675",
            "413268a898e6451192870b59104e24e6",
            "81803ced5c7e4ffda86d1bf9efc84b38",
            "c31b6405b7da48779a9909f1d3eb7dcf",
            "31c98ffb08724bf89c9cc3b75353bf66"
          ]
        }
      },
      "source": [
        "recommender = MainRecommender(data_train)"
      ],
      "execution_count": 30,
      "outputs": [
        {
          "output_type": "stream",
          "text": [
            "GPU training requires factor size to be a multiple of 32. Increasing factors from 20 to 32.\n",
            "WARNING:root:OpenBLAS detected. Its highly recommend to set the environment variable 'export OPENBLAS_NUM_THREADS=1' to disable its internal multithreading\n"
          ],
          "name": "stderr"
        },
        {
          "output_type": "display_data",
          "data": {
            "application/vnd.jupyter.widget-view+json": {
              "model_id": "279a9391119647198c2229143a08864b",
              "version_minor": 0,
              "version_major": 2
            },
            "text/plain": [
              "HBox(children=(FloatProgress(value=0.0, max=15.0), HTML(value='')))"
            ]
          },
          "metadata": {
            "tags": []
          }
        },
        {
          "output_type": "stream",
          "text": [
            "\n"
          ],
          "name": "stdout"
        },
        {
          "output_type": "display_data",
          "data": {
            "application/vnd.jupyter.widget-view+json": {
              "model_id": "5ea7b8244960479384f67816b5434872",
              "version_minor": 0,
              "version_major": 2
            },
            "text/plain": [
              "HBox(children=(FloatProgress(value=0.0, max=4001.0), HTML(value='')))"
            ]
          },
          "metadata": {
            "tags": []
          }
        },
        {
          "output_type": "stream",
          "text": [
            "\n"
          ],
          "name": "stdout"
        }
      ]
    },
    {
      "cell_type": "markdown",
      "metadata": {
        "id": "KqDlGLh0jgTg"
      },
      "source": [
        "**Создадим эмбеддинги**"
      ]
    },
    {
      "cell_type": "code",
      "metadata": {
        "id": "ohAZleSAgoLl"
      },
      "source": [
        "items_embeddings_df = recommender.items_embeddings_df\n",
        "users_embeddings_df = recommender.users_embeddings_df"
      ],
      "execution_count": 31,
      "outputs": []
    },
    {
      "cell_type": "markdown",
      "metadata": {
        "id": "wlYQ2YVFjl-3"
      },
      "source": [
        "**Добавим новые фичи**"
      ]
    },
    {
      "cell_type": "code",
      "metadata": {
        "id": "dlZqQxskgoTO",
        "outputId": "1701c356-c893-4cb3-b3d2-e39689936929",
        "colab": {
          "base_uri": "https://localhost:8080/",
          "height": 196
        }
      },
      "source": [
        "train = extend_user_item_new_features(data_train_2, data_train, recommender, item_features, \n",
        "                                      user_features, items_embeddings_df, users_embeddings_df, N)\n",
        "train.head(3)"
      ],
      "execution_count": 32,
      "outputs": [
        {
          "output_type": "execute_result",
          "data": {
            "text/html": [
              "<div>\n",
              "<style scoped>\n",
              "    .dataframe tbody tr th:only-of-type {\n",
              "        vertical-align: middle;\n",
              "    }\n",
              "\n",
              "    .dataframe tbody tr th {\n",
              "        vertical-align: top;\n",
              "    }\n",
              "\n",
              "    .dataframe thead th {\n",
              "        text-align: right;\n",
              "    }\n",
              "</style>\n",
              "<table border=\"1\" class=\"dataframe\">\n",
              "  <thead>\n",
              "    <tr style=\"text-align: right;\">\n",
              "      <th></th>\n",
              "      <th>user_id</th>\n",
              "      <th>basket_id</th>\n",
              "      <th>day</th>\n",
              "      <th>item_id</th>\n",
              "      <th>quantity</th>\n",
              "      <th>sales_value</th>\n",
              "      <th>store_id</th>\n",
              "      <th>retail_disc</th>\n",
              "      <th>trans_time</th>\n",
              "      <th>week_no</th>\n",
              "      <th>coupon_disc_x</th>\n",
              "      <th>coupon_match_disc</th>\n",
              "      <th>price</th>\n",
              "      <th>manufacturer</th>\n",
              "      <th>department</th>\n",
              "      <th>brand</th>\n",
              "      <th>commodity_desc</th>\n",
              "      <th>sub_commodity_desc</th>\n",
              "      <th>curr_size_of_product</th>\n",
              "      <th>0_x</th>\n",
              "      <th>1_x</th>\n",
              "      <th>2_x</th>\n",
              "      <th>3_x</th>\n",
              "      <th>4_x</th>\n",
              "      <th>5_x</th>\n",
              "      <th>6_x</th>\n",
              "      <th>7_x</th>\n",
              "      <th>8_x</th>\n",
              "      <th>9_x</th>\n",
              "      <th>10_x</th>\n",
              "      <th>11_x</th>\n",
              "      <th>12_x</th>\n",
              "      <th>13_x</th>\n",
              "      <th>14_x</th>\n",
              "      <th>15_x</th>\n",
              "      <th>16_x</th>\n",
              "      <th>17_x</th>\n",
              "      <th>18_x</th>\n",
              "      <th>19_x</th>\n",
              "      <th>20_x</th>\n",
              "      <th>21_x</th>\n",
              "      <th>22_x</th>\n",
              "      <th>23_x</th>\n",
              "      <th>24_x</th>\n",
              "      <th>25_x</th>\n",
              "      <th>26_x</th>\n",
              "      <th>27_x</th>\n",
              "      <th>28_x</th>\n",
              "      <th>29_x</th>\n",
              "      <th>30_x</th>\n",
              "      <th>31_x</th>\n",
              "      <th>coupon_disc_y</th>\n",
              "      <th>sales_count_per_dep</th>\n",
              "      <th>qnt_of_sales_per_item_per_dep_per_week</th>\n",
              "      <th>quantity_of_sales</th>\n",
              "      <th>sales_count_per_week</th>\n",
              "      <th>qnt_of_sales_per_sub_commodity_desc</th>\n",
              "      <th>qnt_of_sales_per_item_per_sub_commodity_desc_per_week</th>\n",
              "      <th>marital_status_code</th>\n",
              "      <th>homeowner_desc</th>\n",
              "      <th>hh_comp_desc</th>\n",
              "      <th>household_size_desc</th>\n",
              "      <th>0_y</th>\n",
              "      <th>1_y</th>\n",
              "      <th>2_y</th>\n",
              "      <th>3_y</th>\n",
              "      <th>4_y</th>\n",
              "      <th>5_y</th>\n",
              "      <th>6_y</th>\n",
              "      <th>7_y</th>\n",
              "      <th>8_y</th>\n",
              "      <th>9_y</th>\n",
              "      <th>10_y</th>\n",
              "      <th>11_y</th>\n",
              "      <th>12_y</th>\n",
              "      <th>13_y</th>\n",
              "      <th>14_y</th>\n",
              "      <th>15_y</th>\n",
              "      <th>16_y</th>\n",
              "      <th>17_y</th>\n",
              "      <th>18_y</th>\n",
              "      <th>19_y</th>\n",
              "      <th>20_y</th>\n",
              "      <th>21_y</th>\n",
              "      <th>22_y</th>\n",
              "      <th>23_y</th>\n",
              "      <th>24_y</th>\n",
              "      <th>25_y</th>\n",
              "      <th>26_y</th>\n",
              "      <th>27_y</th>\n",
              "      <th>28_y</th>\n",
              "      <th>29_y</th>\n",
              "      <th>30_y</th>\n",
              "      <th>31_y</th>\n",
              "      <th>mean_time</th>\n",
              "      <th>age</th>\n",
              "      <th>income</th>\n",
              "      <th>children</th>\n",
              "      <th>avr_bask</th>\n",
              "      <th>sum_per_week</th>\n",
              "      <th>count_purchases_week_mean</th>\n",
              "      <th>sum_purchases_week_mean</th>\n",
              "      <th>target</th>\n",
              "    </tr>\n",
              "  </thead>\n",
              "  <tbody>\n",
              "    <tr>\n",
              "      <th>0</th>\n",
              "      <td>843</td>\n",
              "      <td>40955282722</td>\n",
              "      <td>622</td>\n",
              "      <td>845193</td>\n",
              "      <td>3</td>\n",
              "      <td>5.37</td>\n",
              "      <td>364</td>\n",
              "      <td>-1.5</td>\n",
              "      <td>19</td>\n",
              "      <td>90</td>\n",
              "      <td>0.0</td>\n",
              "      <td>0.0</td>\n",
              "      <td>1.79</td>\n",
              "      <td>999999999</td>\n",
              "      <td>GROCERY</td>\n",
              "      <td>National</td>\n",
              "      <td>FROZEN PIZZA</td>\n",
              "      <td>SNACKS/APPETIZERS</td>\n",
              "      <td>10.5 OZ</td>\n",
              "      <td>0.017755</td>\n",
              "      <td>0.005111</td>\n",
              "      <td>-0.001296</td>\n",
              "      <td>0.011887</td>\n",
              "      <td>0.00513</td>\n",
              "      <td>0.002052</td>\n",
              "      <td>0.000641</td>\n",
              "      <td>0.008965</td>\n",
              "      <td>-0.001445</td>\n",
              "      <td>0.009723</td>\n",
              "      <td>0.012106</td>\n",
              "      <td>0.00084</td>\n",
              "      <td>-0.002744</td>\n",
              "      <td>-0.010492</td>\n",
              "      <td>-0.00115</td>\n",
              "      <td>0.005179</td>\n",
              "      <td>0.011961</td>\n",
              "      <td>0.003977</td>\n",
              "      <td>0.005664</td>\n",
              "      <td>0.007992</td>\n",
              "      <td>0.009404</td>\n",
              "      <td>0.006682</td>\n",
              "      <td>0.000298</td>\n",
              "      <td>0.010711</td>\n",
              "      <td>0.011061</td>\n",
              "      <td>0.007569</td>\n",
              "      <td>0.00147</td>\n",
              "      <td>-0.00205</td>\n",
              "      <td>0.006969</td>\n",
              "      <td>0.000293</td>\n",
              "      <td>0.006819</td>\n",
              "      <td>0.014743</td>\n",
              "      <td>0.0</td>\n",
              "      <td>112255</td>\n",
              "      <td>0.137313</td>\n",
              "      <td>52</td>\n",
              "      <td>8.666667</td>\n",
              "      <td>893</td>\n",
              "      <td>0.146202</td>\n",
              "      <td>0</td>\n",
              "      <td>0</td>\n",
              "      <td>0</td>\n",
              "      <td>0</td>\n",
              "      <td>0.0</td>\n",
              "      <td>0.0</td>\n",
              "      <td>0.0</td>\n",
              "      <td>0.0</td>\n",
              "      <td>0.0</td>\n",
              "      <td>0.0</td>\n",
              "      <td>0.0</td>\n",
              "      <td>0.0</td>\n",
              "      <td>0.0</td>\n",
              "      <td>0.0</td>\n",
              "      <td>0.0</td>\n",
              "      <td>0.0</td>\n",
              "      <td>0.0</td>\n",
              "      <td>0.0</td>\n",
              "      <td>0.0</td>\n",
              "      <td>0.0</td>\n",
              "      <td>0.0</td>\n",
              "      <td>0.0</td>\n",
              "      <td>0.0</td>\n",
              "      <td>0.0</td>\n",
              "      <td>0.0</td>\n",
              "      <td>0.0</td>\n",
              "      <td>0.0</td>\n",
              "      <td>0.0</td>\n",
              "      <td>0.0</td>\n",
              "      <td>0.0</td>\n",
              "      <td>0.0</td>\n",
              "      <td>0.0</td>\n",
              "      <td>0.0</td>\n",
              "      <td>0.0</td>\n",
              "      <td>0.0</td>\n",
              "      <td>0.0</td>\n",
              "      <td>0.0</td>\n",
              "      <td>0.0</td>\n",
              "      <td>0.0</td>\n",
              "      <td>0.0</td>\n",
              "      <td>0.0</td>\n",
              "      <td>0.0</td>\n",
              "      <td>0.002468</td>\n",
              "      <td>0.013529</td>\n",
              "      <td>1.0</td>\n",
              "    </tr>\n",
              "    <tr>\n",
              "      <th>1</th>\n",
              "      <td>843</td>\n",
              "      <td>40955282722</td>\n",
              "      <td>622</td>\n",
              "      <td>845193</td>\n",
              "      <td>3</td>\n",
              "      <td>5.37</td>\n",
              "      <td>364</td>\n",
              "      <td>-1.5</td>\n",
              "      <td>19</td>\n",
              "      <td>90</td>\n",
              "      <td>0.0</td>\n",
              "      <td>0.0</td>\n",
              "      <td>1.79</td>\n",
              "      <td>999999999</td>\n",
              "      <td>GROCERY</td>\n",
              "      <td>National</td>\n",
              "      <td>FROZEN PIZZA</td>\n",
              "      <td>SNACKS/APPETIZERS</td>\n",
              "      <td>10.5 OZ</td>\n",
              "      <td>0.017755</td>\n",
              "      <td>0.005111</td>\n",
              "      <td>-0.001296</td>\n",
              "      <td>0.011887</td>\n",
              "      <td>0.00513</td>\n",
              "      <td>0.002052</td>\n",
              "      <td>0.000641</td>\n",
              "      <td>0.008965</td>\n",
              "      <td>-0.001445</td>\n",
              "      <td>0.009723</td>\n",
              "      <td>0.012106</td>\n",
              "      <td>0.00084</td>\n",
              "      <td>-0.002744</td>\n",
              "      <td>-0.010492</td>\n",
              "      <td>-0.00115</td>\n",
              "      <td>0.005179</td>\n",
              "      <td>0.011961</td>\n",
              "      <td>0.003977</td>\n",
              "      <td>0.005664</td>\n",
              "      <td>0.007992</td>\n",
              "      <td>0.009404</td>\n",
              "      <td>0.006682</td>\n",
              "      <td>0.000298</td>\n",
              "      <td>0.010711</td>\n",
              "      <td>0.011061</td>\n",
              "      <td>0.007569</td>\n",
              "      <td>0.00147</td>\n",
              "      <td>-0.00205</td>\n",
              "      <td>0.006969</td>\n",
              "      <td>0.000293</td>\n",
              "      <td>0.006819</td>\n",
              "      <td>0.014743</td>\n",
              "      <td>0.0</td>\n",
              "      <td>112255</td>\n",
              "      <td>0.137313</td>\n",
              "      <td>52</td>\n",
              "      <td>8.666667</td>\n",
              "      <td>893</td>\n",
              "      <td>0.146202</td>\n",
              "      <td>0</td>\n",
              "      <td>0</td>\n",
              "      <td>0</td>\n",
              "      <td>0</td>\n",
              "      <td>0.0</td>\n",
              "      <td>0.0</td>\n",
              "      <td>0.0</td>\n",
              "      <td>0.0</td>\n",
              "      <td>0.0</td>\n",
              "      <td>0.0</td>\n",
              "      <td>0.0</td>\n",
              "      <td>0.0</td>\n",
              "      <td>0.0</td>\n",
              "      <td>0.0</td>\n",
              "      <td>0.0</td>\n",
              "      <td>0.0</td>\n",
              "      <td>0.0</td>\n",
              "      <td>0.0</td>\n",
              "      <td>0.0</td>\n",
              "      <td>0.0</td>\n",
              "      <td>0.0</td>\n",
              "      <td>0.0</td>\n",
              "      <td>0.0</td>\n",
              "      <td>0.0</td>\n",
              "      <td>0.0</td>\n",
              "      <td>0.0</td>\n",
              "      <td>0.0</td>\n",
              "      <td>0.0</td>\n",
              "      <td>0.0</td>\n",
              "      <td>0.0</td>\n",
              "      <td>0.0</td>\n",
              "      <td>0.0</td>\n",
              "      <td>0.0</td>\n",
              "      <td>0.0</td>\n",
              "      <td>0.0</td>\n",
              "      <td>0.0</td>\n",
              "      <td>0.0</td>\n",
              "      <td>0.0</td>\n",
              "      <td>0.0</td>\n",
              "      <td>0.0</td>\n",
              "      <td>0.0</td>\n",
              "      <td>0.0</td>\n",
              "      <td>0.002468</td>\n",
              "      <td>0.013529</td>\n",
              "      <td>1.0</td>\n",
              "    </tr>\n",
              "    <tr>\n",
              "      <th>2</th>\n",
              "      <td>843</td>\n",
              "      <td>40955282722</td>\n",
              "      <td>622</td>\n",
              "      <td>865891</td>\n",
              "      <td>2</td>\n",
              "      <td>2.00</td>\n",
              "      <td>364</td>\n",
              "      <td>0.0</td>\n",
              "      <td>19</td>\n",
              "      <td>90</td>\n",
              "      <td>0.0</td>\n",
              "      <td>0.0</td>\n",
              "      <td>1.00</td>\n",
              "      <td>608</td>\n",
              "      <td>GROCERY</td>\n",
              "      <td>National</td>\n",
              "      <td>FRZN MEAT/MEAT DINNERS</td>\n",
              "      <td>SS ECONOMY ENTREES/DINNERS ALL</td>\n",
              "      <td>6.75 OZ</td>\n",
              "      <td>0.000000</td>\n",
              "      <td>0.000000</td>\n",
              "      <td>0.000000</td>\n",
              "      <td>0.000000</td>\n",
              "      <td>0.00000</td>\n",
              "      <td>0.000000</td>\n",
              "      <td>0.000000</td>\n",
              "      <td>0.000000</td>\n",
              "      <td>0.000000</td>\n",
              "      <td>0.000000</td>\n",
              "      <td>0.000000</td>\n",
              "      <td>0.00000</td>\n",
              "      <td>0.000000</td>\n",
              "      <td>0.000000</td>\n",
              "      <td>0.00000</td>\n",
              "      <td>0.000000</td>\n",
              "      <td>0.000000</td>\n",
              "      <td>0.000000</td>\n",
              "      <td>0.000000</td>\n",
              "      <td>0.000000</td>\n",
              "      <td>0.000000</td>\n",
              "      <td>0.000000</td>\n",
              "      <td>0.000000</td>\n",
              "      <td>0.000000</td>\n",
              "      <td>0.000000</td>\n",
              "      <td>0.000000</td>\n",
              "      <td>0.00000</td>\n",
              "      <td>0.00000</td>\n",
              "      <td>0.000000</td>\n",
              "      <td>0.000000</td>\n",
              "      <td>0.000000</td>\n",
              "      <td>0.000000</td>\n",
              "      <td>0.0</td>\n",
              "      <td>112255</td>\n",
              "      <td>0.137313</td>\n",
              "      <td>25</td>\n",
              "      <td>4.166667</td>\n",
              "      <td>1105</td>\n",
              "      <td>0.142214</td>\n",
              "      <td>0</td>\n",
              "      <td>0</td>\n",
              "      <td>0</td>\n",
              "      <td>0</td>\n",
              "      <td>0.0</td>\n",
              "      <td>0.0</td>\n",
              "      <td>0.0</td>\n",
              "      <td>0.0</td>\n",
              "      <td>0.0</td>\n",
              "      <td>0.0</td>\n",
              "      <td>0.0</td>\n",
              "      <td>0.0</td>\n",
              "      <td>0.0</td>\n",
              "      <td>0.0</td>\n",
              "      <td>0.0</td>\n",
              "      <td>0.0</td>\n",
              "      <td>0.0</td>\n",
              "      <td>0.0</td>\n",
              "      <td>0.0</td>\n",
              "      <td>0.0</td>\n",
              "      <td>0.0</td>\n",
              "      <td>0.0</td>\n",
              "      <td>0.0</td>\n",
              "      <td>0.0</td>\n",
              "      <td>0.0</td>\n",
              "      <td>0.0</td>\n",
              "      <td>0.0</td>\n",
              "      <td>0.0</td>\n",
              "      <td>0.0</td>\n",
              "      <td>0.0</td>\n",
              "      <td>0.0</td>\n",
              "      <td>0.0</td>\n",
              "      <td>0.0</td>\n",
              "      <td>0.0</td>\n",
              "      <td>0.0</td>\n",
              "      <td>0.0</td>\n",
              "      <td>0.0</td>\n",
              "      <td>0.0</td>\n",
              "      <td>0.0</td>\n",
              "      <td>0.0</td>\n",
              "      <td>0.0</td>\n",
              "      <td>0.0</td>\n",
              "      <td>0.002148</td>\n",
              "      <td>0.008069</td>\n",
              "      <td>0.0</td>\n",
              "    </tr>\n",
              "  </tbody>\n",
              "</table>\n",
              "</div>"
            ],
            "text/plain": [
              "   user_id    basket_id  day  item_id  quantity  sales_value  store_id  \\\n",
              "0      843  40955282722  622   845193         3         5.37       364   \n",
              "1      843  40955282722  622   845193         3         5.37       364   \n",
              "2      843  40955282722  622   865891         2         2.00       364   \n",
              "\n",
              "   retail_disc  trans_time  week_no  coupon_disc_x  coupon_match_disc  price  \\\n",
              "0         -1.5          19       90            0.0                0.0   1.79   \n",
              "1         -1.5          19       90            0.0                0.0   1.79   \n",
              "2          0.0          19       90            0.0                0.0   1.00   \n",
              "\n",
              "   manufacturer department     brand          commodity_desc  \\\n",
              "0     999999999    GROCERY  National            FROZEN PIZZA   \n",
              "1     999999999    GROCERY  National            FROZEN PIZZA   \n",
              "2           608    GROCERY  National  FRZN MEAT/MEAT DINNERS   \n",
              "\n",
              "               sub_commodity_desc curr_size_of_product       0_x       1_x  \\\n",
              "0               SNACKS/APPETIZERS              10.5 OZ  0.017755  0.005111   \n",
              "1               SNACKS/APPETIZERS              10.5 OZ  0.017755  0.005111   \n",
              "2  SS ECONOMY ENTREES/DINNERS ALL              6.75 OZ  0.000000  0.000000   \n",
              "\n",
              "        2_x       3_x      4_x       5_x       6_x       7_x       8_x  \\\n",
              "0 -0.001296  0.011887  0.00513  0.002052  0.000641  0.008965 -0.001445   \n",
              "1 -0.001296  0.011887  0.00513  0.002052  0.000641  0.008965 -0.001445   \n",
              "2  0.000000  0.000000  0.00000  0.000000  0.000000  0.000000  0.000000   \n",
              "\n",
              "        9_x      10_x     11_x      12_x      13_x     14_x      15_x  \\\n",
              "0  0.009723  0.012106  0.00084 -0.002744 -0.010492 -0.00115  0.005179   \n",
              "1  0.009723  0.012106  0.00084 -0.002744 -0.010492 -0.00115  0.005179   \n",
              "2  0.000000  0.000000  0.00000  0.000000  0.000000  0.00000  0.000000   \n",
              "\n",
              "       16_x      17_x      18_x      19_x      20_x      21_x      22_x  \\\n",
              "0  0.011961  0.003977  0.005664  0.007992  0.009404  0.006682  0.000298   \n",
              "1  0.011961  0.003977  0.005664  0.007992  0.009404  0.006682  0.000298   \n",
              "2  0.000000  0.000000  0.000000  0.000000  0.000000  0.000000  0.000000   \n",
              "\n",
              "       23_x      24_x      25_x     26_x     27_x      28_x      29_x  \\\n",
              "0  0.010711  0.011061  0.007569  0.00147 -0.00205  0.006969  0.000293   \n",
              "1  0.010711  0.011061  0.007569  0.00147 -0.00205  0.006969  0.000293   \n",
              "2  0.000000  0.000000  0.000000  0.00000  0.00000  0.000000  0.000000   \n",
              "\n",
              "       30_x      31_x  coupon_disc_y  sales_count_per_dep  \\\n",
              "0  0.006819  0.014743            0.0               112255   \n",
              "1  0.006819  0.014743            0.0               112255   \n",
              "2  0.000000  0.000000            0.0               112255   \n",
              "\n",
              "   qnt_of_sales_per_item_per_dep_per_week  quantity_of_sales  \\\n",
              "0                                0.137313                 52   \n",
              "1                                0.137313                 52   \n",
              "2                                0.137313                 25   \n",
              "\n",
              "   sales_count_per_week  qnt_of_sales_per_sub_commodity_desc  \\\n",
              "0              8.666667                                  893   \n",
              "1              8.666667                                  893   \n",
              "2              4.166667                                 1105   \n",
              "\n",
              "   qnt_of_sales_per_item_per_sub_commodity_desc_per_week marital_status_code  \\\n",
              "0                                           0.146202                       0   \n",
              "1                                           0.146202                       0   \n",
              "2                                           0.142214                       0   \n",
              "\n",
              "  homeowner_desc hh_comp_desc household_size_desc  0_y  1_y  2_y  3_y  4_y  \\\n",
              "0              0            0                   0  0.0  0.0  0.0  0.0  0.0   \n",
              "1              0            0                   0  0.0  0.0  0.0  0.0  0.0   \n",
              "2              0            0                   0  0.0  0.0  0.0  0.0  0.0   \n",
              "\n",
              "   5_y  6_y  7_y  8_y  9_y  10_y  11_y  12_y  13_y  14_y  15_y  16_y  17_y  \\\n",
              "0  0.0  0.0  0.0  0.0  0.0   0.0   0.0   0.0   0.0   0.0   0.0   0.0   0.0   \n",
              "1  0.0  0.0  0.0  0.0  0.0   0.0   0.0   0.0   0.0   0.0   0.0   0.0   0.0   \n",
              "2  0.0  0.0  0.0  0.0  0.0   0.0   0.0   0.0   0.0   0.0   0.0   0.0   0.0   \n",
              "\n",
              "   18_y  19_y  20_y  21_y  22_y  23_y  24_y  25_y  26_y  27_y  28_y  29_y  \\\n",
              "0   0.0   0.0   0.0   0.0   0.0   0.0   0.0   0.0   0.0   0.0   0.0   0.0   \n",
              "1   0.0   0.0   0.0   0.0   0.0   0.0   0.0   0.0   0.0   0.0   0.0   0.0   \n",
              "2   0.0   0.0   0.0   0.0   0.0   0.0   0.0   0.0   0.0   0.0   0.0   0.0   \n",
              "\n",
              "   30_y  31_y  mean_time  age  income  children  avr_bask  sum_per_week  \\\n",
              "0   0.0   0.0        0.0  0.0     0.0       0.0       0.0           0.0   \n",
              "1   0.0   0.0        0.0  0.0     0.0       0.0       0.0           0.0   \n",
              "2   0.0   0.0        0.0  0.0     0.0       0.0       0.0           0.0   \n",
              "\n",
              "   count_purchases_week_mean  sum_purchases_week_mean  target  \n",
              "0                   0.002468                 0.013529     1.0  \n",
              "1                   0.002468                 0.013529     1.0  \n",
              "2                   0.002148                 0.008069     0.0  "
            ]
          },
          "metadata": {
            "tags": []
          },
          "execution_count": 32
        }
      ]
    },
    {
      "cell_type": "code",
      "metadata": {
        "id": "MCO9dBAEgoQM"
      },
      "source": [
        "X_train = train.drop(['target'], axis=1)\n",
        "y_train = train[['target']]"
      ],
      "execution_count": 33,
      "outputs": []
    },
    {
      "cell_type": "code",
      "metadata": {
        "id": "9RS4DAy9goIw"
      },
      "source": [
        "cat_feats = []\n",
        "for col in X_train.columns:\n",
        "    if X_train[col].dtype == np.object:\n",
        "          cat_feats.append(col)\n",
        "            \n",
        "X_train[cat_feats + ['user_id', 'item_id']] = X_train[cat_feats + ['user_id', 'item_id']].astype('category')"
      ],
      "execution_count": 34,
      "outputs": []
    },
    {
      "cell_type": "code",
      "metadata": {
        "id": "7AOo6ghUgoGK"
      },
      "source": [
        "test_df = extend_user_item_new_features(data_test, data_train, recommender, item_features, \n",
        "                                        user_features, items_embeddings_df, users_embeddings_df, N)\n",
        "X_test = test_df.drop(['target'], axis=1)\n",
        "y_test = test_df[['target']]\n",
        "X_test[cat_feats + ['user_id', 'item_id']] = X_test[cat_feats + ['user_id', 'item_id']].astype('category')"
      ],
      "execution_count": 35,
      "outputs": []
    },
    {
      "cell_type": "markdown",
      "metadata": {
        "id": "aEoA9b92kggA"
      },
      "source": [
        "**Воспользуемся LGBMClassifier() для определения наиболее важных фич**"
      ]
    },
    {
      "cell_type": "code",
      "metadata": {
        "id": "lfNVN4_8j7gd"
      },
      "source": [
        "lgb_model = LGBMClassifier(objective='binary', max_depth=5, categorical_column=cat_feats)\n",
        "important_feats = generate_important_features(lgb_model, X_train, y_train)"
      ],
      "execution_count": 36,
      "outputs": []
    },
    {
      "cell_type": "markdown",
      "metadata": {
        "id": "LbO721IyzHW3"
      },
      "source": [
        "**Обучим модель 2-го уровня**"
      ]
    },
    {
      "cell_type": "code",
      "metadata": {
        "id": "scrVAs3Pj7ja"
      },
      "source": [
        "lgb_model = LGBMClassifier(\n",
        "    objective='binary',\n",
        "    max_depth=5,\n",
        "    categorical_feature=cat_feats\n",
        ")"
      ],
      "execution_count": 37,
      "outputs": []
    },
    {
      "cell_type": "code",
      "metadata": {
        "id": "9FCjVhw5bYUY",
        "outputId": "20617626-6f2f-4646-a5e9-6db49e7ee684",
        "colab": {
          "base_uri": "https://localhost:8080/"
        }
      },
      "source": [
        "lgb_model.fit(X_train[important_feats], y_train)"
      ],
      "execution_count": 38,
      "outputs": [
        {
          "output_type": "execute_result",
          "data": {
            "text/plain": [
              "LGBMClassifier(boosting_type='gbdt',\n",
              "               categorical_feature=['department', 'brand', 'commodity_desc',\n",
              "                                    'sub_commodity_desc',\n",
              "                                    'curr_size_of_product',\n",
              "                                    'marital_status_code', 'homeowner_desc',\n",
              "                                    'hh_comp_desc', 'household_size_desc'],\n",
              "               class_weight=None, colsample_bytree=1.0, importance_type='split',\n",
              "               learning_rate=0.1, max_depth=5, min_child_samples=20,\n",
              "               min_child_weight=0.001, min_split_gain=0.0, n_estimators=100,\n",
              "               n_jobs=-1, num_leaves=31, objective='binary', random_state=None,\n",
              "               reg_alpha=0.0, reg_lambda=0.0, silent=True, subsample=1.0,\n",
              "               subsample_for_bin=200000, subsample_freq=0)"
            ]
          },
          "metadata": {
            "tags": []
          },
          "execution_count": 38
        }
      ]
    },
    {
      "cell_type": "code",
      "metadata": {
        "id": "9pnYXcCu2lGG",
        "outputId": "f3257b80-3281-423d-a9df-4b67cd8e591b",
        "colab": {
          "base_uri": "https://localhost:8080/",
          "height": 312
        }
      },
      "source": [
        "lightgbm.plot_importance(lgb_model, max_num_features=15)"
      ],
      "execution_count": 39,
      "outputs": [
        {
          "output_type": "execute_result",
          "data": {
            "text/plain": [
              "<matplotlib.axes._subplots.AxesSubplot at 0x7f918d7eef28>"
            ]
          },
          "metadata": {
            "tags": []
          },
          "execution_count": 39
        },
        {
          "output_type": "display_data",
          "data": {
            "image/png": "[encoded data removed]",
            "text/plain": [
              "<Figure size 432x288 with 1 Axes>"
            ]
          },
          "metadata": {
            "tags": [],
            "needs_background": "light"
          }
        }
      ]
    },
    {
      "cell_type": "code",
      "metadata": {
        "id": "Mney5Mf5j7mi"
      },
      "source": [
        "test_preds_proba = lgb_model.predict_proba(X_test[important_feats])[:, 1]"
      ],
      "execution_count": 40,
      "outputs": []
    },
    {
      "cell_type": "markdown",
      "metadata": {
        "id": "kHf_JLIWk1n5"
      },
      "source": [
        "**Сделаем финальную фильтрацию данных**"
      ]
    },
    {
      "cell_type": "code",
      "metadata": {
        "id": "PSwf21Thj8PB",
        "outputId": "23feb13a-3caf-476d-9cd1-20403e885c96",
        "colab": {
          "base_uri": "https://localhost:8080/"
        }
      },
      "source": [
        "%%time\n",
        "gfr = generate_final_recs(X_test, test_preds_proba, data, data_train, item_features)"
      ],
      "execution_count": 41,
      "outputs": [
        {
          "output_type": "stream",
          "text": [
            "100%|██████████| 2499/2499 [18:34<00:00,  2.24it/s]"
          ],
          "name": "stderr"
        },
        {
          "output_type": "stream",
          "text": [
            "CPU times: user 18min 22s, sys: 41.5 s, total: 19min 4s\n",
            "Wall time: 18min 35s\n"
          ],
          "name": "stdout"
        },
        {
          "output_type": "stream",
          "text": [
            "\n"
          ],
          "name": "stderr"
        }
      ]
    },
    {
      "cell_type": "code",
      "metadata": {
        "id": "TDmRM4FDj8VC"
      },
      "source": [
        "price = data_train.groupby('item_id')['price'].mean().reset_index()"
      ],
      "execution_count": 42,
      "outputs": []
    },
    {
      "cell_type": "markdown",
      "metadata": {
        "id": "cq6xgYDPqbF6"
      },
      "source": [
        "**Вычислим money_precision_at_k**"
      ]
    },
    {
      "cell_type": "code",
      "metadata": {
        "id": "3x4miVMYj8Le",
        "outputId": "1c45ae5f-8010-476f-cacd-d5eff2ea06ee",
        "colab": {
          "base_uri": "https://localhost:8080/"
        }
      },
      "source": [
        "final_pres_result = gfr.apply(lambda row: money_precision_at_k(row['recommendations'], \n",
        "                                                               row['actual'], price), axis=1).mean()\n",
        "final_pres_result"
      ],
      "execution_count": 43,
      "outputs": [
        {
          "output_type": "execute_result",
          "data": {
            "text/plain": [
              "0.4224491007117755"
            ]
          },
          "metadata": {
            "tags": []
          },
          "execution_count": 43
        }
      ]
    },
    {
      "cell_type": "markdown",
      "metadata": {
        "id": "whms0Up3qreA"
      },
      "source": [
        "**Сохраним предсказания**"
      ]
    },
    {
      "cell_type": "code",
      "metadata": {
        "id": "oW_dimt4qWF-"
      },
      "source": [
        "gfr.drop('actual', axis=1, inplace=True)"
      ],
      "execution_count": 44,
      "outputs": []
    },
    {
      "cell_type": "code",
      "metadata": {
        "id": "TAllhFe6yZhD",
        "outputId": "7256badd-7f1a-469f-d850-05820bda8b12",
        "colab": {
          "base_uri": "https://localhost:8080/",
          "height": 142
        }
      },
      "source": [
        "gfr.head(3)"
      ],
      "execution_count": 45,
      "outputs": [
        {
          "output_type": "execute_result",
          "data": {
            "text/html": [
              "<div>\n",
              "<style scoped>\n",
              "    .dataframe tbody tr th:only-of-type {\n",
              "        vertical-align: middle;\n",
              "    }\n",
              "\n",
              "    .dataframe tbody tr th {\n",
              "        vertical-align: top;\n",
              "    }\n",
              "\n",
              "    .dataframe thead th {\n",
              "        text-align: right;\n",
              "    }\n",
              "</style>\n",
              "<table border=\"1\" class=\"dataframe\">\n",
              "  <thead>\n",
              "    <tr style=\"text-align: right;\">\n",
              "      <th></th>\n",
              "      <th>user_id</th>\n",
              "      <th>recommendations</th>\n",
              "    </tr>\n",
              "  </thead>\n",
              "  <tbody>\n",
              "    <tr>\n",
              "      <th>0</th>\n",
              "      <td>1</td>\n",
              "      <td>[874972, 961554, 962568, 1004906, 965766]</td>\n",
              "    </tr>\n",
              "    <tr>\n",
              "      <th>1</th>\n",
              "      <td>2</td>\n",
              "      <td>[874972, 1053690, 940947, 1133018, 899624]</td>\n",
              "    </tr>\n",
              "    <tr>\n",
              "      <th>2</th>\n",
              "      <td>3</td>\n",
              "      <td>[874972, 908531, 1133018, 13842214, 1096727]</td>\n",
              "    </tr>\n",
              "  </tbody>\n",
              "</table>\n",
              "</div>"
            ],
            "text/plain": [
              "   user_id                               recommendations\n",
              "0        1     [874972, 961554, 962568, 1004906, 965766]\n",
              "1        2    [874972, 1053690, 940947, 1133018, 899624]\n",
              "2        3  [874972, 908531, 1133018, 13842214, 1096727]"
            ]
          },
          "metadata": {
            "tags": []
          },
          "execution_count": 45
        }
      ]
    },
    {
      "cell_type": "code",
      "metadata": {
        "id": "AZPwosbe5BqT",
        "outputId": "e8da2c9e-5352-4cda-8560-82acfa18b356",
        "colab": {
          "base_uri": "https://localhost:8080/"
        }
      },
      "source": [
        "recs_count = gfr['recommendations'].apply(lambda x: len(x))\n",
        "print('Количество рекомендаций не равное 5: ', recs_count.loc[recs_count != 5].shape[0])"
      ],
      "execution_count": 46,
      "outputs": [
        {
          "output_type": "stream",
          "text": [
            "Количество рекомендаций не равное 5:  0\n"
          ],
          "name": "stdout"
        }
      ]
    },
    {
      "cell_type": "code",
      "metadata": {
        "id": "nwo6zbE2j8I6"
      },
      "source": [
        "gfr.to_csv('TSataev_solution.csv', index=False)"
      ],
      "execution_count": 47,
      "outputs": []
    },
    {
      "cell_type": "code",
      "metadata": {
        "id": "_rqycGj7j8Gl"
      },
      "source": [
        ""
      ],
      "execution_count": 47,
      "outputs": []
    }
  ]
}