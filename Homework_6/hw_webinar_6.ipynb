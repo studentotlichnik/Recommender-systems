{
 "cells": [
  {
   "cell_type": "markdown",
   "metadata": {},
   "source": [
    "# Вебинар 6. Двухуровневые модели рекомендаций\n"
   ]
  },
  {
   "cell_type": "markdown",
   "metadata": {},
   "source": [
    "Код для src, utils, metrics вы можете скачать из [этого](https://github.com/geangohn/recsys-tutorial) github репозитория"
   ]
  },
  {
   "cell_type": "code",
   "execution_count": 1,
   "metadata": {},
   "outputs": [],
   "source": [
    "import pandas as pd\n",
    "import numpy as np\n",
    "import matplotlib.pyplot as plt\n",
    "%matplotlib inline\n",
    "\n",
    "# Для работы с матрицами\n",
    "from scipy.sparse import csr_matrix\n",
    "\n",
    "# Матричная факторизация\n",
    "from implicit import als\n",
    "\n",
    "# Модель второго уровня\n",
    "from lightgbm import LGBMClassifier\n",
    "\n",
    "import os, sys\n",
    "module_path = os.path.abspath(os.path.join(os.pardir))\n",
    "if module_path not in sys.path:\n",
    "    sys.path.append(module_path)\n",
    "\n",
    "# Написанные нами функции\n",
    "from src.metrics import precision_at_k, recall_at_k\n",
    "from src.utils import prefilter_items\n",
    "from src.recommenders import MainRecommender"
   ]
  },
  {
   "cell_type": "code",
   "execution_count": 2,
   "metadata": {},
   "outputs": [
    {
     "data": {
      "text/html": [
       "<div>\n",
       "<style scoped>\n",
       "    .dataframe tbody tr th:only-of-type {\n",
       "        vertical-align: middle;\n",
       "    }\n",
       "\n",
       "    .dataframe tbody tr th {\n",
       "        vertical-align: top;\n",
       "    }\n",
       "\n",
       "    .dataframe thead th {\n",
       "        text-align: right;\n",
       "    }\n",
       "</style>\n",
       "<table border=\"1\" class=\"dataframe\">\n",
       "  <thead>\n",
       "    <tr style=\"text-align: right;\">\n",
       "      <th></th>\n",
       "      <th>user_id</th>\n",
       "      <th>basket_id</th>\n",
       "      <th>day</th>\n",
       "      <th>item_id</th>\n",
       "      <th>quantity</th>\n",
       "      <th>sales_value</th>\n",
       "      <th>store_id</th>\n",
       "      <th>retail_disc</th>\n",
       "      <th>trans_time</th>\n",
       "      <th>week_no</th>\n",
       "      <th>coupon_disc</th>\n",
       "      <th>coupon_match_disc</th>\n",
       "    </tr>\n",
       "  </thead>\n",
       "  <tbody>\n",
       "    <tr>\n",
       "      <th>0</th>\n",
       "      <td>2375</td>\n",
       "      <td>26984851472</td>\n",
       "      <td>1</td>\n",
       "      <td>1004906</td>\n",
       "      <td>1</td>\n",
       "      <td>1.39</td>\n",
       "      <td>364</td>\n",
       "      <td>-0.6</td>\n",
       "      <td>1631</td>\n",
       "      <td>1</td>\n",
       "      <td>0.0</td>\n",
       "      <td>0.0</td>\n",
       "    </tr>\n",
       "    <tr>\n",
       "      <th>1</th>\n",
       "      <td>2375</td>\n",
       "      <td>26984851472</td>\n",
       "      <td>1</td>\n",
       "      <td>1033142</td>\n",
       "      <td>1</td>\n",
       "      <td>0.82</td>\n",
       "      <td>364</td>\n",
       "      <td>0.0</td>\n",
       "      <td>1631</td>\n",
       "      <td>1</td>\n",
       "      <td>0.0</td>\n",
       "      <td>0.0</td>\n",
       "    </tr>\n",
       "  </tbody>\n",
       "</table>\n",
       "</div>"
      ],
      "text/plain": [
       "   user_id    basket_id  day  item_id  quantity  sales_value  store_id  \\\n",
       "0     2375  26984851472    1  1004906         1         1.39       364   \n",
       "1     2375  26984851472    1  1033142         1         0.82       364   \n",
       "\n",
       "   retail_disc  trans_time  week_no  coupon_disc  coupon_match_disc  \n",
       "0         -0.6        1631        1          0.0                0.0  \n",
       "1          0.0        1631        1          0.0                0.0  "
      ]
     },
     "execution_count": 2,
     "metadata": {},
     "output_type": "execute_result"
    }
   ],
   "source": [
    "data = pd.read_csv('retail_train.csv')\n",
    "item_features = pd.read_csv('product.csv')\n",
    "user_features = pd.read_csv('hh_demographic.csv')\n",
    "\n",
    "# column processing\n",
    "item_features.columns = [col.lower() for col in item_features.columns]\n",
    "user_features.columns = [col.lower() for col in user_features.columns]\n",
    "\n",
    "item_features.rename(columns={'product_id': 'item_id'}, inplace=True)\n",
    "user_features.rename(columns={'household_key': 'user_id'}, inplace=True)\n",
    "\n",
    "\n",
    "# Важна схема обучения и валидации!\n",
    "# -- давние покупки -- | -- 6 недель -- | -- 3 недель -- \n",
    "# подобрать размер 2-ого датасета (6 недель) --> learning curve (зависимость метрики recall@k от размера датасета)\n",
    "val_lvl_1_size_weeks = 6\n",
    "val_lvl_2_size_weeks = 3\n",
    "\n",
    "data_train_lvl_1 = data[data['week_no'] < data['week_no'].max() - (val_lvl_1_size_weeks + val_lvl_2_size_weeks)]\n",
    "data_val_lvl_1 = data[(data['week_no'] >= data['week_no'].max() - (val_lvl_1_size_weeks + val_lvl_2_size_weeks)) &\n",
    "                      (data['week_no'] < data['week_no'].max() - (val_lvl_2_size_weeks))]\n",
    "\n",
    "data_train_lvl_2 = data_val_lvl_1.copy()  # Для наглядности. Далее мы добавим изменения, и они будут отличаться\n",
    "data_val_lvl_2 = data[data['week_no'] >= data['week_no'].max() - val_lvl_2_size_weeks]\n",
    "\n",
    "data_train_lvl_1.head(2)"
   ]
  },
  {
   "cell_type": "code",
   "execution_count": 3,
   "metadata": {},
   "outputs": [
    {
     "name": "stdout",
     "output_type": "stream",
     "text": [
      "Decreased # items from 83685 to 5001\n"
     ]
    }
   ],
   "source": [
    "n_items_before = data_train_lvl_1['item_id'].nunique()\n",
    "\n",
    "data_train_lvl_1 = prefilter_items(data_train_lvl_1, item_features=item_features, take_n_popular=5000)\n",
    "\n",
    "n_items_after = data_train_lvl_1['item_id'].nunique()\n",
    "print('Decreased # items from {} to {}'.format(n_items_before, n_items_after))"
   ]
  },
  {
   "cell_type": "code",
   "execution_count": 4,
   "metadata": {},
   "outputs": [
    {
     "name": "stderr",
     "output_type": "stream",
     "text": [
      "WARNING:root:Intel MKL BLAS detected. Its highly recommend to set the environment variable 'export MKL_NUM_THREADS=1' to disable its internal multithreading\n"
     ]
    },
    {
     "data": {
      "application/vnd.jupyter.widget-view+json": {
       "model_id": "167f722d59474e32857cf919a2e784af",
       "version_major": 2,
       "version_minor": 0
      },
      "text/plain": [
       "HBox(children=(FloatProgress(value=0.0, max=15.0), HTML(value='')))"
      ]
     },
     "metadata": {},
     "output_type": "display_data"
    },
    {
     "name": "stdout",
     "output_type": "stream",
     "text": [
      "\n"
     ]
    },
    {
     "data": {
      "application/vnd.jupyter.widget-view+json": {
       "model_id": "4b46e2f6ee6047f3ab7f2b3eeeaabdc2",
       "version_major": 2,
       "version_minor": 0
      },
      "text/plain": [
       "HBox(children=(FloatProgress(value=0.0, max=5001.0), HTML(value='')))"
      ]
     },
     "metadata": {},
     "output_type": "display_data"
    },
    {
     "name": "stdout",
     "output_type": "stream",
     "text": [
      "\n"
     ]
    }
   ],
   "source": [
    "recommender = MainRecommender(data_train_lvl_1)"
   ]
  },
  {
   "cell_type": "code",
   "execution_count": 5,
   "metadata": {},
   "outputs": [
    {
     "data": {
      "text/plain": [
       "[1106523,\n",
       " 899624,\n",
       " 871756,\n",
       " 1044078,\n",
       " 844179,\n",
       " 1022428,\n",
       " 12262978,\n",
       " 1000753,\n",
       " 5569230,\n",
       " 1003616,\n",
       " 947858,\n",
       " 8090537,\n",
       " 883932,\n",
       " 1046545,\n",
       " 1134678,\n",
       " 850925,\n",
       " 1059902,\n",
       " 8090521,\n",
       " 944534,\n",
       " 9835223,\n",
       " 865456,\n",
       " 1051323,\n",
       " 1025535,\n",
       " 832678,\n",
       " 999779,\n",
       " 863447,\n",
       " 973181,\n",
       " 940023,\n",
       " 912147,\n",
       " 12262778,\n",
       " 1103691,\n",
       " 1116376,\n",
       " 841220,\n",
       " 874972,\n",
       " 9836106,\n",
       " 1096573,\n",
       " 925862,\n",
       " 9832469,\n",
       " 850102,\n",
       " 938138,\n",
       " 861279,\n",
       " 965267,\n",
       " 12301839,\n",
       " 913026,\n",
       " 1097458,\n",
       " 896613,\n",
       " 1090931,\n",
       " 923149,\n",
       " 1022254,\n",
       " 999714,\n",
       " 1038663,\n",
       " 823990,\n",
       " 9835451,\n",
       " 8090539,\n",
       " 935578,\n",
       " 895166,\n",
       " 1004390,\n",
       " 9419769,\n",
       " 1002850,\n",
       " 965766,\n",
       " 888543,\n",
       " 847790,\n",
       " 835300,\n",
       " 1004906,\n",
       " 902172,\n",
       " 1081177,\n",
       " 1029743,\n",
       " 999270,\n",
       " 6534077,\n",
       " 837304,\n",
       " 851188,\n",
       " 937292,\n",
       " 1081262,\n",
       " 12330376,\n",
       " 1121360,\n",
       " 1046919,\n",
       " 1092885,\n",
       " 1102207,\n",
       " 963339,\n",
       " 1070702,\n",
       " 1020823,\n",
       " 995816,\n",
       " 956599,\n",
       " 986912,\n",
       " 1009770,\n",
       " 880150,\n",
       " 12731544,\n",
       " 1136486,\n",
       " 832442,\n",
       " 865528,\n",
       " 12731714,\n",
       " 1057749,\n",
       " 1006878,\n",
       " 1068719,\n",
       " 1103476,\n",
       " 903609,\n",
       " 1119454,\n",
       " 913278,\n",
       " 963971,\n",
       " 952163,\n",
       " 864279,\n",
       " 5563693,\n",
       " 896862,\n",
       " 972143,\n",
       " 963727,\n",
       " 839818,\n",
       " 854852,\n",
       " 5585510,\n",
       " 823704,\n",
       " 1094833,\n",
       " 1132771,\n",
       " 844462,\n",
       " 879008,\n",
       " 5569845,\n",
       " 12352293,\n",
       " 948650,\n",
       " 10198378,\n",
       " 830304,\n",
       " 945998,\n",
       " 1042942,\n",
       " 1037863,\n",
       " 1107420,\n",
       " 1079067,\n",
       " 987571,\n",
       " 998239,\n",
       " 1094308,\n",
       " 841236,\n",
       " 8065410,\n",
       " 828106,\n",
       " 982393,\n",
       " 930666,\n",
       " 993638,\n",
       " 835530,\n",
       " 870547,\n",
       " 8091550,\n",
       " 1133312,\n",
       " 1092937,\n",
       " 12731685,\n",
       " 1115098,\n",
       " 5567143,\n",
       " 13003092,\n",
       " 1132968,\n",
       " 933067,\n",
       " 1138467,\n",
       " 827919,\n",
       " 6904775,\n",
       " 1035207,\n",
       " 903602,\n",
       " 1068561,\n",
       " 6904666,\n",
       " 868909,\n",
       " 887325,\n",
       " 1068504,\n",
       " 998206,\n",
       " 1137346,\n",
       " 999858,\n",
       " 12731517,\n",
       " 956666,\n",
       " 1012587,\n",
       " 1085983,\n",
       " 1041031,\n",
       " 995880,\n",
       " 848029,\n",
       " 1138292,\n",
       " 8358065,\n",
       " 1075032,\n",
       " 12302069,\n",
       " 1072685,\n",
       " 1123146,\n",
       " 1022827,\n",
       " 825343,\n",
       " 12731432,\n",
       " 949965,\n",
       " 9831469,\n",
       " 1094744,\n",
       " 879677,\n",
       " 1004613,\n",
       " 939900,\n",
       " 1033142,\n",
       " 1051516,\n",
       " 999391,\n",
       " 989069,\n",
       " 830686,\n",
       " 6534578,\n",
       " 8090509,\n",
       " 1067695,\n",
       " 5568995,\n",
       " 869322,\n",
       " 12810391,\n",
       " 12262830,\n",
       " 884756,\n",
       " 10204149,\n",
       " 836445,\n",
       " 936355,\n",
       " 8203851,\n",
       " 910032,\n",
       " 831517,\n",
       " 1068292,\n",
       " 863885,\n",
       " 1000736]"
      ]
     },
     "execution_count": 5,
     "metadata": {},
     "output_type": "execute_result"
    }
   ],
   "source": [
    "recommender.get_als_recommendations(2375, N=200)"
   ]
  },
  {
   "cell_type": "code",
   "execution_count": 6,
   "metadata": {},
   "outputs": [
    {
     "data": {
      "text/plain": [
       "[948640,\n",
       " 918046,\n",
       " 847962,\n",
       " 907099,\n",
       " 873980,\n",
       " 884694,\n",
       " 10285454,\n",
       " 1107760,\n",
       " 7169090,\n",
       " 979674,\n",
       " 10308345,\n",
       " 1069531,\n",
       " 974766,\n",
       " 1015474,\n",
       " 950935,\n",
       " 847066,\n",
       " 1102207,\n",
       " 1020770,\n",
       " 9521787,\n",
       " 974265,\n",
       " 940996,\n",
       " 8019845,\n",
       " 5567194,\n",
       " 12811490,\n",
       " 1003616,\n",
       " 973181,\n",
       " 890719,\n",
       " 982955,\n",
       " 9677152,\n",
       " 998519,\n",
       " 1072685,\n",
       " 1131382,\n",
       " 1021715,\n",
       " 12263119,\n",
       " 960791,\n",
       " 7441873,\n",
       " 986021,\n",
       " 956666,\n",
       " 1038692,\n",
       " 9677748,\n",
       " 9297223,\n",
       " 927030,\n",
       " 12757653,\n",
       " 1046919,\n",
       " 6391532,\n",
       " 989069,\n",
       " 1068451,\n",
       " 951954,\n",
       " 835300,\n",
       " 937343,\n",
       " 1047249,\n",
       " 13876348,\n",
       " 1061732,\n",
       " 981601,\n",
       " 1121028,\n",
       " 1087547,\n",
       " 828393,\n",
       " 996269,\n",
       " 951951,\n",
       " 1036093,\n",
       " 1023815,\n",
       " 5570408,\n",
       " 827667,\n",
       " 1082454,\n",
       " 1006878,\n",
       " 5570048,\n",
       " 841309,\n",
       " 1078652,\n",
       " 1115553,\n",
       " 1056492,\n",
       " 1138467,\n",
       " 1004945,\n",
       " 947858,\n",
       " 1092885,\n",
       " 1121694,\n",
       " 938138,\n",
       " 8019916,\n",
       " 827919,\n",
       " 984315,\n",
       " 10341855,\n",
       " 883932,\n",
       " 8291322,\n",
       " 1096794,\n",
       " 1028938,\n",
       " 1087618,\n",
       " 8020166,\n",
       " 1082185,\n",
       " 866871,\n",
       " 930666,\n",
       " 825994,\n",
       " 910151,\n",
       " 823990,\n",
       " 848029,\n",
       " 896613,\n",
       " 12301839,\n",
       " 1117219,\n",
       " 1135258,\n",
       " 869868,\n",
       " 1046545,\n",
       " 899624,\n",
       " 6442594,\n",
       " 1137775,\n",
       " 825343,\n",
       " 1042907,\n",
       " 828106,\n",
       " 9245106,\n",
       " 947412,\n",
       " 902172,\n",
       " 8065410,\n",
       " 6034857,\n",
       " 1043751,\n",
       " 863447,\n",
       " 823704,\n",
       " 908318,\n",
       " 1105488,\n",
       " 874972,\n",
       " 7024847,\n",
       " 1081177,\n",
       " 1044078,\n",
       " 878996,\n",
       " 5707857,\n",
       " 916122,\n",
       " 1029743,\n",
       " 1106523,\n",
       " 5569230,\n",
       " 916122,\n",
       " 844179,\n",
       " 1044078,\n",
       " 1126899,\n",
       " 1070820,\n",
       " 1127831,\n",
       " 866211,\n",
       " 8090521,\n",
       " 878996,\n",
       " 8090537,\n",
       " 5569471,\n",
       " 1004906,\n",
       " 854852,\n",
       " 899624,\n",
       " 986912,\n",
       " 933835,\n",
       " 1075368,\n",
       " 1081177,\n",
       " 6034857,\n",
       " 5585510,\n",
       " 965267,\n",
       " 834117,\n",
       " 940947,\n",
       " 983584,\n",
       " 12810393,\n",
       " 913210,\n",
       " 874972,\n",
       " 5569845,\n",
       " 5568378,\n",
       " 999858,\n",
       " 908318,\n",
       " 985999,\n",
       " 901062,\n",
       " 1040807,\n",
       " 1018740,\n",
       " 951412,\n",
       " 1101010,\n",
       " 1105488,\n",
       " 1037840,\n",
       " 880150,\n",
       " 1043751,\n",
       " 857503,\n",
       " 1122358,\n",
       " 1132771,\n",
       " 823704,\n",
       " 854405,\n",
       " 909714,\n",
       " 993638,\n",
       " 930118,\n",
       " 839419,\n",
       " 971922,\n",
       " 910032,\n",
       " 863447,\n",
       " 835098,\n",
       " 865456,\n",
       " 976199,\n",
       " 12301109,\n",
       " 1070702,\n",
       " 5569374,\n",
       " 8090532,\n",
       " 872137,\n",
       " 883003,\n",
       " 1023720,\n",
       " 1012587,\n",
       " 1000753,\n",
       " 893018,\n",
       " 1024306,\n",
       " 897954,\n",
       " 1042438,\n",
       " 907631,\n",
       " 5568729,\n",
       " 1068719,\n",
       " 1137775,\n",
       " 1087102,\n",
       " 944534]"
      ]
     },
     "execution_count": 6,
     "metadata": {},
     "output_type": "execute_result"
    }
   ],
   "source": [
    "recommender.get_own_recommendations(2375, N=200)"
   ]
  },
  {
   "cell_type": "code",
   "execution_count": 7,
   "metadata": {},
   "outputs": [
    {
     "data": {
      "text/plain": [
       "[1046545,\n",
       " 1044078,\n",
       " 1042907,\n",
       " 842125,\n",
       " 15778319,\n",
       " 1051323,\n",
       " 999104,\n",
       " 896613,\n",
       " 885863,\n",
       " 1025535,\n",
       " 863447,\n",
       " 878996,\n",
       " 906923,\n",
       " 871611,\n",
       " 999714,\n",
       " 866871,\n",
       " 828106,\n",
       " 819978,\n",
       " 1021522,\n",
       " 1017072,\n",
       " 1070702,\n",
       " 1027090,\n",
       " 858373,\n",
       " 12301100,\n",
       " 899624,\n",
       " 5567622,\n",
       " 1045586,\n",
       " 823721,\n",
       " 985999,\n",
       " 1037417,\n",
       " 9835903,\n",
       " 1127025,\n",
       " 1000753,\n",
       " 992826,\n",
       " 1130517,\n",
       " 1015386,\n",
       " 6633342,\n",
       " 848029,\n",
       " 854716,\n",
       " 5570383,\n",
       " 1045069,\n",
       " 916122,\n",
       " 1103476,\n",
       " 1080354,\n",
       " 966619,\n",
       " 8291322,\n",
       " 876232,\n",
       " 12132312,\n",
       " 8065410,\n",
       " 1008032,\n",
       " 954651,\n",
       " 1092835,\n",
       " 6979526,\n",
       " 1105301,\n",
       " 7168774,\n",
       " 1002771,\n",
       " 865456,\n",
       " 828106,\n",
       " 1016276,\n",
       " 1105488,\n",
       " 1121360,\n",
       " 825343,\n",
       " 972931,\n",
       " 1038998,\n",
       " 9553065,\n",
       " 993430,\n",
       " 8090537,\n",
       " 882247,\n",
       " 5568378,\n",
       " 948650,\n",
       " 1046488,\n",
       " 12262778,\n",
       " 1098435,\n",
       " 1108844,\n",
       " 7441191,\n",
       " 969945,\n",
       " 10149303,\n",
       " 1008799,\n",
       " 1133312,\n",
       " 1005576,\n",
       " 999270,\n",
       " 844179,\n",
       " 999858,\n",
       " 12132277,\n",
       " 991761,\n",
       " 8090565,\n",
       " 9677149,\n",
       " 909811,\n",
       " 885309,\n",
       " 865456,\n",
       " 896804,\n",
       " 12757425,\n",
       " 987615,\n",
       " 1011736,\n",
       " 1044759,\n",
       " 1130458,\n",
       " 9858920,\n",
       " 999270,\n",
       " 885863,\n",
       " 1087755,\n",
       " 868909,\n",
       " 959316,\n",
       " 1089954,\n",
       " 1096794,\n",
       " 970760,\n",
       " 1135552,\n",
       " 999999,\n",
       " 933637,\n",
       " 990797,\n",
       " 902172,\n",
       " 5569845,\n",
       " 9835408,\n",
       " 826666,\n",
       " 878996,\n",
       " 1131488,\n",
       " 829427,\n",
       " 865156,\n",
       " 866878,\n",
       " 5591520,\n",
       " 1127831,\n",
       " 1046584,\n",
       " 9523058,\n",
       " 1076199,\n",
       " 1029743,\n",
       " 1106523,\n",
       " 5569230,\n",
       " 916122,\n",
       " 844179,\n",
       " 1044078,\n",
       " 1126899,\n",
       " 1070820,\n",
       " 1127831,\n",
       " 866211,\n",
       " 8090521,\n",
       " 878996,\n",
       " 8090537,\n",
       " 5569471,\n",
       " 1004906,\n",
       " 854852,\n",
       " 899624,\n",
       " 986912,\n",
       " 933835,\n",
       " 1075368,\n",
       " 1081177,\n",
       " 6034857,\n",
       " 5585510,\n",
       " 965267,\n",
       " 834117,\n",
       " 940947,\n",
       " 983584,\n",
       " 12810393,\n",
       " 913210,\n",
       " 874972,\n",
       " 5569845,\n",
       " 5568378,\n",
       " 999858,\n",
       " 908318,\n",
       " 985999,\n",
       " 901062,\n",
       " 1040807,\n",
       " 1018740,\n",
       " 951412,\n",
       " 1101010,\n",
       " 1105488,\n",
       " 1037840,\n",
       " 880150,\n",
       " 1043751,\n",
       " 857503,\n",
       " 1122358,\n",
       " 1132771,\n",
       " 823704,\n",
       " 854405,\n",
       " 909714,\n",
       " 993638,\n",
       " 930118,\n",
       " 839419,\n",
       " 971922,\n",
       " 910032,\n",
       " 863447,\n",
       " 835098,\n",
       " 865456,\n",
       " 976199,\n",
       " 12301109,\n",
       " 1070702,\n",
       " 5569374,\n",
       " 8090532,\n",
       " 872137,\n",
       " 883003,\n",
       " 1023720,\n",
       " 1012587,\n",
       " 1000753,\n",
       " 893018,\n",
       " 1024306,\n",
       " 897954,\n",
       " 1042438,\n",
       " 907631,\n",
       " 5568729,\n",
       " 1068719,\n",
       " 1137775,\n",
       " 1087102]"
      ]
     },
     "execution_count": 7,
     "metadata": {},
     "output_type": "execute_result"
    }
   ],
   "source": [
    "recommender.get_similar_items_recommendation(2375, N=200)"
   ]
  },
  {
   "cell_type": "code",
   "execution_count": 8,
   "metadata": {},
   "outputs": [
    {
     "data": {
      "text/plain": [
       "[974265,\n",
       " 1102003,\n",
       " 9245108,\n",
       " 5574377,\n",
       " 1120190,\n",
       " 10457044,\n",
       " 879008,\n",
       " 12427353,\n",
       " 1101502,\n",
       " 820612,\n",
       " 9677454,\n",
       " 1103513,\n",
       " 5578856,\n",
       " 1015539,\n",
       " 959455,\n",
       " 949257,\n",
       " 1012801,\n",
       " 1129805,\n",
       " 8090542,\n",
       " 979674,\n",
       " 994577,\n",
       " 875089,\n",
       " 871514,\n",
       " 939860,\n",
       " 1065259,\n",
       " 1107760,\n",
       " 10284929,\n",
       " 948225,\n",
       " 995502,\n",
       " 965956,\n",
       " 945909,\n",
       " 5574358,\n",
       " 963686,\n",
       " 847434,\n",
       " 1012801,\n",
       " 6979437,\n",
       " 882826,\n",
       " 896757,\n",
       " 9553048,\n",
       " 1010308,\n",
       " 997025,\n",
       " 5567325,\n",
       " 5568758,\n",
       " 1134296,\n",
       " 820582,\n",
       " 855454,\n",
       " 874563,\n",
       " 948239,\n",
       " 977559,\n",
       " 6391134,\n",
       " 1124971,\n",
       " 965772,\n",
       " 873715,\n",
       " 9926758,\n",
       " 852015,\n",
       " 1118120,\n",
       " 873044,\n",
       " 1071196,\n",
       " 881391,\n",
       " 979674,\n",
       " 830686,\n",
       " 1131625,\n",
       " 1115069,\n",
       " 942045,\n",
       " 1038745,\n",
       " 911614,\n",
       " 12523928,\n",
       " 878715,\n",
       " 918638,\n",
       " 1053022,\n",
       " 6391089,\n",
       " 1131169,\n",
       " 950894,\n",
       " 1072392,\n",
       " 847962,\n",
       " 875392,\n",
       " 1115069,\n",
       " 1120190,\n",
       " 894360,\n",
       " 6391557,\n",
       " 917033,\n",
       " 853124,\n",
       " 902640,\n",
       " 868645,\n",
       " 9419422,\n",
       " 13213202,\n",
       " 834516,\n",
       " 12263857,\n",
       " 1117219,\n",
       " 12523928,\n",
       " 1131625,\n",
       " 977927,\n",
       " 1098719,\n",
       " 941515,\n",
       " 997987,\n",
       " 866548,\n",
       " 10149656,\n",
       " 9553335,\n",
       " 1081533,\n",
       " 1020208,\n",
       " 1117219,\n",
       " 918046,\n",
       " 871514,\n",
       " 911974,\n",
       " 1123045,\n",
       " 868645,\n",
       " 847066,\n",
       " 939789,\n",
       " 7146026,\n",
       " 890423,\n",
       " 9553048,\n",
       " 1115069,\n",
       " 5568758,\n",
       " 1036699,\n",
       " 837495,\n",
       " 841236,\n",
       " 1043920,\n",
       " 9392953,\n",
       " 8090956,\n",
       " 939681,\n",
       " 9420183,\n",
       " 951188,\n",
       " 1027216,\n",
       " 1118946,\n",
       " 1026945,\n",
       " 999189,\n",
       " 972445,\n",
       " 5569135,\n",
       " 935578,\n",
       " 8069118,\n",
       " 1112405,\n",
       " 1092669,\n",
       " 1097398,\n",
       " 948640,\n",
       " 902640,\n",
       " 897671,\n",
       " 13007846,\n",
       " 908312,\n",
       " 9837092,\n",
       " 939860,\n",
       " 5707857,\n",
       " 8069336,\n",
       " 8066803,\n",
       " 915905,\n",
       " 884089,\n",
       " 5566809,\n",
       " 927028,\n",
       " 8090533,\n",
       " 965889,\n",
       " 943940,\n",
       " 6039994,\n",
       " 7142552,\n",
       " 925863,\n",
       " 1116050,\n",
       " 1028422,\n",
       " 1118946,\n",
       " 930335,\n",
       " 947412,\n",
       " 920025,\n",
       " 853124,\n",
       " 9392953,\n",
       " 1116050,\n",
       " 857538,\n",
       " 921406,\n",
       " 854133,\n",
       " 1070723,\n",
       " 1031316,\n",
       " 5569074,\n",
       " 1014732,\n",
       " 894360,\n",
       " 997025,\n",
       " 5707857,\n",
       " 920025,\n",
       " 852600,\n",
       " 998519,\n",
       " 1074040,\n",
       " 1093490,\n",
       " 12352054,\n",
       " 7409622,\n",
       " 1008675,\n",
       " 924667,\n",
       " 10457518,\n",
       " 1103513,\n",
       " 5707857,\n",
       " 843339,\n",
       " 931124,\n",
       " 8358933,\n",
       " 865757,\n",
       " 896666,\n",
       " 987006,\n",
       " 820486,\n",
       " 948640,\n",
       " 1127470,\n",
       " 8090653,\n",
       " 1126045,\n",
       " 9676938,\n",
       " 977508,\n",
       " 5578856,\n",
       " 7462562,\n",
       " 9881593]"
      ]
     },
     "execution_count": 8,
     "metadata": {},
     "output_type": "execute_result"
    }
   ],
   "source": [
    "recommender.get_similar_users_recommendation(2375, N=200)"
   ]
  },
  {
   "cell_type": "markdown",
   "metadata": {},
   "source": [
    "### Задание 1\n",
    "\n",
    "A) Попробуйте различные варианты генерации кандидатов. Какие из них дают наибольший recall@k ?\n",
    "- Пока пробуем отобрать 200 кандидатов (k=200)\n",
    "- Качество измеряем на data_val_lvl_1: следующие 6 недель после трейна\n",
    "\n",
    "Дают ли own recommendtions + top-popular лучший recall?  \n",
    "\n",
    "B)* Как зависит recall@k от k? Постройте для одной схемы генерации кандидатов эту зависимость для k = {20, 50, 100, 200, 500}  \n",
    "C)* Исходя из прошлого вопроса, как вы думаете, какое значение k является наиболее разумным?\n"
   ]
  },
  {
   "cell_type": "markdown",
   "metadata": {},
   "source": [
    "**Решение**"
   ]
  },
  {
   "cell_type": "code",
   "execution_count": 9,
   "metadata": {},
   "outputs": [],
   "source": [
    "pd.set_option('display.max_columns', None)"
   ]
  },
  {
   "cell_type": "markdown",
   "metadata": {},
   "source": [
    "Составим список июзеров на трейне"
   ]
  },
  {
   "cell_type": "code",
   "execution_count": 10,
   "metadata": {},
   "outputs": [],
   "source": [
    "train_users = data_train_lvl_1['user_id'].unique() "
   ]
  },
  {
   "cell_type": "code",
   "execution_count": 11,
   "metadata": {},
   "outputs": [
    {
     "data": {
      "text/plain": [
       "2495"
      ]
     },
     "execution_count": 11,
     "metadata": {},
     "output_type": "execute_result"
    }
   ],
   "source": [
    "train_users.shape[0]"
   ]
  },
  {
   "cell_type": "markdown",
   "metadata": {},
   "source": [
    "Начнем строить модель 1-го уровня"
   ]
  },
  {
   "cell_type": "code",
   "execution_count": 12,
   "metadata": {},
   "outputs": [
    {
     "data": {
      "text/html": [
       "<div>\n",
       "<style scoped>\n",
       "    .dataframe tbody tr th:only-of-type {\n",
       "        vertical-align: middle;\n",
       "    }\n",
       "\n",
       "    .dataframe tbody tr th {\n",
       "        vertical-align: top;\n",
       "    }\n",
       "\n",
       "    .dataframe thead th {\n",
       "        text-align: right;\n",
       "    }\n",
       "</style>\n",
       "<table border=\"1\" class=\"dataframe\">\n",
       "  <thead>\n",
       "    <tr style=\"text-align: right;\">\n",
       "      <th></th>\n",
       "      <th>user_id</th>\n",
       "      <th>actual</th>\n",
       "    </tr>\n",
       "  </thead>\n",
       "  <tbody>\n",
       "    <tr>\n",
       "      <th>2152</th>\n",
       "      <td>2499</td>\n",
       "      <td>[861282, 921744, 1050968, 13842089, 828837, 86...</td>\n",
       "    </tr>\n",
       "    <tr>\n",
       "      <th>2153</th>\n",
       "      <td>2500</td>\n",
       "      <td>[856455, 902192, 903476, 931672, 936634, 95170...</td>\n",
       "    </tr>\n",
       "  </tbody>\n",
       "</table>\n",
       "</div>"
      ],
      "text/plain": [
       "      user_id                                             actual\n",
       "2152     2499  [861282, 921744, 1050968, 13842089, 828837, 86...\n",
       "2153     2500  [856455, 902192, 903476, 931672, 936634, 95170..."
      ]
     },
     "execution_count": 12,
     "metadata": {},
     "output_type": "execute_result"
    }
   ],
   "source": [
    "lvl_1_model = data_val_lvl_1.groupby('user_id')['item_id'].unique().reset_index()\n",
    "lvl_1_model = lvl_1_model.loc[lvl_1_model.user_id.isin(train_users)]\n",
    "lvl_1_model.columns=['user_id', 'actual']\n",
    "lvl_1_model.tail(2)"
   ]
  },
  {
   "cell_type": "markdown",
   "metadata": {},
   "source": [
    "Посмотрим, какой результат даст similar_items_recommendation"
   ]
  },
  {
   "cell_type": "code",
   "execution_count": 13,
   "metadata": {},
   "outputs": [
    {
     "data": {
      "text/plain": [
       "0.0850644385532148"
      ]
     },
     "execution_count": 13,
     "metadata": {},
     "output_type": "execute_result"
    }
   ],
   "source": [
    "lvl_1_model['similar_item_recommendations'] = lvl_1_model['user_id'].apply(lambda x: \\\n",
    "                                                                           recommender.get_similar_items_recommendation(x, 200))\n",
    "lvl_1_model['similar_item_recall'] = lvl_1_model.apply(lambda row:recall_at_k(row['similar_item_recommendations'], \\\n",
    "                                                                              row['actual'], k=200), axis=1)\n",
    "lvl_1_model['similar_item_recall'].mean()"
   ]
  },
  {
   "cell_type": "markdown",
   "metadata": {},
   "source": [
    "Посмотрим, какой результат даст als_recommendations"
   ]
  },
  {
   "cell_type": "code",
   "execution_count": 14,
   "metadata": {},
   "outputs": [
    {
     "data": {
      "text/plain": [
       "0.09885230698566302"
      ]
     },
     "execution_count": 14,
     "metadata": {},
     "output_type": "execute_result"
    }
   ],
   "source": [
    "lvl_1_model['als_recommendations'] = lvl_1_model['user_id'].apply(lambda x: recommender.get_als_recommendations(x, 200))\n",
    "lvl_1_model['als_recall'] = lvl_1_model.apply(lambda row: recall_at_k(row['als_recommendations'], row['actual'], k=200), axis=1)\n",
    "lvl_1_model['als_recall'].mean()"
   ]
  },
  {
   "cell_type": "markdown",
   "metadata": {},
   "source": [
    "Посмотрим, какой результат даст own_recommendations"
   ]
  },
  {
   "cell_type": "code",
   "execution_count": 15,
   "metadata": {},
   "outputs": [
    {
     "data": {
      "text/plain": [
       "0.13537278412833242"
      ]
     },
     "execution_count": 15,
     "metadata": {},
     "output_type": "execute_result"
    }
   ],
   "source": [
    "lvl_1_model['own_recommendations'] = lvl_1_model['user_id'].apply(lambda x: recommender.get_own_recommendations(x, 200))\n",
    "lvl_1_model['own_recall'] = lvl_1_model.apply(lambda row: recall_at_k(row['own_recommendations'], row['actual'], k=200), axis=1)\n",
    "lvl_1_model['own_recall'].mean()"
   ]
  },
  {
   "cell_type": "markdown",
   "metadata": {},
   "source": [
    "Максимальный результат дал own_recommendations"
   ]
  },
  {
   "cell_type": "markdown",
   "metadata": {},
   "source": [
    "Посмотрим, как изменяется recall_at_k при изменении k"
   ]
  },
  {
   "cell_type": "code",
   "execution_count": 16,
   "metadata": {},
   "outputs": [
    {
     "data": {
      "image/png": "[encoded data removed]",
      "text/plain": [
       "<Figure size 1152x576 with 1 Axes>"
      ]
     },
     "metadata": {
      "needs_background": "light"
     },
     "output_type": "display_data"
    },
    {
     "name": "stdout",
     "output_type": "stream",
     "text": [
      "Wall time: 3min 26s\n"
     ]
    }
   ],
   "source": [
    "%%time\n",
    "k = [20, 50, 100, 200, 500, 1000, 1500]\n",
    "recall_at_k_lst = []\n",
    "\n",
    "for i in k:\n",
    "    lvl_1_model[f'similar_items_recs_{i}'] = lvl_1_model['user_id'].apply(lambda x: \\\n",
    "                                                                          recommender.get_similar_items_recommendation(x, N=i))\n",
    "    rec_at_k = lvl_1_model.apply(lambda row: recall_at_k(row[f'similar_items_recs_{i}'], row['actual'], k=i), axis=1).mean()\n",
    "    recall_at_k_lst.append(rec_at_k)\n",
    "\n",
    "plt.rcParams[\"figure.figsize\"] = (16,8)\n",
    "plt.plot(k, recall_at_k_lst, color='green', marker='o', linewidth=4, markersize=12)\n",
    "plt.title('Зависимость recall@k от k')\n",
    "plt.xlabel('k')\n",
    "plt.ylabel('recall@k')\n",
    "plt.grid(True)\n",
    "plt.show()"
   ]
  },
  {
   "cell_type": "code",
   "execution_count": 17,
   "metadata": {},
   "outputs": [
    {
     "data": {
      "text/plain": [
       "[0.21202520240788134]"
      ]
     },
     "execution_count": 17,
     "metadata": {},
     "output_type": "execute_result"
    }
   ],
   "source": [
    "recall_at_k_lst[-1:]"
   ]
  },
  {
   "cell_type": "markdown",
   "metadata": {},
   "source": [
    "**Вывод:**\n",
    "    с увеличением k значение recall_at_k увеличивается."
   ]
  },
  {
   "cell_type": "code",
   "execution_count": null,
   "metadata": {},
   "outputs": [],
   "source": []
  },
  {
   "cell_type": "markdown",
   "metadata": {},
   "source": [
    "### Задание 2.\n",
    "\n",
    "Обучите модель 2-ого уровня, при этом:\n",
    "    - Добавьте минимум по 2 фичи для юзера, товара и пары юзер-товар\n",
    "    - Измерьте отдельно precision@5 модели 1-ого уровня и двухуровневой модели на data_val_lvl_2\n",
    "    - Вырос ли precision@5 при использовании двухуровневой модели?"
   ]
  },
  {
   "cell_type": "markdown",
   "metadata": {},
   "source": [
    "**Решение**"
   ]
  },
  {
   "cell_type": "markdown",
   "metadata": {},
   "source": [
    "Посмотрим данные модели первого уровня"
   ]
  },
  {
   "cell_type": "code",
   "execution_count": 18,
   "metadata": {},
   "outputs": [
    {
     "data": {
      "text/html": [
       "<div>\n",
       "<style scoped>\n",
       "    .dataframe tbody tr th:only-of-type {\n",
       "        vertical-align: middle;\n",
       "    }\n",
       "\n",
       "    .dataframe tbody tr th {\n",
       "        vertical-align: top;\n",
       "    }\n",
       "\n",
       "    .dataframe thead th {\n",
       "        text-align: right;\n",
       "    }\n",
       "</style>\n",
       "<table border=\"1\" class=\"dataframe\">\n",
       "  <thead>\n",
       "    <tr style=\"text-align: right;\">\n",
       "      <th></th>\n",
       "      <th>user_id</th>\n",
       "      <th>actual</th>\n",
       "      <th>similar_item_recommendations</th>\n",
       "      <th>similar_item_recall</th>\n",
       "      <th>als_recommendations</th>\n",
       "      <th>als_recall</th>\n",
       "      <th>own_recommendations</th>\n",
       "      <th>own_recall</th>\n",
       "      <th>similar_items_recs_20</th>\n",
       "      <th>similar_items_recs_50</th>\n",
       "      <th>similar_items_recs_100</th>\n",
       "      <th>similar_items_recs_200</th>\n",
       "      <th>similar_items_recs_500</th>\n",
       "      <th>similar_items_recs_1000</th>\n",
       "      <th>similar_items_recs_1500</th>\n",
       "    </tr>\n",
       "  </thead>\n",
       "  <tbody>\n",
       "    <tr>\n",
       "      <th>2152</th>\n",
       "      <td>2499</td>\n",
       "      <td>[861282, 921744, 1050968, 13842089, 828837, 86...</td>\n",
       "      <td>[901062, 5569845, 907631, 952563, 1004906, 104...</td>\n",
       "      <td>0.098592</td>\n",
       "      <td>[907631, 1029743, 5569230, 5568378, 990797, 10...</td>\n",
       "      <td>0.112676</td>\n",
       "      <td>[7168055, 1128395, 6904613, 5570048, 889989, 8...</td>\n",
       "      <td>0.154930</td>\n",
       "      <td>[901062, 5569845, 907631, 952563, 1004906, 104...</td>\n",
       "      <td>[901062, 5569845, 907631, 952563, 1004906, 104...</td>\n",
       "      <td>[901062, 5569845, 907631, 952563, 1004906, 104...</td>\n",
       "      <td>[901062, 5569845, 907631, 952563, 1004906, 104...</td>\n",
       "      <td>[901062, 5569845, 907631, 952563, 1004906, 104...</td>\n",
       "      <td>[901062, 5569845, 907631, 952563, 1004906, 104...</td>\n",
       "      <td>[901062, 5569845, 907631, 952563, 1004906, 104...</td>\n",
       "    </tr>\n",
       "    <tr>\n",
       "      <th>2153</th>\n",
       "      <td>2500</td>\n",
       "      <td>[856455, 902192, 903476, 931672, 936634, 95170...</td>\n",
       "      <td>[9653714, 1034176, 5567874, 823721, 7410168, 8...</td>\n",
       "      <td>0.034091</td>\n",
       "      <td>[1126899, 1137507, 1114483, 972445, 1110743, 1...</td>\n",
       "      <td>0.022727</td>\n",
       "      <td>[1063739, 12262832, 1086061, 879393, 1065538, ...</td>\n",
       "      <td>0.079545</td>\n",
       "      <td>[9653714, 1034176, 5567874, 823721, 7410168, 8...</td>\n",
       "      <td>[9653714, 1034176, 5567874, 823721, 7410168, 8...</td>\n",
       "      <td>[9653714, 1034176, 5567874, 823721, 7410168, 8...</td>\n",
       "      <td>[9653714, 1034176, 5567874, 823721, 7410168, 8...</td>\n",
       "      <td>[9653714, 1034176, 5567874, 823721, 7410168, 8...</td>\n",
       "      <td>[9653714, 1034176, 5567874, 823721, 7410168, 8...</td>\n",
       "      <td>[9653714, 1034176, 5567874, 823721, 7410168, 8...</td>\n",
       "    </tr>\n",
       "  </tbody>\n",
       "</table>\n",
       "</div>"
      ],
      "text/plain": [
       "      user_id                                             actual  \\\n",
       "2152     2499  [861282, 921744, 1050968, 13842089, 828837, 86...   \n",
       "2153     2500  [856455, 902192, 903476, 931672, 936634, 95170...   \n",
       "\n",
       "                           similar_item_recommendations  similar_item_recall  \\\n",
       "2152  [901062, 5569845, 907631, 952563, 1004906, 104...             0.098592   \n",
       "2153  [9653714, 1034176, 5567874, 823721, 7410168, 8...             0.034091   \n",
       "\n",
       "                                    als_recommendations  als_recall  \\\n",
       "2152  [907631, 1029743, 5569230, 5568378, 990797, 10...    0.112676   \n",
       "2153  [1126899, 1137507, 1114483, 972445, 1110743, 1...    0.022727   \n",
       "\n",
       "                                    own_recommendations  own_recall  \\\n",
       "2152  [7168055, 1128395, 6904613, 5570048, 889989, 8...    0.154930   \n",
       "2153  [1063739, 12262832, 1086061, 879393, 1065538, ...    0.079545   \n",
       "\n",
       "                                  similar_items_recs_20  \\\n",
       "2152  [901062, 5569845, 907631, 952563, 1004906, 104...   \n",
       "2153  [9653714, 1034176, 5567874, 823721, 7410168, 8...   \n",
       "\n",
       "                                  similar_items_recs_50  \\\n",
       "2152  [901062, 5569845, 907631, 952563, 1004906, 104...   \n",
       "2153  [9653714, 1034176, 5567874, 823721, 7410168, 8...   \n",
       "\n",
       "                                 similar_items_recs_100  \\\n",
       "2152  [901062, 5569845, 907631, 952563, 1004906, 104...   \n",
       "2153  [9653714, 1034176, 5567874, 823721, 7410168, 8...   \n",
       "\n",
       "                                 similar_items_recs_200  \\\n",
       "2152  [901062, 5569845, 907631, 952563, 1004906, 104...   \n",
       "2153  [9653714, 1034176, 5567874, 823721, 7410168, 8...   \n",
       "\n",
       "                                 similar_items_recs_500  \\\n",
       "2152  [901062, 5569845, 907631, 952563, 1004906, 104...   \n",
       "2153  [9653714, 1034176, 5567874, 823721, 7410168, 8...   \n",
       "\n",
       "                                similar_items_recs_1000  \\\n",
       "2152  [901062, 5569845, 907631, 952563, 1004906, 104...   \n",
       "2153  [9653714, 1034176, 5567874, 823721, 7410168, 8...   \n",
       "\n",
       "                                similar_items_recs_1500  \n",
       "2152  [901062, 5569845, 907631, 952563, 1004906, 104...  \n",
       "2153  [9653714, 1034176, 5567874, 823721, 7410168, 8...  "
      ]
     },
     "execution_count": 18,
     "metadata": {},
     "output_type": "execute_result"
    }
   ],
   "source": [
    "# your_code\n",
    "lvl_1_model.tail(2)"
   ]
  },
  {
   "cell_type": "markdown",
   "metadata": {},
   "source": [
    "Посмотрим данные на втором уровне модели"
   ]
  },
  {
   "cell_type": "code",
   "execution_count": 19,
   "metadata": {},
   "outputs": [
    {
     "data": {
      "text/html": [
       "<div>\n",
       "<style scoped>\n",
       "    .dataframe tbody tr th:only-of-type {\n",
       "        vertical-align: middle;\n",
       "    }\n",
       "\n",
       "    .dataframe tbody tr th {\n",
       "        vertical-align: top;\n",
       "    }\n",
       "\n",
       "    .dataframe thead th {\n",
       "        text-align: right;\n",
       "    }\n",
       "</style>\n",
       "<table border=\"1\" class=\"dataframe\">\n",
       "  <thead>\n",
       "    <tr style=\"text-align: right;\">\n",
       "      <th></th>\n",
       "      <th>user_id</th>\n",
       "      <th>basket_id</th>\n",
       "      <th>day</th>\n",
       "      <th>item_id</th>\n",
       "      <th>quantity</th>\n",
       "      <th>sales_value</th>\n",
       "      <th>store_id</th>\n",
       "      <th>retail_disc</th>\n",
       "      <th>trans_time</th>\n",
       "      <th>week_no</th>\n",
       "      <th>coupon_disc</th>\n",
       "      <th>coupon_match_disc</th>\n",
       "    </tr>\n",
       "  </thead>\n",
       "  <tbody>\n",
       "    <tr>\n",
       "      <th>2396802</th>\n",
       "      <td>1167</td>\n",
       "      <td>41656790510</td>\n",
       "      <td>663</td>\n",
       "      <td>6410462</td>\n",
       "      <td>22451</td>\n",
       "      <td>43.98</td>\n",
       "      <td>3385</td>\n",
       "      <td>-0.65</td>\n",
       "      <td>1059</td>\n",
       "      <td>95</td>\n",
       "      <td>0.0</td>\n",
       "      <td>0.0</td>\n",
       "    </tr>\n",
       "    <tr>\n",
       "      <th>2396803</th>\n",
       "      <td>1167</td>\n",
       "      <td>41656790510</td>\n",
       "      <td>663</td>\n",
       "      <td>6430664</td>\n",
       "      <td>1</td>\n",
       "      <td>8.00</td>\n",
       "      <td>3385</td>\n",
       "      <td>0.00</td>\n",
       "      <td>1059</td>\n",
       "      <td>95</td>\n",
       "      <td>0.0</td>\n",
       "      <td>0.0</td>\n",
       "    </tr>\n",
       "  </tbody>\n",
       "</table>\n",
       "</div>"
      ],
      "text/plain": [
       "         user_id    basket_id  day  item_id  quantity  sales_value  store_id  \\\n",
       "2396802     1167  41656790510  663  6410462     22451        43.98      3385   \n",
       "2396803     1167  41656790510  663  6430664         1         8.00      3385   \n",
       "\n",
       "         retail_disc  trans_time  week_no  coupon_disc  coupon_match_disc  \n",
       "2396802        -0.65        1059       95          0.0                0.0  \n",
       "2396803         0.00        1059       95          0.0                0.0  "
      ]
     },
     "execution_count": 19,
     "metadata": {},
     "output_type": "execute_result"
    }
   ],
   "source": [
    "data_val_lvl_2.tail(2)"
   ]
  },
  {
   "cell_type": "markdown",
   "metadata": {},
   "source": [
    "Посмотрим рекомендации ALS"
   ]
  },
  {
   "cell_type": "code",
   "execution_count": 20,
   "metadata": {},
   "outputs": [
    {
     "data": {
      "text/html": [
       "<div>\n",
       "<style scoped>\n",
       "    .dataframe tbody tr th:only-of-type {\n",
       "        vertical-align: middle;\n",
       "    }\n",
       "\n",
       "    .dataframe tbody tr th {\n",
       "        vertical-align: top;\n",
       "    }\n",
       "\n",
       "    .dataframe thead th {\n",
       "        text-align: right;\n",
       "    }\n",
       "</style>\n",
       "<table border=\"1\" class=\"dataframe\">\n",
       "  <thead>\n",
       "    <tr style=\"text-align: right;\">\n",
       "      <th></th>\n",
       "      <th>user_id</th>\n",
       "      <th>als_recommendations</th>\n",
       "    </tr>\n",
       "  </thead>\n",
       "  <tbody>\n",
       "    <tr>\n",
       "      <th>2149</th>\n",
       "      <td>2496</td>\n",
       "      <td>[844179, 899624, 1044078, 1004906, 916122, 806...</td>\n",
       "    </tr>\n",
       "    <tr>\n",
       "      <th>2150</th>\n",
       "      <td>2497</td>\n",
       "      <td>[899624, 957951, 5569230, 12810391, 963971, 10...</td>\n",
       "    </tr>\n",
       "    <tr>\n",
       "      <th>2151</th>\n",
       "      <td>2498</td>\n",
       "      <td>[961620, 948086, 830503, 916122, 1097761, 9600...</td>\n",
       "    </tr>\n",
       "    <tr>\n",
       "      <th>2152</th>\n",
       "      <td>2499</td>\n",
       "      <td>[907631, 1029743, 5569230, 5568378, 990797, 10...</td>\n",
       "    </tr>\n",
       "    <tr>\n",
       "      <th>2153</th>\n",
       "      <td>2500</td>\n",
       "      <td>[1126899, 1137507, 1114483, 972445, 1110743, 1...</td>\n",
       "    </tr>\n",
       "  </tbody>\n",
       "</table>\n",
       "</div>"
      ],
      "text/plain": [
       "      user_id                                als_recommendations\n",
       "2149     2496  [844179, 899624, 1044078, 1004906, 916122, 806...\n",
       "2150     2497  [899624, 957951, 5569230, 12810391, 963971, 10...\n",
       "2151     2498  [961620, 948086, 830503, 916122, 1097761, 9600...\n",
       "2152     2499  [907631, 1029743, 5569230, 5568378, 990797, 10...\n",
       "2153     2500  [1126899, 1137507, 1114483, 972445, 1110743, 1..."
      ]
     },
     "execution_count": 20,
     "metadata": {},
     "output_type": "execute_result"
    }
   ],
   "source": [
    "lvl_1_model['als_precision'] = lvl_1_model.apply(lambda row: precision_at_k(row['als_recommendations'], \\\n",
    "                                                                            row['actual'], k=200), axis=1)\n",
    "als_recommendations = lvl_1_model[['user_id', 'als_recommendations']]\n",
    "als_recommendations.tail()"
   ]
  },
  {
   "cell_type": "markdown",
   "metadata": {},
   "source": [
    "Посмотрим список фактических айтемов и предлагаемых ALS"
   ]
  },
  {
   "cell_type": "code",
   "execution_count": 21,
   "metadata": {},
   "outputs": [
    {
     "data": {
      "text/html": [
       "<div>\n",
       "<style scoped>\n",
       "    .dataframe tbody tr th:only-of-type {\n",
       "        vertical-align: middle;\n",
       "    }\n",
       "\n",
       "    .dataframe tbody tr th {\n",
       "        vertical-align: top;\n",
       "    }\n",
       "\n",
       "    .dataframe thead th {\n",
       "        text-align: right;\n",
       "    }\n",
       "</style>\n",
       "<table border=\"1\" class=\"dataframe\">\n",
       "  <thead>\n",
       "    <tr style=\"text-align: right;\">\n",
       "      <th></th>\n",
       "      <th>user_id</th>\n",
       "      <th>actual</th>\n",
       "      <th>als_recommendations</th>\n",
       "    </tr>\n",
       "  </thead>\n",
       "  <tbody>\n",
       "    <tr>\n",
       "      <th>2040</th>\n",
       "      <td>2499</td>\n",
       "      <td>[867188, 877580, 902396, 914190, 951590, 95813...</td>\n",
       "      <td>[907631, 1029743, 5569230, 5568378, 990797, 10...</td>\n",
       "    </tr>\n",
       "    <tr>\n",
       "      <th>2041</th>\n",
       "      <td>2500</td>\n",
       "      <td>[852182, 856345, 923746, 948670, 1018007, 1044...</td>\n",
       "      <td>[1126899, 1137507, 1114483, 972445, 1110743, 1...</td>\n",
       "    </tr>\n",
       "  </tbody>\n",
       "</table>\n",
       "</div>"
      ],
      "text/plain": [
       "      user_id                                             actual  \\\n",
       "2040     2499  [867188, 877580, 902396, 914190, 951590, 95813...   \n",
       "2041     2500  [852182, 856345, 923746, 948670, 1018007, 1044...   \n",
       "\n",
       "                                    als_recommendations  \n",
       "2040  [907631, 1029743, 5569230, 5568378, 990797, 10...  \n",
       "2041  [1126899, 1137507, 1114483, 972445, 1110743, 1...  "
      ]
     },
     "execution_count": 21,
     "metadata": {},
     "output_type": "execute_result"
    }
   ],
   "source": [
    "valid_lvl_2 = data_val_lvl_2.groupby('user_id')['item_id'].unique().reset_index().rename(columns={'item_id': 'actual'})\n",
    "valid_lvl_2 = valid_lvl_2.merge(als_recommendations, on='user_id', how='left')\n",
    "valid_lvl_2.tail(2)"
   ]
  },
  {
   "cell_type": "markdown",
   "metadata": {},
   "source": [
    "Посчитаем на валидационных данных precision_at_k рекомендаций, выдаваемых моделью второго уровня. Это будет точность рекомендаций в начальном приближении для отслеживания дальнейшего прогресса."
   ]
  },
  {
   "cell_type": "code",
   "execution_count": 22,
   "metadata": {},
   "outputs": [
    {
     "data": {
      "text/plain": [
       "0.09535248041775418"
      ]
     },
     "execution_count": 22,
     "metadata": {},
     "output_type": "execute_result"
    }
   ],
   "source": [
    "valid_lvl_2[valid_lvl_2.als_recommendations.notna()].apply(lambda row: \\\n",
    "                                                precision_at_k(row['als_recommendations'], row['actual'], k=5), axis=1).mean()"
   ]
  },
  {
   "cell_type": "markdown",
   "metadata": {},
   "source": [
    "Добавим фиктивную переменную flag в список юзеров на втором уровне модели"
   ]
  },
  {
   "cell_type": "code",
   "execution_count": 23,
   "metadata": {},
   "outputs": [
    {
     "data": {
      "text/html": [
       "<div>\n",
       "<style scoped>\n",
       "    .dataframe tbody tr th:only-of-type {\n",
       "        vertical-align: middle;\n",
       "    }\n",
       "\n",
       "    .dataframe tbody tr th {\n",
       "        vertical-align: top;\n",
       "    }\n",
       "\n",
       "    .dataframe thead th {\n",
       "        text-align: right;\n",
       "    }\n",
       "</style>\n",
       "<table border=\"1\" class=\"dataframe\">\n",
       "  <thead>\n",
       "    <tr style=\"text-align: right;\">\n",
       "      <th></th>\n",
       "      <th>user_id</th>\n",
       "      <th>item_id</th>\n",
       "      <th>flag</th>\n",
       "    </tr>\n",
       "  </thead>\n",
       "  <tbody>\n",
       "    <tr>\n",
       "      <th>2150</th>\n",
       "      <td>2500</td>\n",
       "      <td>8290421</td>\n",
       "      <td>1</td>\n",
       "    </tr>\n",
       "    <tr>\n",
       "      <th>2150</th>\n",
       "      <td>2500</td>\n",
       "      <td>923673</td>\n",
       "      <td>1</td>\n",
       "    </tr>\n",
       "  </tbody>\n",
       "</table>\n",
       "</div>"
      ],
      "text/plain": [
       "      user_id  item_id  flag\n",
       "2150     2500  8290421     1\n",
       "2150     2500   923673     1"
      ]
     },
     "execution_count": 23,
     "metadata": {},
     "output_type": "execute_result"
    }
   ],
   "source": [
    "users_lvl_2 = pd.DataFrame(lvl_1_model['user_id'].unique())\n",
    "users_lvl_2.columns = ['user_id']\n",
    "\n",
    "train_users = data_train_lvl_1['user_id'].unique()\n",
    "users_lvl_2 = users_lvl_2[users_lvl_2['user_id'].isin(train_users)]\n",
    "\n",
    "users_lvl_2['recommendations'] = users_lvl_2['user_id'].apply(lambda x: recommender.get_als_recommendations(x, 200))\n",
    "\n",
    "s = users_lvl_2.apply(lambda x: pd.Series(x['recommendations']), axis=1).stack().reset_index(level=1, drop=True)\n",
    "s.name = 'item_id'\n",
    "\n",
    "users_lvl_2 = users_lvl_2.drop('recommendations', axis=1).join(s)\n",
    "users_lvl_2['flag'] = 1\n",
    "\n",
    "users_lvl_2.tail(2)"
   ]
  },
  {
   "cell_type": "markdown",
   "metadata": {},
   "source": [
    "Скопируем данные модели 1-го уровня в модель 2-го уровня"
   ]
  },
  {
   "cell_type": "code",
   "execution_count": 24,
   "metadata": {},
   "outputs": [],
   "source": [
    "data_train_lvl_2 = data_val_lvl_1.copy()"
   ]
  },
  {
   "cell_type": "code",
   "execution_count": 25,
   "metadata": {},
   "outputs": [
    {
     "data": {
      "text/plain": [
       "Index(['user_id', 'basket_id', 'day', 'item_id', 'quantity', 'sales_value',\n",
       "       'store_id', 'retail_disc', 'trans_time', 'week_no', 'coupon_disc',\n",
       "       'coupon_match_disc'],\n",
       "      dtype='object')"
      ]
     },
     "execution_count": 25,
     "metadata": {},
     "output_type": "execute_result"
    }
   ],
   "source": [
    "data_train_lvl_2.columns"
   ]
  },
  {
   "cell_type": "code",
   "execution_count": 26,
   "metadata": {},
   "outputs": [],
   "source": [
    "data_train_lvl_2.to_csv('data_train_lvl_2.csv')"
   ]
  },
  {
   "cell_type": "markdown",
   "metadata": {},
   "source": [
    "Объединим юзеров и таргеты"
   ]
  },
  {
   "cell_type": "code",
   "execution_count": 27,
   "metadata": {},
   "outputs": [
    {
     "data": {
      "text/html": [
       "<div>\n",
       "<style scoped>\n",
       "    .dataframe tbody tr th:only-of-type {\n",
       "        vertical-align: middle;\n",
       "    }\n",
       "\n",
       "    .dataframe tbody tr th {\n",
       "        vertical-align: top;\n",
       "    }\n",
       "\n",
       "    .dataframe thead th {\n",
       "        text-align: right;\n",
       "    }\n",
       "</style>\n",
       "<table border=\"1\" class=\"dataframe\">\n",
       "  <thead>\n",
       "    <tr style=\"text-align: right;\">\n",
       "      <th></th>\n",
       "      <th>user_id</th>\n",
       "      <th>item_id</th>\n",
       "      <th>target</th>\n",
       "    </tr>\n",
       "  </thead>\n",
       "  <tbody>\n",
       "    <tr>\n",
       "      <th>436090</th>\n",
       "      <td>2500</td>\n",
       "      <td>8290421</td>\n",
       "      <td>0.0</td>\n",
       "    </tr>\n",
       "    <tr>\n",
       "      <th>436091</th>\n",
       "      <td>2500</td>\n",
       "      <td>923673</td>\n",
       "      <td>0.0</td>\n",
       "    </tr>\n",
       "  </tbody>\n",
       "</table>\n",
       "</div>"
      ],
      "text/plain": [
       "        user_id  item_id  target\n",
       "436090     2500  8290421     0.0\n",
       "436091     2500   923673     0.0"
      ]
     },
     "execution_count": 27,
     "metadata": {},
     "output_type": "execute_result"
    }
   ],
   "source": [
    "targets_lvl_2 = data_train_lvl_2[['user_id', 'item_id']].copy()\n",
    "targets_lvl_2['target'] = 1  \n",
    "\n",
    "targets_lvl_2 = users_lvl_2.merge(targets_lvl_2, on=['user_id', 'item_id'], how='left')\n",
    "\n",
    "targets_lvl_2['target'].fillna(0, inplace= True)\n",
    "targets_lvl_2.drop('flag', axis=1, inplace=True)\n",
    "targets_lvl_2.tail(2)"
   ]
  },
  {
   "cell_type": "code",
   "execution_count": 28,
   "metadata": {},
   "outputs": [
    {
     "data": {
      "text/plain": [
       "0.04399071755501133"
      ]
     },
     "execution_count": 28,
     "metadata": {},
     "output_type": "execute_result"
    }
   ],
   "source": [
    "targets_lvl_2['target'].mean()"
   ]
  },
  {
   "cell_type": "markdown",
   "metadata": {},
   "source": [
    "Добавим айтемам цены"
   ]
  },
  {
   "cell_type": "code",
   "execution_count": 29,
   "metadata": {},
   "outputs": [],
   "source": [
    "price = data.groupby('item_id')['sales_value'].max()\n",
    "item_features = item_features.merge(price, on='item_id', how='left').rename(columns={'sales_value': 'price'})"
   ]
  },
  {
   "cell_type": "markdown",
   "metadata": {},
   "source": [
    "Добавим айтемам средние цены"
   ]
  },
  {
   "cell_type": "code",
   "execution_count": 30,
   "metadata": {},
   "outputs": [],
   "source": [
    "avg_price_by_cat = item_features.groupby('commodity_desc')['price'].mean()\n",
    "item_features = item_features.merge(avg_price_by_cat, on='commodity_desc', how='left')\\\n",
    "                                                                .rename(columns={'price_x': 'price', 'price_y': 'avg_price'})"
   ]
  },
  {
   "cell_type": "markdown",
   "metadata": {},
   "source": [
    "Добавим айтемам цены корзины покупок"
   ]
  },
  {
   "cell_type": "code",
   "execution_count": 31,
   "metadata": {},
   "outputs": [],
   "source": [
    "basket_price = data.groupby('basket_id')['sales_value'].sum()\n",
    "data = data.merge(basket_price, on='basket_id', how='left').rename(columns={'sales_value_x': 'sales_value', \\\n",
    "                                                                            'sales_value_y': 'basket_price'})\n",
    "avg_basket_per_user = data.groupby('user_id').basket_price.mean()\n",
    "user_features = user_features.merge(avg_basket_per_user, on='user_id', how='left')"
   ]
  },
  {
   "cell_type": "markdown",
   "metadata": {},
   "source": [
    "Добавим фичу \"Средняя сумма покупок в неделю\". Еще хотелось бы поработать с age_desc (подозреваю, что там есть резерв для роста итоговой точности), но нет времени"
   ]
  },
  {
   "cell_type": "code",
   "execution_count": 32,
   "metadata": {},
   "outputs": [],
   "source": [
    "x = data.groupby(['user_id', 'week_no']).basket_id.count().reset_index().groupby('user_id').agg(['count', 'sum'])\n",
    "x.columns = x.columns.droplevel(0)\n",
    "avg_purchases_per_week = x.iloc[:, 2:].apply(lambda row: row['sum'] / row['count'], axis=1)\n",
    "avg_purchases_per_week.name = 'avg_purchases_per_week'\n",
    "user_features = user_features.merge(avg_purchases_per_week, on='user_id', how='left')"
   ]
  },
  {
   "cell_type": "code",
   "execution_count": 33,
   "metadata": {},
   "outputs": [
    {
     "data": {
      "text/html": [
       "<div>\n",
       "<style scoped>\n",
       "    .dataframe tbody tr th:only-of-type {\n",
       "        vertical-align: middle;\n",
       "    }\n",
       "\n",
       "    .dataframe tbody tr th {\n",
       "        vertical-align: top;\n",
       "    }\n",
       "\n",
       "    .dataframe thead th {\n",
       "        text-align: right;\n",
       "    }\n",
       "</style>\n",
       "<table border=\"1\" class=\"dataframe\">\n",
       "  <thead>\n",
       "    <tr style=\"text-align: right;\">\n",
       "      <th></th>\n",
       "      <th>age_desc</th>\n",
       "      <th>marital_status_code</th>\n",
       "      <th>income_desc</th>\n",
       "      <th>homeowner_desc</th>\n",
       "      <th>hh_comp_desc</th>\n",
       "      <th>household_size_desc</th>\n",
       "      <th>kid_category_desc</th>\n",
       "      <th>user_id</th>\n",
       "      <th>basket_price</th>\n",
       "      <th>avg_purchases_per_week</th>\n",
       "    </tr>\n",
       "  </thead>\n",
       "  <tbody>\n",
       "    <tr>\n",
       "      <th>798</th>\n",
       "      <td>45-54</td>\n",
       "      <td>U</td>\n",
       "      <td>35-49K</td>\n",
       "      <td>Unknown</td>\n",
       "      <td>Single Male</td>\n",
       "      <td>1</td>\n",
       "      <td>None/Unknown</td>\n",
       "      <td>2497</td>\n",
       "      <td>76.975501</td>\n",
       "      <td>23.925926</td>\n",
       "    </tr>\n",
       "    <tr>\n",
       "      <th>799</th>\n",
       "      <td>25-34</td>\n",
       "      <td>U</td>\n",
       "      <td>50-74K</td>\n",
       "      <td>Homeowner</td>\n",
       "      <td>2 Adults No Kids</td>\n",
       "      <td>2</td>\n",
       "      <td>None/Unknown</td>\n",
       "      <td>2498</td>\n",
       "      <td>39.940936</td>\n",
       "      <td>13.883333</td>\n",
       "    </tr>\n",
       "    <tr>\n",
       "      <th>800</th>\n",
       "      <td>25-34</td>\n",
       "      <td>U</td>\n",
       "      <td>Under 15K</td>\n",
       "      <td>Unknown</td>\n",
       "      <td>2 Adults Kids</td>\n",
       "      <td>3</td>\n",
       "      <td>1</td>\n",
       "      <td>2499</td>\n",
       "      <td>117.282023</td>\n",
       "      <td>19.775510</td>\n",
       "    </tr>\n",
       "  </tbody>\n",
       "</table>\n",
       "</div>"
      ],
      "text/plain": [
       "    age_desc marital_status_code income_desc homeowner_desc      hh_comp_desc  \\\n",
       "798    45-54                   U      35-49K        Unknown       Single Male   \n",
       "799    25-34                   U      50-74K      Homeowner  2 Adults No Kids   \n",
       "800    25-34                   U   Under 15K        Unknown     2 Adults Kids   \n",
       "\n",
       "    household_size_desc kid_category_desc  user_id  basket_price  \\\n",
       "798                   1      None/Unknown     2497     76.975501   \n",
       "799                   2      None/Unknown     2498     39.940936   \n",
       "800                   3                 1     2499    117.282023   \n",
       "\n",
       "     avg_purchases_per_week  \n",
       "798               23.925926  \n",
       "799               13.883333  \n",
       "800               19.775510  "
      ]
     },
     "execution_count": 33,
     "metadata": {},
     "output_type": "execute_result"
    }
   ],
   "source": [
    "user_features.tail(3)"
   ]
  },
  {
   "cell_type": "markdown",
   "metadata": {},
   "source": [
    "Объединим в таргеты для модели 2-го уровня фичи айтемов и фичи юзеров"
   ]
  },
  {
   "cell_type": "code",
   "execution_count": 34,
   "metadata": {},
   "outputs": [
    {
     "data": {
      "text/html": [
       "<div>\n",
       "<style scoped>\n",
       "    .dataframe tbody tr th:only-of-type {\n",
       "        vertical-align: middle;\n",
       "    }\n",
       "\n",
       "    .dataframe tbody tr th {\n",
       "        vertical-align: top;\n",
       "    }\n",
       "\n",
       "    .dataframe thead th {\n",
       "        text-align: right;\n",
       "    }\n",
       "</style>\n",
       "<table border=\"1\" class=\"dataframe\">\n",
       "  <thead>\n",
       "    <tr style=\"text-align: right;\">\n",
       "      <th></th>\n",
       "      <th>user_id</th>\n",
       "      <th>item_id</th>\n",
       "      <th>target</th>\n",
       "      <th>manufacturer</th>\n",
       "      <th>department</th>\n",
       "      <th>brand</th>\n",
       "      <th>commodity_desc</th>\n",
       "      <th>price</th>\n",
       "      <th>avg_price</th>\n",
       "      <th>age_desc</th>\n",
       "      <th>income_desc</th>\n",
       "      <th>household_size_desc</th>\n",
       "      <th>avg_purchases_per_week</th>\n",
       "      <th>basket_price</th>\n",
       "    </tr>\n",
       "  </thead>\n",
       "  <tbody>\n",
       "    <tr>\n",
       "      <th>436087</th>\n",
       "      <td>2500</td>\n",
       "      <td>991874</td>\n",
       "      <td>0.0</td>\n",
       "      <td>1456</td>\n",
       "      <td>GROCERY</td>\n",
       "      <td>National</td>\n",
       "      <td>EGGS</td>\n",
       "      <td>10.00</td>\n",
       "      <td>3.487479</td>\n",
       "      <td>NaN</td>\n",
       "      <td>NaN</td>\n",
       "      <td>NaN</td>\n",
       "      <td>NaN</td>\n",
       "      <td>NaN</td>\n",
       "    </tr>\n",
       "    <tr>\n",
       "      <th>436088</th>\n",
       "      <td>2500</td>\n",
       "      <td>1018740</td>\n",
       "      <td>0.0</td>\n",
       "      <td>3516</td>\n",
       "      <td>DELI</td>\n",
       "      <td>National</td>\n",
       "      <td>DELI MEATS</td>\n",
       "      <td>31.15</td>\n",
       "      <td>7.603926</td>\n",
       "      <td>NaN</td>\n",
       "      <td>NaN</td>\n",
       "      <td>NaN</td>\n",
       "      <td>NaN</td>\n",
       "      <td>NaN</td>\n",
       "    </tr>\n",
       "    <tr>\n",
       "      <th>436089</th>\n",
       "      <td>2500</td>\n",
       "      <td>7168890</td>\n",
       "      <td>0.0</td>\n",
       "      <td>151</td>\n",
       "      <td>GROCERY</td>\n",
       "      <td>National</td>\n",
       "      <td>FRZN MEAT/MEAT DINNERS</td>\n",
       "      <td>8.00</td>\n",
       "      <td>5.670097</td>\n",
       "      <td>NaN</td>\n",
       "      <td>NaN</td>\n",
       "      <td>NaN</td>\n",
       "      <td>NaN</td>\n",
       "      <td>NaN</td>\n",
       "    </tr>\n",
       "    <tr>\n",
       "      <th>436090</th>\n",
       "      <td>2500</td>\n",
       "      <td>8290421</td>\n",
       "      <td>0.0</td>\n",
       "      <td>2</td>\n",
       "      <td>PRODUCE</td>\n",
       "      <td>National</td>\n",
       "      <td>APPLES</td>\n",
       "      <td>11.56</td>\n",
       "      <td>4.474923</td>\n",
       "      <td>NaN</td>\n",
       "      <td>NaN</td>\n",
       "      <td>NaN</td>\n",
       "      <td>NaN</td>\n",
       "      <td>NaN</td>\n",
       "    </tr>\n",
       "    <tr>\n",
       "      <th>436091</th>\n",
       "      <td>2500</td>\n",
       "      <td>923673</td>\n",
       "      <td>0.0</td>\n",
       "      <td>1046</td>\n",
       "      <td>GROCERY</td>\n",
       "      <td>National</td>\n",
       "      <td>COLD CEREAL</td>\n",
       "      <td>8.00</td>\n",
       "      <td>4.661800</td>\n",
       "      <td>NaN</td>\n",
       "      <td>NaN</td>\n",
       "      <td>NaN</td>\n",
       "      <td>NaN</td>\n",
       "      <td>NaN</td>\n",
       "    </tr>\n",
       "  </tbody>\n",
       "</table>\n",
       "</div>"
      ],
      "text/plain": [
       "        user_id  item_id  target  manufacturer department     brand  \\\n",
       "436087     2500   991874     0.0          1456    GROCERY  National   \n",
       "436088     2500  1018740     0.0          3516       DELI  National   \n",
       "436089     2500  7168890     0.0           151    GROCERY  National   \n",
       "436090     2500  8290421     0.0             2    PRODUCE  National   \n",
       "436091     2500   923673     0.0          1046    GROCERY  National   \n",
       "\n",
       "                commodity_desc  price  avg_price age_desc income_desc  \\\n",
       "436087                    EGGS  10.00   3.487479      NaN         NaN   \n",
       "436088              DELI MEATS  31.15   7.603926      NaN         NaN   \n",
       "436089  FRZN MEAT/MEAT DINNERS   8.00   5.670097      NaN         NaN   \n",
       "436090                  APPLES  11.56   4.474923      NaN         NaN   \n",
       "436091             COLD CEREAL   8.00   4.661800      NaN         NaN   \n",
       "\n",
       "       household_size_desc  avg_purchases_per_week  basket_price  \n",
       "436087                 NaN                     NaN           NaN  \n",
       "436088                 NaN                     NaN           NaN  \n",
       "436089                 NaN                     NaN           NaN  \n",
       "436090                 NaN                     NaN           NaN  \n",
       "436091                 NaN                     NaN           NaN  "
      ]
     },
     "execution_count": 34,
     "metadata": {},
     "output_type": "execute_result"
    }
   ],
   "source": [
    "item_features_tmp = item_features[['item_id',\n",
    "                                    'manufacturer',\n",
    "                                    'department',\n",
    "                                    'brand',\n",
    "                                    'commodity_desc',\n",
    "                                    'price',\n",
    "                                    'avg_price']]\n",
    "\n",
    "user_features_tmp = user_features[['user_id',\n",
    "                                    'age_desc',\n",
    "                                    'income_desc',\n",
    "                                    'household_size_desc',\n",
    "                                    'avg_purchases_per_week',\n",
    "                                    'basket_price']]\n",
    "\n",
    "targets_lvl_2 = targets_lvl_2.merge(item_features_tmp, on='item_id', how='left')\n",
    "targets_lvl_2 = targets_lvl_2.merge(user_features_tmp, on='user_id', how='left')\n",
    "\n",
    "targets_lvl_2.tail()"
   ]
  },
  {
   "cell_type": "code",
   "execution_count": 35,
   "metadata": {},
   "outputs": [
    {
     "data": {
      "text/plain": [
       "0.04399071755501133"
      ]
     },
     "execution_count": 35,
     "metadata": {},
     "output_type": "execute_result"
    }
   ],
   "source": [
    "targets_lvl_2['target'].mean()"
   ]
  },
  {
   "cell_type": "markdown",
   "metadata": {},
   "source": [
    "Разобъем targets_lvl_2 на тренировочные данные по фичам и по таргету"
   ]
  },
  {
   "cell_type": "code",
   "execution_count": 36,
   "metadata": {},
   "outputs": [],
   "source": [
    "X_train = targets_lvl_2.drop('target', axis=1)\n",
    "y_train = targets_lvl_2['target']"
   ]
  },
  {
   "cell_type": "code",
   "execution_count": 37,
   "metadata": {},
   "outputs": [
    {
     "data": {
      "text/plain": [
       "Index(['user_id', 'item_id', 'manufacturer', 'department', 'brand',\n",
       "       'commodity_desc', 'price', 'avg_price', 'age_desc', 'income_desc',\n",
       "       'household_size_desc', 'avg_purchases_per_week', 'basket_price'],\n",
       "      dtype='object')"
      ]
     },
     "execution_count": 37,
     "metadata": {},
     "output_type": "execute_result"
    }
   ],
   "source": [
    "X_train.columns"
   ]
  },
  {
   "cell_type": "code",
   "execution_count": 38,
   "metadata": {},
   "outputs": [],
   "source": [
    "cat_columns = ['manufacturer',\n",
    "               'department',\n",
    "               'brand',\n",
    "               'commodity_desc',\n",
    "               'age_desc',\n",
    "               'income_desc',\n",
    "               'household_size_desc']\n",
    "\n",
    "X_train[cat_columns] = X_train[cat_columns].astype('category')"
   ]
  },
  {
   "cell_type": "markdown",
   "metadata": {},
   "source": [
    "Создадим LGB-модель (LGBMClassifier()) и выполним ее тренировку"
   ]
  },
  {
   "cell_type": "code",
   "execution_count": 39,
   "metadata": {},
   "outputs": [
    {
     "name": "stderr",
     "output_type": "stream",
     "text": [
      "d:\\Users\\Tim\\anaconda3\\lib\\site-packages\\lightgbm\\basic.py:842: UserWarning: categorical_feature keyword has been found in `params` and will be ignored.\n",
      "Please use categorical_feature argument of the Dataset constructor to pass this parameter.\n",
      "  .format(key))\n",
      "d:\\Users\\Tim\\anaconda3\\lib\\site-packages\\lightgbm\\basic.py:863: UserWarning: categorical_feature in param dict is overridden.\n",
      "  warnings.warn('{} in param dict is overridden.'.format(cat_alias))\n"
     ]
    }
   ],
   "source": [
    "model_lgb = LGBMClassifier(objective='binary', max_depth=3, n_estimators=300, learning_rate=0.01, n_jobs=4, num_leaves=32, \\\n",
    "                           categorical_feature=cat_columns)\n",
    "model_lgb.fit(X_train, y_train.values)\n",
    "\n",
    "train_preds = model_lgb.predict_proba(X_train)[:, 1]"
   ]
  },
  {
   "cell_type": "markdown",
   "metadata": {},
   "source": [
    "Посмотрим важность признаков"
   ]
  },
  {
   "cell_type": "code",
   "execution_count": 40,
   "metadata": {},
   "outputs": [
    {
     "data": {
      "text/plain": [
       "array([ 14,  44, 832,   0,   3, 602, 179,  32,   0,   4,   2, 362,  23])"
      ]
     },
     "execution_count": 40,
     "metadata": {},
     "output_type": "execute_result"
    }
   ],
   "source": [
    "model_lgb.feature_importances_"
   ]
  },
  {
   "cell_type": "markdown",
   "metadata": {},
   "source": [
    "Отобразим диаграмму важности признаков"
   ]
  },
  {
   "cell_type": "code",
   "execution_count": 41,
   "metadata": {},
   "outputs": [],
   "source": [
    "from lightgbm import plot_importance"
   ]
  },
  {
   "cell_type": "code",
   "execution_count": 42,
   "metadata": {},
   "outputs": [
    {
     "data": {
      "text/plain": [
       "<matplotlib.axes._subplots.AxesSubplot at 0x44145b48>"
      ]
     },
     "execution_count": 42,
     "metadata": {},
     "output_type": "execute_result"
    },
    {
     "data": {
      "image/png": "[encoded data removed]",
      "text/plain": [
       "<Figure size 1152x576 with 1 Axes>"
      ]
     },
     "metadata": {
      "needs_background": "light"
     },
     "output_type": "display_data"
    }
   ],
   "source": [
    "plot_importance(model_lgb, figsize=(16, 8), importance_type='gain')"
   ]
  },
  {
   "cell_type": "markdown",
   "metadata": {},
   "source": [
    "Посмотрим список рекомендованных для каждого юзера"
   ]
  },
  {
   "cell_type": "code",
   "execution_count": 43,
   "metadata": {},
   "outputs": [
    {
     "data": {
      "text/html": [
       "<div>\n",
       "<style scoped>\n",
       "    .dataframe tbody tr th:only-of-type {\n",
       "        vertical-align: middle;\n",
       "    }\n",
       "\n",
       "    .dataframe tbody tr th {\n",
       "        vertical-align: top;\n",
       "    }\n",
       "\n",
       "    .dataframe thead th {\n",
       "        text-align: right;\n",
       "    }\n",
       "</style>\n",
       "<table border=\"1\" class=\"dataframe\">\n",
       "  <thead>\n",
       "    <tr style=\"text-align: right;\">\n",
       "      <th></th>\n",
       "      <th>user_id</th>\n",
       "      <th>item_id</th>\n",
       "    </tr>\n",
       "  </thead>\n",
       "  <tbody>\n",
       "    <tr>\n",
       "      <th>2146</th>\n",
       "      <td>2496</td>\n",
       "      <td>[1029743, 1106523, 916122]</td>\n",
       "    </tr>\n",
       "    <tr>\n",
       "      <th>2147</th>\n",
       "      <td>2497</td>\n",
       "      <td>[1082185, 1029743, 1106523, 933835, 1101010]</td>\n",
       "    </tr>\n",
       "    <tr>\n",
       "      <th>2148</th>\n",
       "      <td>2498</td>\n",
       "      <td>[916122, 844179, 1004906, 12810393, 892048]</td>\n",
       "    </tr>\n",
       "    <tr>\n",
       "      <th>2149</th>\n",
       "      <td>2499</td>\n",
       "      <td>[1029743, 1106523, 933835, 1044078, 899624]</td>\n",
       "    </tr>\n",
       "    <tr>\n",
       "      <th>2150</th>\n",
       "      <td>2500</td>\n",
       "      <td>[1082185, 1126899, 1070820, 916122]</td>\n",
       "    </tr>\n",
       "  </tbody>\n",
       "</table>\n",
       "</div>"
      ],
      "text/plain": [
       "      user_id                                       item_id\n",
       "2146     2496                    [1029743, 1106523, 916122]\n",
       "2147     2497  [1082185, 1029743, 1106523, 933835, 1101010]\n",
       "2148     2498   [916122, 844179, 1004906, 12810393, 892048]\n",
       "2149     2499   [1029743, 1106523, 933835, 1044078, 899624]\n",
       "2150     2500           [1082185, 1126899, 1070820, 916122]"
      ]
     },
     "execution_count": 43,
     "metadata": {},
     "output_type": "execute_result"
    }
   ],
   "source": [
    "targets_lvl_2['preds'] = train_preds\n",
    "targets_lvl_2.sort_values(['user_id', 'preds'], ascending=[True, False], inplace=True)\n",
    "lgb_recommendations = targets_lvl_2.groupby('user_id').head(5).groupby('user_id')['item_id'].unique().reset_index()\n",
    "lgb_recommendations.tail()"
   ]
  },
  {
   "cell_type": "markdown",
   "metadata": {},
   "source": [
    "Посчитаем точность (precision_at_k) полученной модели"
   ]
  },
  {
   "cell_type": "code",
   "execution_count": 44,
   "metadata": {},
   "outputs": [
    {
     "data": {
      "text/plain": [
       "0.17026109660574296"
      ]
     },
     "execution_count": 44,
     "metadata": {},
     "output_type": "execute_result"
    }
   ],
   "source": [
    "valid_lvl_2 = valid_lvl_2.merge(lgb_recommendations, on='user_id', how='left')\n",
    "valid_lvl_2.rename(columns={'item_id': 'lgb_recommendations'}, inplace=True)\n",
    "valid_lvl_2[valid_lvl_2.als_recommendations.notna()].apply(lambda row: precision_at_k(row['lgb_recommendations'], \\\n",
    "                                                                                      row['actual'], k=5), axis=1).mean()"
   ]
  },
  {
   "cell_type": "markdown",
   "metadata": {},
   "source": [
    "**Вывод:**\n",
    "удалось повысить на валидационных данных precision_at_k с первоначальных 0.095 до 0.17 благодаря добавлению фич и использованию LGB в модели второго уровня"
   ]
  },
  {
   "cell_type": "code",
   "execution_count": null,
   "metadata": {},
   "outputs": [],
   "source": []
  },
  {
   "cell_type": "markdown",
   "metadata": {},
   "source": [
    "### Финальный проект\n",
    "\n",
    "Мы уже прошли всю необходимую теорию для финального проекта. Проект осуществляется на данных из вебинара (данные считаны в начале ДЗ).\n",
    "Рекомендуем вам **начать делать проект сразу после этого домашнего задания**\n",
    "- Целевая метрика - money precision@5. Порог для уcпешной сдачи проекта money precision@5 > 20%\n",
    "\n",
    "Бизнес ограничения в топ-5 товарах:\n",
    "- Для каждого юзера 5 рекомендаций (иногда модели могут возвращать < 5)\n",
    "- **2 новых товара** (юзер никогда не покупал)\n",
    "- **1 дорогой товар, > 7 долларов**\n",
    "- **Все товары из разных категорий** (категория - department)  \n",
    "- **Стоимость каждого рекомендованного товара > 1 доллара**  \n",
    "\n",
    "- Будет public тестовый датасет, на котором вы сможете измерять метрику\n",
    "- Также будет private тестовый датасет для измерения финального качества\n",
    "- НЕ обязательно использовать 2-ух уровневые рекоммендательные системы в проекте\n",
    "- Вы сдаете код проекта в виде github репозитория и .csv файл с рекомендациями. В .csv файле 2 столбца: user_id - (item_id1, item_id2, ..., item_id5)"
   ]
  }
 ],
 "metadata": {
  "kernelspec": {
   "display_name": "Python 3",
   "language": "python",
   "name": "python3"
  },
  "language_info": {
   "codemirror_mode": {
    "name": "ipython",
    "version": 3
   },
   "file_extension": ".py",
   "mimetype": "text/x-python",
   "name": "python",
   "nbconvert_exporter": "python",
   "pygments_lexer": "ipython3",
   "version": "3.7.6"
  }
 },
 "nbformat": 4,
 "nbformat_minor": 2
}
